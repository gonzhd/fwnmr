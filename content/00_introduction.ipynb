{
 "cells": [
  {
   "cell_type": "markdown",
   "metadata": {},
   "source": [
    "# Course Overview\n",
    "\n",
    "The course is divided into several sections, each presented in their own notebook:\n",
    "\n",
    "1.  [My first FID](01_my_first_fid.ipynb)\n",
    "2.  [Making nicer plots](02_nicer_plotting.ipynb)\n",
    "3.  [Basic Processing](03_basic_processing.ipynb)\n",
    "4.  [Working with real data](04_real_data.ipynb)\n",
    "5.  [Phase correction](05_phase_correction.ipynb)\n"
   ]
  },
  {
   "cell_type": "code",
   "execution_count": null,
   "metadata": {},
   "outputs": [],
   "source": []
  }
 ],
 "metadata": {
  "kernelspec": {
   "display_name": "Python 3",
   "language": "python",
   "name": "python3"
  },
  "language_info": {
   "codemirror_mode": {
    "name": "ipython",
    "version": 3
   },
   "file_extension": ".py",
   "mimetype": "text/x-python",
   "name": "python",
   "nbconvert_exporter": "python",
   "pygments_lexer": "ipython3",
   "version": "3.7.2"
  }
 },
 "nbformat": 4,
 "nbformat_minor": 5
}
