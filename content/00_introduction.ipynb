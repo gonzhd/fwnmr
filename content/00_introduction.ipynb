{
 "cells": [
  {
   "cell_type": "markdown",
   "id": "f7f82417-2071-409e-95bd-f0bdcd291531",
   "metadata": {},
   "source": [
    "# Course Overview\n",
    "\n",
    "The course is divided into several sections, each presented in their own notebook:\n",
    "\n",
    "1.  [My first FID](01_my_first_fid.ipynb)\n",
    "2. \n",
    "3. \n",
    "4. \n",
    "5. \n"
   ]
  },
  {
   "cell_type": "code",
   "execution_count": null,
   "id": "79d1f0b0-753d-49f2-a949-26071302f4d3",
   "metadata": {},
   "outputs": [],
   "source": []
  }
 ],
 "metadata": {
  "kernelspec": {
   "display_name": "Python 3",
   "language": "python",
   "name": "python3"
  },
  "language_info": {
   "codemirror_mode": {
    "name": "ipython",
    "version": 3
   },
   "file_extension": ".py",
   "mimetype": "text/x-python",
   "name": "python",
   "nbconvert_exporter": "python",
   "pygments_lexer": "ipython3",
   "version": "3.8.5"
  }
 },
 "nbformat": 4,
 "nbformat_minor": 5
}
