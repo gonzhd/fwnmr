{
 "cells": [
  {
   "cell_type": "markdown",
   "id": "5f11a016-501e-4f11-9b01-fc97340e2ed6",
   "metadata": {
    "slideshow": {
     "slide_type": "slide"
    }
   },
   "source": [
    "# My First FID\n",
    "We are going to construct a synthetic FID to showcase some basic concepts on how to create, manipulate, and visualize data with [Numpy](https://numpy.org/) and [Matplotlib](https://matplotlib.org/)"
   ]
  },
  {
   "cell_type": "markdown",
   "id": "5ffd2487-9460-4e4c-8cbe-3c246c43d72e",
   "metadata": {},
   "source": [
    "First thing we do is to import the libraries we're going to be using, in this case we're importing `numpy` and will reference to it internally as `np` and the module `pyplot` from `matplotlib` as `plt`"
   ]
  },
  {
   "cell_type": "code",
   "execution_count": 2,
   "id": "5adc9056-97b0-47a0-a4f9-15ff8a7c0939",
   "metadata": {
    "slideshow": {
     "slide_type": "subslide"
    },
    "tags": []
   },
   "outputs": [],
   "source": [
    "import numpy as np\n",
    "import matplotlib.pyplot as plt"
   ]
  },
  {
   "cell_type": "markdown",
   "id": "afd0345c-3e21-4ea1-90e6-d3208d7e3a16",
   "metadata": {
    "slideshow": {
     "slide_type": "slide"
    }
   },
   "source": [
    "Matplotlib can show plots with various backend engines. For now, we want to show the plots inline inside the notebook. For that we can use the following notebook command, which is called a `line magic`.\n",
    "Later on in the course we'll delve into interactive plots using the [bokeh](https://bokeh.org) plotting library"
   ]
  },
  {
   "cell_type": "code",
   "execution_count": 54,
   "id": "53d642a5-165a-4d5f-8f5d-e84cf5d89f7d",
   "metadata": {
    "slideshow": {
     "slide_type": "subslide"
    },
    "tags": []
   },
   "outputs": [],
   "source": [
    "%matplotlib inline"
   ]
  },
  {
   "cell_type": "markdown",
   "id": "0a9c554a-9b53-4b3b-8908-a404fc234231",
   "metadata": {
    "slideshow": {
     "slide_type": "slide"
    }
   },
   "source": [
    "Next, we define an array that will hold the time scale of the acquisition. For this we use the numpy function [linspace](https://numpy.org/doc/stable/reference/generated/numpy.linspace.html#numpy.linspace).\n",
    "`linspace` creates a numpy array with given starting and end points evenly spaced for a given number of points.\n",
    "You can learn more about numpy array objects [here](https://numpy.org/doc/stable/reference/arrays.html)"
   ]
  },
  {
   "cell_type": "code",
   "execution_count": 116,
   "id": "032fcf94-1a23-45cb-a7ef-2e9843c93a8f",
   "metadata": {
    "slideshow": {
     "slide_type": "subslide"
    },
    "tags": []
   },
   "outputs": [],
   "source": [
    "# aq=8sec, td=8192\n",
    "t = np.linspace(0.0, 8.0, 8192)"
   ]
  },
  {
   "cell_type": "markdown",
   "id": "bedb5f61-6fbf-43fd-8bd2-54088c9aafd8",
   "metadata": {},
   "source": [
    "A quick way of visualizing the contents of variables is to print them in the notebook, for that just type the name of the variable in a cell, you cn also use the print function to format the output"
   ]
  },
  {
   "cell_type": "code",
   "execution_count": 124,
   "id": "0629a6cf-3815-4dbf-9cd2-3de0d97fceda",
   "metadata": {
    "slideshow": {
     "slide_type": "subslide"
    }
   },
   "outputs": [
    {
     "data": {
      "text/plain": [
       "array([0.00000000e+00, 9.76681724e-04, 1.95336345e-03, ...,\n",
       "       7.99804664e+00, 7.99902332e+00, 8.00000000e+00])"
      ]
     },
     "execution_count": 124,
     "metadata": {},
     "output_type": "execute_result"
    }
   ],
   "source": [
    "t"
   ]
  },
  {
   "cell_type": "code",
   "execution_count": 123,
   "id": "daf0a6c2-5511-4e02-85d0-8dfb1c2139dc",
   "metadata": {
    "slideshow": {
     "slide_type": "subslide"
    }
   },
   "outputs": [
    {
     "name": "stdout",
     "output_type": "stream",
     "text": [
      "first value: 0.000000\n",
      "last value: 8.000000\n",
      "slice from 10 to 20: [0.00976682 0.0107435  0.01172018 0.01269686 0.01367354 0.01465023\n",
      " 0.01562691 0.01660359 0.01758027 0.01855695]\n",
      "min: 0.000000\n",
      "max: 8.000000\n",
      "total integral: 32768.000000\n"
     ]
    }
   ],
   "source": [
    "print('first value: %f\\nlast value: %f\\nslice from 10 to 20: %s\\nmin: %f\\nmax: %f\\ntotal integral: %f' % (t[0], t[-1], t[10:20], t.min(), t.max(), t.sum()))"
   ]
  },
  {
   "cell_type": "markdown",
   "id": "e7314a2a-f3cb-46cf-94bd-3e25a17c4285",
   "metadata": {
    "slideshow": {
     "slide_type": "slide"
    }
   },
   "source": [
    "Next we define a function that creates a sigle frequency component based on frequency and relaxation time. We can call this function later on to create a multitude of signals and add them up to create our first FID."
   ]
  },
  {
   "cell_type": "code",
   "execution_count": 97,
   "id": "1ed8c8b4-3634-4477-9901-ab6181ad4266",
   "metadata": {
    "slideshow": {
     "slide_type": "subslide"
    },
    "tags": []
   },
   "outputs": [],
   "source": [
    "def gen_freq_component(t, frequency=0, rx_time=1, amplitude=1):\n",
    "    # create initial complex array of zeros the same size as our time scale array\n",
    "    comp = np.zeros(t.shape[-1], dtype='complex64')\n",
    "    \n",
    "    # create real part of FID\n",
    "    comp.real = np.cos(2*np.pi*frequency*t) * np.exp(-t/rx_time)\n",
    "    \n",
    "    # create imaginary parto of FID\n",
    "    comp.imag = np.sin(2*np.pi*frequency*t) * np.exp(-t/rx_time)\n",
    "    \n",
    "    return amplitude * comp"
   ]
  },
  {
   "cell_type": "markdown",
   "id": "326ab351-abab-4337-8055-3b0de394c6a3",
   "metadata": {},
   "source": [
    "Let's create our first frequency FID component"
   ]
  },
  {
   "cell_type": "code",
   "execution_count": 113,
   "id": "4a68e2cd-721c-49da-a462-8238ab69cad4",
   "metadata": {},
   "outputs": [
    {
     "data": {
      "text/plain": [
       "array([1.        +0.0000000e+00j, 0.99921066+2.4532242e-02j,\n",
       "       0.99782014+4.9025755e-02j, ..., 0.01831145-8.9969370e-04j,\n",
       "       0.01831906-4.4976274e-04j, 0.01831564-1.4355321e-16j],\n",
       "      dtype=complex64)"
      ]
     },
     "execution_count": 113,
     "metadata": {},
     "output_type": "execute_result"
    }
   ],
   "source": [
    "freq = 4\n",
    "relt = 2\n",
    "\n",
    "comp = gen_freq_component(t, frequency=freq, rx_time=relt)\n",
    "comp"
   ]
  },
  {
   "cell_type": "markdown",
   "id": "942b1c7f-8294-4c4e-87bd-ded379956902",
   "metadata": {},
   "source": [
    "And use matplotlib to create a quick plot if it"
   ]
  },
  {
   "cell_type": "code",
   "execution_count": 114,
   "id": "74d77a42-b572-4296-b1d9-ef701ac7c5a8",
   "metadata": {},
   "outputs": [
    {
     "data": {
      "text/plain": [
       "[<matplotlib.lines.Line2D at 0x7f5cba27c7f0>]"
      ]
     },
     "execution_count": 114,
     "metadata": {},
     "output_type": "execute_result"
    },
    {
     "data": {
      "image/png": "[encoded data removed]",
      "text/plain": [
       "<Figure size 432x288 with 1 Axes>"
      ]
     },
     "metadata": {
      "needs_background": "light"
     },
     "output_type": "display_data"
    }
   ],
   "source": [
    "plt.plot(t, comp.real)"
   ]
  },
  {
   "cell_type": "markdown",
   "id": "3923eddd-dc34-46a4-b73a-9862187813d3",
   "metadata": {
    "slideshow": {
     "slide_type": "slide"
    }
   },
   "source": [
    "Now we are ready to build a synthetic FID by defining some frequency components"
   ]
  },
  {
   "cell_type": "code",
   "execution_count": 147,
   "id": "e7315e3e-6a06-4249-927b-48067193058f",
   "metadata": {
    "slideshow": {
     "slide_type": "subslide"
    }
   },
   "outputs": [
    {
     "data": {
      "text/plain": [
       "[array([ 1.0000000e+00+0.00000000e+00j, -3.2236597e-01-9.36341882e-01j,\n",
       "        -7.7281630e-01+6.03689492e-01j, ...,\n",
       "        -1.4503887e-35-1.13297875e-35j, -5.9329949e-36+1.72329352e-35j,\n",
       "         1.8048513e-35+0.00000000e+00j], dtype=complex64),\n",
       " array([ 2.0000000e+00+0.0000000e+00j,  1.3898095e+00-1.4246236e+00j,\n",
       "        -4.8991043e-02-1.9799554e+00j, ..., -2.1223684e-19+8.5774758e-18j,\n",
       "         5.9623526e-18+6.1117071e-18j,  8.4967083e-18+5.0622290e-30j],\n",
       "       dtype=complex64),\n",
       " array([3.0000000e+00+0.0000000e+00j, 2.8543034e+00+9.0435666e-01j,\n",
       "        2.4430621e+00+1.7208722e+00j, ..., 2.7708700e-07-1.9517772e-07j,\n",
       "        3.2246686e-07-1.0217032e-07j, 3.3760551e-07+5.3055025e-21j],\n",
       "       dtype=complex64),\n",
       " array([ 3.3000001e-01+0.0000000e+00j,  1.2079261e-02+3.2963228e-01j,\n",
       "        -3.2882285e-01+2.4131602e-02j, ..., -8.6792167e-03-6.3694903e-04j,\n",
       "         3.1854684e-04-8.6928606e-03j,  8.6948341e-03-1.1178657e-14j],\n",
       "       dtype=complex64),\n",
       " array([ 1.0000000e+00+0.0000000e+00j, -2.4724958e-02+9.9925029e-01j,\n",
       "        -9.9788988e-01-4.9412843e-02j, ..., -2.6339114e-02+1.3042426e-03j,\n",
       "        -6.5203139e-04-2.6351616e-02j,  2.6347980e-02-3.1395571e-14j],\n",
       "       dtype=complex64),\n",
       " array([ 0.33      +0.0000000e+00j, -0.02836702+3.2863149e-01j,\n",
       "        -0.32483026-5.6498758e-02j, ..., -0.00857383+1.4912741e-03j,\n",
       "        -0.00074808-8.6664688e-03j,  0.00869483-9.5424199e-15j],\n",
       "       dtype=complex64)]"
      ]
     },
     "execution_count": 147,
     "metadata": {},
     "output_type": "execute_result"
    }
   ],
   "source": [
    "freqs = [-310, -130, 50, 250, 260, 270]\n",
    "rx_times = [0.1, 0.2, 0.5, 2.2, 2.2, 2.2]\n",
    "amps = [1, 2, 3, 0.33, 1, 0.33]\n",
    "\n",
    "comps = [gen_freq_component(t, fq, rx, am) for (fq, rx, am) in zip(freqs, rx_times, amps)]\n",
    "\n",
    "comps"
   ]
  },
  {
   "cell_type": "markdown",
   "id": "634eb850-ee3e-4da8-b54a-e47befdd7ce5",
   "metadata": {},
   "source": [
    "Let's look at the lowest frequency component which also as the shortest relaxation time"
   ]
  },
  {
   "cell_type": "code",
   "execution_count": 148,
   "id": "443947cd-d457-4c63-add8-90aa526e0ed1",
   "metadata": {
    "slideshow": {
     "slide_type": "slide"
    }
   },
   "outputs": [
    {
     "data": {
      "text/plain": [
       "[<matplotlib.lines.Line2D at 0x7f5cb30c0880>]"
      ]
     },
     "execution_count": 148,
     "metadata": {},
     "output_type": "execute_result"
    },
    {
     "data": {
      "image/png": "[encoded data removed]",
      "text/plain": [
       "<Figure size 432x288 with 1 Axes>"
      ]
     },
     "metadata": {
      "needs_background": "light"
     },
     "output_type": "display_data"
    }
   ],
   "source": [
    "plt.plot(t, comps[0].real)"
   ]
  },
  {
   "cell_type": "markdown",
   "id": "98f11fdf-357c-4b12-8b5e-e70b16d35846",
   "metadata": {},
   "source": [
    "As we can see, the curve decays very quickly, which is what we expected. \n",
    "in constrast if we look at a slow decaying component we should see a nice exponential envelope"
   ]
  },
  {
   "cell_type": "code",
   "execution_count": 149,
   "id": "fc15a26e-c981-44d4-baaf-20368f27dff8",
   "metadata": {},
   "outputs": [
    {
     "data": {
      "text/plain": [
       "[<matplotlib.lines.Line2D at 0x7f5cb2f8d100>]"
      ]
     },
     "execution_count": 149,
     "metadata": {},
     "output_type": "execute_result"
    },
    {
     "data": {
      "image/png": "[encoded data removed]",
      "text/plain": [
       "<Figure size 432x288 with 1 Axes>"
      ]
     },
     "metadata": {
      "needs_background": "light"
     },
     "output_type": "display_data"
    }
   ],
   "source": [
    "plt.plot(t, comps[4].real)"
   ]
  },
  {
   "cell_type": "markdown",
   "id": "d640d1b9-aa12-431e-aa88-a4aab33db399",
   "metadata": {},
   "source": [
    "Now, if we sum up all components, we'll get our first synthetic FID!"
   ]
  },
  {
   "cell_type": "code",
   "execution_count": 150,
   "id": "29695c1e-81bd-4eb0-9028-a1975efa3bf7",
   "metadata": {
    "slideshow": {
     "slide_type": "slide"
    }
   },
   "outputs": [],
   "source": [
    "fid = np.zeros(len(t), dtype='complex128')\n",
    "for c in comps:\n",
    "    fid += c"
   ]
  },
  {
   "cell_type": "markdown",
   "id": "fd02c5e1-5a02-4bec-9c5f-0ab96535e3a0",
   "metadata": {},
   "source": [
    "And to plot it"
   ]
  },
  {
   "cell_type": "code",
   "execution_count": 151,
   "id": "ee779cab-7f62-4ed5-b8d6-73adc907ec8f",
   "metadata": {},
   "outputs": [
    {
     "data": {
      "text/plain": [
       "[<matplotlib.lines.Line2D at 0x7f5cb2ece910>]"
      ]
     },
     "execution_count": 151,
     "metadata": {},
     "output_type": "execute_result"
    },
    {
     "data": {
      "image/png": "[encoded data removed]",
      "text/plain": [
       "<Figure size 432x288 with 1 Axes>"
      ]
     },
     "metadata": {
      "needs_background": "light"
     },
     "output_type": "display_data"
    }
   ],
   "source": [
    "plt.plot(t, fid.real)"
   ]
  },
  {
   "cell_type": "markdown",
   "id": "10a68959-668c-4629-87df-ae693e21d5e0",
   "metadata": {},
   "source": [
    "Such nice piece of data deserves to be saved, that way we can load it up on following chapters. We can do that directly from numpy by using the `savetxt` function, which will save the data in csv format. Throughout the course we'll be saving results in the output directory."
   ]
  },
  {
   "cell_type": "code",
   "execution_count": 152,
   "id": "a2095cbb-5208-4016-b918-79624e0703cb",
   "metadata": {},
   "outputs": [],
   "source": [
    "with open('output/my_first_fid.csv', 'w') as fout:\n",
    "    np.savetxt(fout, fid, delimiter=',')"
   ]
  },
  {
   "cell_type": "markdown",
   "id": "849934ed-222a-4d2a-8be8-4a08725227cb",
   "metadata": {},
   "source": [
    "### This is the end, my only friend, the end ...\n",
    "(from The Doors, just in case you didn't get the quote ;))"
   ]
  },
  {
   "cell_type": "markdown",
   "id": "a9157618-3b35-45a3-8f4b-530c46a7d467",
   "metadata": {},
   "source": [
    "And just like that we have arrived to the end of this chapter, next up is how to get nicer plots.\n",
    "You can now"
   ]
  },
  {
   "cell_type": "markdown",
   "id": "114da839-2fde-4af3-b9da-f481dbb8866e",
   "metadata": {},
   "source": [
    "go [next](02_nicer_plotting.ipynb) or go [home](00_introduction.ipynb), there's no going [back](00_introduction.ipynb)"
   ]
  },
  {
   "cell_type": "code",
   "execution_count": null,
   "id": "c7641aa1-fd4b-4c5d-9af2-a573e885df26",
   "metadata": {},
   "outputs": [],
   "source": []
  }
 ],
 "metadata": {
  "kernelspec": {
   "display_name": "Python 3",
   "language": "python",
   "name": "python3"
  },
  "language_info": {
   "codemirror_mode": {
    "name": "ipython",
    "version": 3
   },
   "file_extension": ".py",
   "mimetype": "text/x-python",
   "name": "python",
   "nbconvert_exporter": "python",
   "pygments_lexer": "ipython3",
   "version": "3.8.5"
  }
 },
 "nbformat": 4,
 "nbformat_minor": 5
}
