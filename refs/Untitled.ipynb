{
 "cells": [
  {
   "cell_type": "markdown",
   "metadata": {},
   "source": [
    "# Análisis de datos de distribución de combustible 2017 - 2019"
   ]
  },
  {
   "cell_type": "code",
   "execution_count": 161,
   "metadata": {},
   "outputs": [],
   "source": [
    "import os\n",
    "import os.path as op\n",
    "import pandas as pd\n",
    "import numpy as np"
   ]
  },
  {
   "cell_type": "code",
   "execution_count": 162,
   "metadata": {},
   "outputs": [
    {
     "data": {
      "text/html": [
       "\n",
       "    <div class=\"bk-root\">\n",
       "        <a href=\"https://bokeh.pydata.org\" target=\"_blank\" class=\"bk-logo bk-logo-small bk-logo-notebook\"></a>\n",
       "        <span id=\"26335\">Loading BokehJS ...</span>\n",
       "    </div>"
      ]
     },
     "metadata": {},
     "output_type": "display_data"
    },
    {
     "data": {
      "application/javascript": [
       "\n",
       "(function(root) {\n",
       "  function now() {\n",
       "    return new Date();\n",
       "  }\n",
       "\n",
       "  var force = true;\n",
       "\n",
       "  if (typeof root._bokeh_onload_callbacks === \"undefined\" || force === true) {\n",
       "    root._bokeh_onload_callbacks = [];\n",
       "    root._bokeh_is_loading = undefined;\n",
       "  }\n",
       "\n",
       "  var JS_MIME_TYPE = 'application/javascript';\n",
       "  var HTML_MIME_TYPE = 'text/html';\n",
       "  var EXEC_MIME_TYPE = 'application/vnd.bokehjs_exec.v0+json';\n",
       "  var CLASS_NAME = 'output_bokeh rendered_html';\n",
       "\n",
       "  /**\n",
       "   * Render data to the DOM node\n",
       "   */\n",
       "  function render(props, node) {\n",
       "    var script = document.createElement(\"script\");\n",
       "    node.appendChild(script);\n",
       "  }\n",
       "\n",
       "  /**\n",
       "   * Handle when an output is cleared or removed\n",
       "   */\n",
       "  function handleClearOutput(event, handle) {\n",
       "    var cell = handle.cell;\n",
       "\n",
       "    var id = cell.output_area._bokeh_element_id;\n",
       "    var server_id = cell.output_area._bokeh_server_id;\n",
       "    // Clean up Bokeh references\n",
       "    if (id != null && id in Bokeh.index) {\n",
       "      Bokeh.index[id].model.document.clear();\n",
       "      delete Bokeh.index[id];\n",
       "    }\n",
       "\n",
       "    if (server_id !== undefined) {\n",
       "      // Clean up Bokeh references\n",
       "      var cmd = \"from bokeh.io.state import curstate; print(curstate().uuid_to_server['\" + server_id + \"'].get_sessions()[0].document.roots[0]._id)\";\n",
       "      cell.notebook.kernel.execute(cmd, {\n",
       "        iopub: {\n",
       "          output: function(msg) {\n",
       "            var id = msg.content.text.trim();\n",
       "            if (id in Bokeh.index) {\n",
       "              Bokeh.index[id].model.document.clear();\n",
       "              delete Bokeh.index[id];\n",
       "            }\n",
       "          }\n",
       "        }\n",
       "      });\n",
       "      // Destroy server and session\n",
       "      var cmd = \"import bokeh.io.notebook as ion; ion.destroy_server('\" + server_id + \"')\";\n",
       "      cell.notebook.kernel.execute(cmd);\n",
       "    }\n",
       "  }\n",
       "\n",
       "  /**\n",
       "   * Handle when a new output is added\n",
       "   */\n",
       "  function handleAddOutput(event, handle) {\n",
       "    var output_area = handle.output_area;\n",
       "    var output = handle.output;\n",
       "\n",
       "    // limit handleAddOutput to display_data with EXEC_MIME_TYPE content only\n",
       "    if ((output.output_type != \"display_data\") || (!output.data.hasOwnProperty(EXEC_MIME_TYPE))) {\n",
       "      return\n",
       "    }\n",
       "\n",
       "    var toinsert = output_area.element.find(\".\" + CLASS_NAME.split(' ')[0]);\n",
       "\n",
       "    if (output.metadata[EXEC_MIME_TYPE][\"id\"] !== undefined) {\n",
       "      toinsert[toinsert.length - 1].firstChild.textContent = output.data[JS_MIME_TYPE];\n",
       "      // store reference to embed id on output_area\n",
       "      output_area._bokeh_element_id = output.metadata[EXEC_MIME_TYPE][\"id\"];\n",
       "    }\n",
       "    if (output.metadata[EXEC_MIME_TYPE][\"server_id\"] !== undefined) {\n",
       "      var bk_div = document.createElement(\"div\");\n",
       "      bk_div.innerHTML = output.data[HTML_MIME_TYPE];\n",
       "      var script_attrs = bk_div.children[0].attributes;\n",
       "      for (var i = 0; i < script_attrs.length; i++) {\n",
       "        toinsert[toinsert.length - 1].firstChild.setAttribute(script_attrs[i].name, script_attrs[i].value);\n",
       "      }\n",
       "      // store reference to server id on output_area\n",
       "      output_area._bokeh_server_id = output.metadata[EXEC_MIME_TYPE][\"server_id\"];\n",
       "    }\n",
       "  }\n",
       "\n",
       "  function register_renderer(events, OutputArea) {\n",
       "\n",
       "    function append_mime(data, metadata, element) {\n",
       "      // create a DOM node to render to\n",
       "      var toinsert = this.create_output_subarea(\n",
       "        metadata,\n",
       "        CLASS_NAME,\n",
       "        EXEC_MIME_TYPE\n",
       "      );\n",
       "      this.keyboard_manager.register_events(toinsert);\n",
       "      // Render to node\n",
       "      var props = {data: data, metadata: metadata[EXEC_MIME_TYPE]};\n",
       "      render(props, toinsert[toinsert.length - 1]);\n",
       "      element.append(toinsert);\n",
       "      return toinsert\n",
       "    }\n",
       "\n",
       "    /* Handle when an output is cleared or removed */\n",
       "    events.on('clear_output.CodeCell', handleClearOutput);\n",
       "    events.on('delete.Cell', handleClearOutput);\n",
       "\n",
       "    /* Handle when a new output is added */\n",
       "    events.on('output_added.OutputArea', handleAddOutput);\n",
       "\n",
       "    /**\n",
       "     * Register the mime type and append_mime function with output_area\n",
       "     */\n",
       "    OutputArea.prototype.register_mime_type(EXEC_MIME_TYPE, append_mime, {\n",
       "      /* Is output safe? */\n",
       "      safe: true,\n",
       "      /* Index of renderer in `output_area.display_order` */\n",
       "      index: 0\n",
       "    });\n",
       "  }\n",
       "\n",
       "  // register the mime type if in Jupyter Notebook environment and previously unregistered\n",
       "  if (root.Jupyter !== undefined) {\n",
       "    var events = require('base/js/events');\n",
       "    var OutputArea = require('notebook/js/outputarea').OutputArea;\n",
       "\n",
       "    if (OutputArea.prototype.mime_types().indexOf(EXEC_MIME_TYPE) == -1) {\n",
       "      register_renderer(events, OutputArea);\n",
       "    }\n",
       "  }\n",
       "\n",
       "  \n",
       "  if (typeof (root._bokeh_timeout) === \"undefined\" || force === true) {\n",
       "    root._bokeh_timeout = Date.now() + 5000;\n",
       "    root._bokeh_failed_load = false;\n",
       "  }\n",
       "\n",
       "  var NB_LOAD_WARNING = {'data': {'text/html':\n",
       "     \"<div style='background-color: #fdd'>\\n\"+\n",
       "     \"<p>\\n\"+\n",
       "     \"BokehJS does not appear to have successfully loaded. If loading BokehJS from CDN, this \\n\"+\n",
       "     \"may be due to a slow or bad network connection. Possible fixes:\\n\"+\n",
       "     \"</p>\\n\"+\n",
       "     \"<ul>\\n\"+\n",
       "     \"<li>re-rerun `output_notebook()` to attempt to load from CDN again, or</li>\\n\"+\n",
       "     \"<li>use INLINE resources instead, as so:</li>\\n\"+\n",
       "     \"</ul>\\n\"+\n",
       "     \"<code>\\n\"+\n",
       "     \"from bokeh.resources import INLINE\\n\"+\n",
       "     \"output_notebook(resources=INLINE)\\n\"+\n",
       "     \"</code>\\n\"+\n",
       "     \"</div>\"}};\n",
       "\n",
       "  function display_loaded() {\n",
       "    var el = document.getElementById(\"26335\");\n",
       "    if (el != null) {\n",
       "      el.textContent = \"BokehJS is loading...\";\n",
       "    }\n",
       "    if (root.Bokeh !== undefined) {\n",
       "      if (el != null) {\n",
       "        el.textContent = \"BokehJS \" + root.Bokeh.version + \" successfully loaded.\";\n",
       "      }\n",
       "    } else if (Date.now() < root._bokeh_timeout) {\n",
       "      setTimeout(display_loaded, 100)\n",
       "    }\n",
       "  }\n",
       "\n",
       "\n",
       "  function run_callbacks() {\n",
       "    try {\n",
       "      root._bokeh_onload_callbacks.forEach(function(callback) {\n",
       "        if (callback != null)\n",
       "          callback();\n",
       "      });\n",
       "    } finally {\n",
       "      delete root._bokeh_onload_callbacks\n",
       "    }\n",
       "    console.debug(\"Bokeh: all callbacks have finished\");\n",
       "  }\n",
       "\n",
       "  function load_libs(css_urls, js_urls, callback) {\n",
       "    if (css_urls == null) css_urls = [];\n",
       "    if (js_urls == null) js_urls = [];\n",
       "\n",
       "    root._bokeh_onload_callbacks.push(callback);\n",
       "    if (root._bokeh_is_loading > 0) {\n",
       "      console.debug(\"Bokeh: BokehJS is being loaded, scheduling callback at\", now());\n",
       "      return null;\n",
       "    }\n",
       "    if (js_urls == null || js_urls.length === 0) {\n",
       "      run_callbacks();\n",
       "      return null;\n",
       "    }\n",
       "    console.debug(\"Bokeh: BokehJS not loaded, scheduling load and callback at\", now());\n",
       "    root._bokeh_is_loading = css_urls.length + js_urls.length;\n",
       "\n",
       "    function on_load() {\n",
       "      root._bokeh_is_loading--;\n",
       "      if (root._bokeh_is_loading === 0) {\n",
       "        console.debug(\"Bokeh: all BokehJS libraries/stylesheets loaded\");\n",
       "        run_callbacks()\n",
       "      }\n",
       "    }\n",
       "\n",
       "    function on_error() {\n",
       "      console.error(\"failed to load \" + url);\n",
       "    }\n",
       "\n",
       "    for (var i = 0; i < css_urls.length; i++) {\n",
       "      var url = css_urls[i];\n",
       "      const element = document.createElement(\"link\");\n",
       "      element.onload = on_load;\n",
       "      element.onerror = on_error;\n",
       "      element.rel = \"stylesheet\";\n",
       "      element.type = \"text/css\";\n",
       "      element.href = url;\n",
       "      console.debug(\"Bokeh: injecting link tag for BokehJS stylesheet: \", url);\n",
       "      document.body.appendChild(element);\n",
       "    }\n",
       "\n",
       "    for (var i = 0; i < js_urls.length; i++) {\n",
       "      var url = js_urls[i];\n",
       "      var element = document.createElement('script');\n",
       "      element.onload = on_load;\n",
       "      element.onerror = on_error;\n",
       "      element.async = false;\n",
       "      element.src = url;\n",
       "      console.debug(\"Bokeh: injecting script tag for BokehJS library: \", url);\n",
       "      document.head.appendChild(element);\n",
       "    }\n",
       "  };var element = document.getElementById(\"26335\");\n",
       "  if (element == null) {\n",
       "    console.error(\"Bokeh: ERROR: autoload.js configured with elementid '26335' but no matching script tag was found. \")\n",
       "    return false;\n",
       "  }\n",
       "\n",
       "  function inject_raw_css(css) {\n",
       "    const element = document.createElement(\"style\");\n",
       "    element.appendChild(document.createTextNode(css));\n",
       "    document.body.appendChild(element);\n",
       "  }\n",
       "\n",
       "  var js_urls = [\"https://cdn.pydata.org/bokeh/release/bokeh-1.3.0.min.js\", \"https://cdn.pydata.org/bokeh/release/bokeh-widgets-1.3.0.min.js\", \"https://cdn.pydata.org/bokeh/release/bokeh-tables-1.3.0.min.js\", \"https://cdn.pydata.org/bokeh/release/bokeh-gl-1.3.0.min.js\"];\n",
       "  var css_urls = [];\n",
       "\n",
       "  var inline_js = [\n",
       "    function(Bokeh) {\n",
       "      Bokeh.set_log_level(\"info\");\n",
       "    },\n",
       "    \n",
       "    function(Bokeh) {\n",
       "      \n",
       "    },\n",
       "    function(Bokeh) {} // ensure no trailing comma for IE\n",
       "  ];\n",
       "\n",
       "  function run_inline_js() {\n",
       "    \n",
       "    if ((root.Bokeh !== undefined) || (force === true)) {\n",
       "      for (var i = 0; i < inline_js.length; i++) {\n",
       "        inline_js[i].call(root, root.Bokeh);\n",
       "      }if (force === true) {\n",
       "        display_loaded();\n",
       "      }} else if (Date.now() < root._bokeh_timeout) {\n",
       "      setTimeout(run_inline_js, 100);\n",
       "    } else if (!root._bokeh_failed_load) {\n",
       "      console.log(\"Bokeh: BokehJS failed to load within specified timeout.\");\n",
       "      root._bokeh_failed_load = true;\n",
       "    } else if (force !== true) {\n",
       "      var cell = $(document.getElementById(\"26335\")).parents('.cell').data().cell;\n",
       "      cell.output_area.append_execute_result(NB_LOAD_WARNING)\n",
       "    }\n",
       "\n",
       "  }\n",
       "\n",
       "  if (root._bokeh_is_loading === 0) {\n",
       "    console.debug(\"Bokeh: BokehJS loaded, going straight to plotting\");\n",
       "    run_inline_js();\n",
       "  } else {\n",
       "    load_libs(css_urls, js_urls, function() {\n",
       "      console.debug(\"Bokeh: BokehJS plotting callback run at\", now());\n",
       "      run_inline_js();\n",
       "    });\n",
       "  }\n",
       "}(window));"
      ],
      "application/vnd.bokehjs_load.v0+json": "\n(function(root) {\n  function now() {\n    return new Date();\n  }\n\n  var force = true;\n\n  if (typeof root._bokeh_onload_callbacks === \"undefined\" || force === true) {\n    root._bokeh_onload_callbacks = [];\n    root._bokeh_is_loading = undefined;\n  }\n\n  \n\n  \n  if (typeof (root._bokeh_timeout) === \"undefined\" || force === true) {\n    root._bokeh_timeout = Date.now() + 5000;\n    root._bokeh_failed_load = false;\n  }\n\n  var NB_LOAD_WARNING = {'data': {'text/html':\n     \"<div style='background-color: #fdd'>\\n\"+\n     \"<p>\\n\"+\n     \"BokehJS does not appear to have successfully loaded. If loading BokehJS from CDN, this \\n\"+\n     \"may be due to a slow or bad network connection. Possible fixes:\\n\"+\n     \"</p>\\n\"+\n     \"<ul>\\n\"+\n     \"<li>re-rerun `output_notebook()` to attempt to load from CDN again, or</li>\\n\"+\n     \"<li>use INLINE resources instead, as so:</li>\\n\"+\n     \"</ul>\\n\"+\n     \"<code>\\n\"+\n     \"from bokeh.resources import INLINE\\n\"+\n     \"output_notebook(resources=INLINE)\\n\"+\n     \"</code>\\n\"+\n     \"</div>\"}};\n\n  function display_loaded() {\n    var el = document.getElementById(\"26335\");\n    if (el != null) {\n      el.textContent = \"BokehJS is loading...\";\n    }\n    if (root.Bokeh !== undefined) {\n      if (el != null) {\n        el.textContent = \"BokehJS \" + root.Bokeh.version + \" successfully loaded.\";\n      }\n    } else if (Date.now() < root._bokeh_timeout) {\n      setTimeout(display_loaded, 100)\n    }\n  }\n\n\n  function run_callbacks() {\n    try {\n      root._bokeh_onload_callbacks.forEach(function(callback) {\n        if (callback != null)\n          callback();\n      });\n    } finally {\n      delete root._bokeh_onload_callbacks\n    }\n    console.debug(\"Bokeh: all callbacks have finished\");\n  }\n\n  function load_libs(css_urls, js_urls, callback) {\n    if (css_urls == null) css_urls = [];\n    if (js_urls == null) js_urls = [];\n\n    root._bokeh_onload_callbacks.push(callback);\n    if (root._bokeh_is_loading > 0) {\n      console.debug(\"Bokeh: BokehJS is being loaded, scheduling callback at\", now());\n      return null;\n    }\n    if (js_urls == null || js_urls.length === 0) {\n      run_callbacks();\n      return null;\n    }\n    console.debug(\"Bokeh: BokehJS not loaded, scheduling load and callback at\", now());\n    root._bokeh_is_loading = css_urls.length + js_urls.length;\n\n    function on_load() {\n      root._bokeh_is_loading--;\n      if (root._bokeh_is_loading === 0) {\n        console.debug(\"Bokeh: all BokehJS libraries/stylesheets loaded\");\n        run_callbacks()\n      }\n    }\n\n    function on_error() {\n      console.error(\"failed to load \" + url);\n    }\n\n    for (var i = 0; i < css_urls.length; i++) {\n      var url = css_urls[i];\n      const element = document.createElement(\"link\");\n      element.onload = on_load;\n      element.onerror = on_error;\n      element.rel = \"stylesheet\";\n      element.type = \"text/css\";\n      element.href = url;\n      console.debug(\"Bokeh: injecting link tag for BokehJS stylesheet: \", url);\n      document.body.appendChild(element);\n    }\n\n    for (var i = 0; i < js_urls.length; i++) {\n      var url = js_urls[i];\n      var element = document.createElement('script');\n      element.onload = on_load;\n      element.onerror = on_error;\n      element.async = false;\n      element.src = url;\n      console.debug(\"Bokeh: injecting script tag for BokehJS library: \", url);\n      document.head.appendChild(element);\n    }\n  };var element = document.getElementById(\"26335\");\n  if (element == null) {\n    console.error(\"Bokeh: ERROR: autoload.js configured with elementid '26335' but no matching script tag was found. \")\n    return false;\n  }\n\n  function inject_raw_css(css) {\n    const element = document.createElement(\"style\");\n    element.appendChild(document.createTextNode(css));\n    document.body.appendChild(element);\n  }\n\n  var js_urls = [\"https://cdn.pydata.org/bokeh/release/bokeh-1.3.0.min.js\", \"https://cdn.pydata.org/bokeh/release/bokeh-widgets-1.3.0.min.js\", \"https://cdn.pydata.org/bokeh/release/bokeh-tables-1.3.0.min.js\", \"https://cdn.pydata.org/bokeh/release/bokeh-gl-1.3.0.min.js\"];\n  var css_urls = [];\n\n  var inline_js = [\n    function(Bokeh) {\n      Bokeh.set_log_level(\"info\");\n    },\n    \n    function(Bokeh) {\n      \n    },\n    function(Bokeh) {} // ensure no trailing comma for IE\n  ];\n\n  function run_inline_js() {\n    \n    if ((root.Bokeh !== undefined) || (force === true)) {\n      for (var i = 0; i < inline_js.length; i++) {\n        inline_js[i].call(root, root.Bokeh);\n      }if (force === true) {\n        display_loaded();\n      }} else if (Date.now() < root._bokeh_timeout) {\n      setTimeout(run_inline_js, 100);\n    } else if (!root._bokeh_failed_load) {\n      console.log(\"Bokeh: BokehJS failed to load within specified timeout.\");\n      root._bokeh_failed_load = true;\n    } else if (force !== true) {\n      var cell = $(document.getElementById(\"26335\")).parents('.cell').data().cell;\n      cell.output_area.append_execute_result(NB_LOAD_WARNING)\n    }\n\n  }\n\n  if (root._bokeh_is_loading === 0) {\n    console.debug(\"Bokeh: BokehJS loaded, going straight to plotting\");\n    run_inline_js();\n  } else {\n    load_libs(css_urls, js_urls, function() {\n      console.debug(\"Bokeh: BokehJS plotting callback run at\", now());\n      run_inline_js();\n    });\n  }\n}(window));"
     },
     "metadata": {},
     "output_type": "display_data"
    }
   ],
   "source": [
    "from bokeh.plotting import figure, show, output_notebook\n",
    "from bokeh.models import ColumnDataSource, FactorRange\n",
    "from bokeh.transform import factor_cmap\n",
    "\n",
    "output_notebook()"
   ]
  },
  {
   "cell_type": "code",
   "execution_count": 163,
   "metadata": {},
   "outputs": [],
   "source": [
    "HOUR = np.timedelta64(1, 'h')\n",
    "MIN = np.timedelta64(1, 'm')\n",
    "SEC = np.timedelta64(1, 's')"
   ]
  },
  {
   "cell_type": "code",
   "execution_count": 164,
   "metadata": {},
   "outputs": [],
   "source": [
    "def read_file(fname, sheet_name):\n",
    "    week_days = ['Monday','Tuesday','Wednesday','Thursday','Friday','Saturday','Sunday']\n",
    "    \n",
    "    df = pd.read_excel(fname, sheet_name=sheet_name)\n",
    "    df['dia'] = df['FECHA'].dt.day_name()\n",
    "    df['dia'] = pd.Categorical(df['dia'], categories=week_days)\n",
    "\n",
    "    return df\n",
    "\n",
    "def read_files(flist):\n",
    "    \n",
    "    for fname,sheet_name in flist:\n",
    "        df = read_file(fname, sheet_name)\n",
    "        \n",
    "    "
   ]
  },
  {
   "cell_type": "code",
   "execution_count": 165,
   "metadata": {},
   "outputs": [],
   "source": [
    "def plot_litros_por_chofer(df, title=''):\n",
    "        \n",
    "    pv = pd.pivot_table(df, values='TOTCARGA', index='NOMCHOFER', aggfunc=['sum'])\n",
    "    pv = pv.sort_values(('sum', 'TOTCARGA'), ascending=True)\n",
    "    \n",
    "    index = pv.index.values\n",
    "    litros = pv[('sum', 'TOTCARGA')]\n",
    "    maxvol = litros.max()\n",
    "    totvol = litros.sum()\n",
    "    percent = litros/totvol*100\n",
    "    \n",
    "    p = figure(y_range=index, \n",
    "               plot_width=900, \n",
    "               plot_height=1200,\n",
    "               title=title,\n",
    "               x_range = (-1,litros.max()*1.2),\n",
    "               x_axis_label='Carga Total (litros)',\n",
    "               y_axis_label='Chofer')\n",
    "\n",
    "    p.hbar(y=index, \n",
    "           right=litros, \n",
    "           height=0.7, \n",
    "           left=0,\n",
    "           color=\"firebrick\")\n",
    "\n",
    "    # format x axis to not use scientific notation\n",
    "    p.axis[0].formatter.use_scientific = False\n",
    "    \n",
    "    # insertar porcentaje del total al final de cada barra\n",
    "    p.text(litros+maxvol/100, index, ['%.1f (%.2f%%)' % (h,r) for (h,r) in zip(litros,percent)],\n",
    "           text_font_size=\"6pt\", text_align=\"left\", text_baseline=\"middle\")\n",
    "\n",
    "    show(p)\n",
    "    \n",
    "    return p"
   ]
  },
  {
   "cell_type": "code",
   "execution_count": 166,
   "metadata": {},
   "outputs": [],
   "source": [
    "def plot_vol_por_dia(df, title=''):\n",
    "    \n",
    "    dias = ['Lunes','Martes','Miércoles','Jueves','Viernes','Sábado','Domingo']\n",
    "    \n",
    "    pv = pd.pivot_table(df, values='TOTCARGA', index='dia', aggfunc=['sum'])\n",
    "    \n",
    "    litros = pv[('sum', 'TOTCARGA')]\n",
    "    maxvol = litros.max()\n",
    "    totvol = litros.sum()\n",
    "    percent = litros/totvol*100\n",
    "\n",
    "    p = figure(x_range=dias, \n",
    "               plot_width=800, \n",
    "               plot_height=600,\n",
    "               title=title,\n",
    "               x_axis_label='Día de la Semana',\n",
    "               y_axis_label='Volumen Distribuído (L)')\n",
    "\n",
    "    p.vbar(x=dias, \n",
    "           width=0.5, \n",
    "           top=litros, \n",
    "           bottom=0,\n",
    "           color=\"firebrick\")\n",
    "    \n",
    "    # format x axis to not use scientific notation\n",
    "    p.left[0].formatter.use_scientific = False\n",
    "    \n",
    "    p.text(dias, litros+maxvol/100, ['%.2f%%' % r for r in percent],\n",
    "           text_font_size=\"8pt\", text_align=\"center\", text_baseline=\"bottom\")\n",
    "\n",
    "    show(p)"
   ]
  },
  {
   "cell_type": "code",
   "execution_count": 167,
   "metadata": {},
   "outputs": [],
   "source": [
    "def plot_vol_trend(dfs, title=''):\n",
    "    \n",
    "    dias = ['Lunes','Martes','Miércoles','Jueves','Viernes','Sábado','Domingo']\n",
    "    years = ['2017', '2018', '2019', '2020']\n",
    "\n",
    "    # create data for plotting\n",
    "    vol_total = {'dias': dias,}\n",
    "    vol_percent = {'dias': dias,}\n",
    "    for i, year in enumerate(years):\n",
    "        pv = pd.pivot_table(dfs[year], values='TOTCARGA', index='dia', aggfunc=['sum'])\n",
    "        litros = pv[('sum', 'TOTCARGA')]\n",
    "        maxvol = litros.max()\n",
    "        totvol = litros.sum()\n",
    "        percent = litros/totvol*100\n",
    "        vol_total[year] = litros\n",
    "        vol_percent[year] = percent\n",
    "        \n",
    "    x = [(dia, year) for dia in dias for year in years]\n",
    "    counts = sum(zip(vol_total))\n",
    "        \n",
    "    # create figure and plot data\n",
    "    p = figure(x_range=dias, \n",
    "               plot_width=800, \n",
    "               plot_height=600,\n",
    "               title=title,\n",
    "               x_axis_label='Día de la Semana',\n",
    "               y_axis_label='Volumen Distribuído (L)')\n",
    "\n",
    "    p.vbar(x=dodge(dias, i-2, range=p.x_range), \n",
    "           width=0.5, \n",
    "           top=litros, \n",
    "           bottom=0,\n",
    "           color=\"firebrick\")\n",
    "    \n",
    "    # format x axis to not use scientific notation\n",
    "    p.left[0].formatter.use_scientific = False\n",
    "    \n",
    "    p.text(dias, litros+maxvol/100, ['%.2f%%' % r for r in percent],\n",
    "           text_font_size=\"8pt\", text_align=\"center\", text_baseline=\"bottom\")\n",
    "\n",
    "    show(p)\n",
    "    "
   ]
  },
  {
   "cell_type": "code",
   "execution_count": 168,
   "metadata": {},
   "outputs": [],
   "source": [
    "dfs = {}\n",
    "dfs['2017'] = read_file('VIAJ2017.xlsx', 'VIAJ2017')\n",
    "dfs['2018'] = read_file('VIAJ2018.xlsx', 'VIAJ2018')\n",
    "dfs['2019'] = read_file('VIAJ2019.xlsx', 'VIAJ2019')\n",
    "dfs['2020'] = read_file('VIAJ2020.xlsx', 'VIAJ2020')"
   ]
  },
  {
   "cell_type": "code",
   "execution_count": 184,
   "metadata": {},
   "outputs": [
    {
     "data": {
      "text/html": [
       "\n",
       "\n",
       "\n",
       "\n",
       "\n",
       "\n",
       "  <div class=\"bk-root\" id=\"26558aa8-9e62-42b9-9fc8-cbe46c1b04f4\" data-root-id=\"36276\"></div>\n"
      ]
     },
     "metadata": {},
     "output_type": "display_data"
    },
    {
     "data": {
      "application/javascript": [
       "(function(root) {\n",
       "  function embed_document(root) {\n",
       "    \n",
       "  var docs_json = {\"873d61a9-4d93-479b-bbbf-14b93fe169fd\":{\"roots\":{\"references\":[{\"attributes\":{\"below\":[{\"id\":\"36286\",\"type\":\"CategoricalAxis\"}],\"center\":[{\"id\":\"36289\",\"type\":\"Grid\"},{\"id\":\"36294\",\"type\":\"Grid\"}],\"left\":[{\"id\":\"36290\",\"type\":\"LinearAxis\"}],\"plot_width\":800,\"renderers\":[{\"id\":\"36312\",\"type\":\"GlyphRenderer\"},{\"id\":\"36318\",\"type\":\"GlyphRenderer\"}],\"title\":{\"id\":\"36277\",\"type\":\"Title\"},\"toolbar\":{\"id\":\"36301\",\"type\":\"Toolbar\"},\"x_range\":{\"id\":\"36275\",\"type\":\"FactorRange\"},\"x_scale\":{\"id\":\"36282\",\"type\":\"CategoricalScale\"},\"y_range\":{\"id\":\"36280\",\"type\":\"DataRange1d\"},\"y_scale\":{\"id\":\"36284\",\"type\":\"LinearScale\"}},\"id\":\"36276\",\"subtype\":\"Figure\",\"type\":\"Plot\"},{\"attributes\":{\"fill_color\":{\"field\":\"x\",\"transform\":{\"id\":\"36308\",\"type\":\"CategoricalColorMapper\"}},\"line_color\":{\"value\":\"white\"},\"top\":{\"field\":\"counts\"},\"width\":{\"value\":0.8},\"x\":{\"field\":\"x\"}},\"id\":\"36310\",\"type\":\"VBar\"},{\"attributes\":{\"data_source\":{\"id\":\"36274\",\"type\":\"ColumnDataSource\"},\"glyph\":{\"id\":\"36310\",\"type\":\"VBar\"},\"hover_glyph\":null,\"muted_glyph\":null,\"nonselection_glyph\":{\"id\":\"36311\",\"type\":\"VBar\"},\"selection_glyph\":null,\"view\":{\"id\":\"36313\",\"type\":\"CDSView\"}},\"id\":\"36312\",\"type\":\"GlyphRenderer\"},{\"attributes\":{\"end\":2,\"factors\":[\"2017\",\"2018\",\"2019\",\"2020\"],\"palette\":[\"#0868ac\",\"#43a2ca\",\"#7bccc4\",\"#a8ddb5\",\"#ccebc5\",\"#f0f9e8\"],\"start\":1},\"id\":\"36308\",\"type\":\"CategoricalColorMapper\"},{\"attributes\":{},\"id\":\"36298\",\"type\":\"SaveTool\"},{\"attributes\":{\"fill_alpha\":{\"value\":0.1},\"fill_color\":{\"value\":\"#1f77b4\"},\"line_alpha\":{\"value\":0.1},\"line_color\":{\"value\":\"#1f77b4\"},\"top\":{\"field\":\"counts\"},\"width\":{\"value\":0.8},\"x\":{\"field\":\"x\"}},\"id\":\"36311\",\"type\":\"VBar\"},{\"attributes\":{},\"id\":\"36299\",\"type\":\"ResetTool\"},{\"attributes\":{\"bottom_units\":\"screen\",\"fill_alpha\":{\"value\":0.5},\"fill_color\":{\"value\":\"lightgrey\"},\"left_units\":\"screen\",\"level\":\"overlay\",\"line_alpha\":{\"value\":1.0},\"line_color\":{\"value\":\"black\"},\"line_dash\":[4,4],\"line_width\":{\"value\":2},\"render_mode\":\"css\",\"right_units\":\"screen\",\"top_units\":\"screen\"},\"id\":\"37037\",\"type\":\"BoxAnnotation\"},{\"attributes\":{},\"id\":\"37033\",\"type\":\"CategoricalTickFormatter\"},{\"attributes\":{},\"id\":\"36282\",\"type\":\"CategoricalScale\"},{\"attributes\":{\"angle\":{\"units\":\"rad\",\"value\":1.5707963267948966},\"text_alpha\":{\"value\":0.1},\"text_baseline\":\"middle\",\"text_color\":{\"value\":\"black\"},\"text_font_size\":{\"value\":\"8pt\"},\"x\":{\"field\":\"x\"},\"y\":{\"field\":\"y\"},\"y_offset\":{\"value\":-10}},\"id\":\"36317\",\"type\":\"Text\"},{\"attributes\":{},\"id\":\"37040\",\"type\":\"UnionRenderers\"},{\"attributes\":{\"axis_label\":\"Volumen Distribu\\u00eddo (L)\",\"formatter\":{\"id\":\"36314\",\"type\":\"BasicTickFormatter\"},\"ticker\":{\"id\":\"36291\",\"type\":\"BasicTicker\"}},\"id\":\"36290\",\"type\":\"LinearAxis\"},{\"attributes\":{\"overlay\":{\"id\":\"37037\",\"type\":\"BoxAnnotation\"}},\"id\":\"36297\",\"type\":\"BoxZoomTool\"},{\"attributes\":{},\"id\":\"37041\",\"type\":\"Selection\"},{\"attributes\":{},\"id\":\"36295\",\"type\":\"PanTool\"},{\"attributes\":{\"source\":{\"id\":\"36274\",\"type\":\"ColumnDataSource\"}},\"id\":\"36313\",\"type\":\"CDSView\"},{\"attributes\":{},\"id\":\"36287\",\"type\":\"CategoricalTicker\"},{\"attributes\":{},\"id\":\"36300\",\"type\":\"HelpTool\"},{\"attributes\":{\"use_scientific\":false},\"id\":\"36314\",\"type\":\"BasicTickFormatter\"},{\"attributes\":{\"callback\":null,\"data\":{\"text\":[\"58214923.00\",\"63212392.00\",\"67043841.00\",\"48341333.00\",\"54618329.00\",\"51655302.00\",\"54838807.00\",\"38869196.00\",\"53086339.00\",\"55187197.00\",\"52187701.00\",\"37084978.00\",\"55236585.00\",\"56241622.00\",\"59962023.00\",\"41919692.00\",\"73271256.00\",\"73007519.00\",\"76708427.00\",\"53167038.00\",\"8635738.00\",\"6407964.00\",\"12523215.00\",\"14340732.00\",\"0.00\",\"0.00\",\"0.00\",\"0.00\"],\"x\":[[\"Lunes\",\"2017\"],[\"Lunes\",\"2018\"],[\"Lunes\",\"2019\"],[\"Lunes\",\"2020\"],[\"Martes\",\"2017\"],[\"Martes\",\"2018\"],[\"Martes\",\"2019\"],[\"Martes\",\"2020\"],[\"Mi\\u00e9rcoles\",\"2017\"],[\"Mi\\u00e9rcoles\",\"2018\"],[\"Mi\\u00e9rcoles\",\"2019\"],[\"Mi\\u00e9rcoles\",\"2020\"],[\"Jueves\",\"2017\"],[\"Jueves\",\"2018\"],[\"Jueves\",\"2019\"],[\"Jueves\",\"2020\"],[\"Viernes\",\"2017\"],[\"Viernes\",\"2018\"],[\"Viernes\",\"2019\"],[\"Viernes\",\"2020\"],[\"S\\u00e1bado\",\"2017\"],[\"S\\u00e1bado\",\"2018\"],[\"S\\u00e1bado\",\"2019\"],[\"S\\u00e1bado\",\"2020\"],[\"Domingo\",\"2017\"],[\"Domingo\",\"2018\"],[\"Domingo\",\"2019\"],[\"Domingo\",\"2020\"]],\"y\":[58214923,63212392,67043841,48341333.0,54618329,51655302,54838807,38869196.0,53086339,55187197,52187701,37084978.0,55236585,56241622,59962023,41919692.0,73271256,73007519,76708427,53167038.0,8635738,6407964,12523215,14340732.0,0,0,0,0.0]},\"selected\":{\"id\":\"37041\",\"type\":\"Selection\"},\"selection_policy\":{\"id\":\"37040\",\"type\":\"UnionRenderers\"}},\"id\":\"36315\",\"type\":\"ColumnDataSource\"},{\"attributes\":{},\"id\":\"36291\",\"type\":\"BasicTicker\"},{\"attributes\":{\"callback\":null,\"end\":92050112.39999999,\"start\":0},\"id\":\"36280\",\"type\":\"DataRange1d\"},{\"attributes\":{\"angle\":{\"units\":\"rad\",\"value\":1.5707963267948966},\"text_baseline\":\"middle\",\"text_color\":{\"value\":\"black\"},\"text_font_size\":{\"value\":\"8pt\"},\"x\":{\"field\":\"x\"},\"y\":{\"field\":\"y\"},\"y_offset\":{\"value\":-10}},\"id\":\"36316\",\"type\":\"Text\"},{\"attributes\":{\"dimension\":1,\"ticker\":{\"id\":\"36291\",\"type\":\"BasicTicker\"}},\"id\":\"36294\",\"type\":\"Grid\"},{\"attributes\":{},\"id\":\"36284\",\"type\":\"LinearScale\"},{\"attributes\":{\"source\":{\"id\":\"36315\",\"type\":\"ColumnDataSource\"}},\"id\":\"36319\",\"type\":\"CDSView\"},{\"attributes\":{\"callback\":null,\"factors\":[[\"Lunes\",\"2017\"],[\"Lunes\",\"2018\"],[\"Lunes\",\"2019\"],[\"Lunes\",\"2020\"],[\"Martes\",\"2017\"],[\"Martes\",\"2018\"],[\"Martes\",\"2019\"],[\"Martes\",\"2020\"],[\"Mi\\u00e9rcoles\",\"2017\"],[\"Mi\\u00e9rcoles\",\"2018\"],[\"Mi\\u00e9rcoles\",\"2019\"],[\"Mi\\u00e9rcoles\",\"2020\"],[\"Jueves\",\"2017\"],[\"Jueves\",\"2018\"],[\"Jueves\",\"2019\"],[\"Jueves\",\"2020\"],[\"Viernes\",\"2017\"],[\"Viernes\",\"2018\"],[\"Viernes\",\"2019\"],[\"Viernes\",\"2020\"],[\"S\\u00e1bado\",\"2017\"],[\"S\\u00e1bado\",\"2018\"],[\"S\\u00e1bado\",\"2019\"],[\"S\\u00e1bado\",\"2020\"],[\"Domingo\",\"2017\"],[\"Domingo\",\"2018\"],[\"Domingo\",\"2019\"],[\"Domingo\",\"2020\"]],\"range_padding\":0.1},\"id\":\"36275\",\"type\":\"FactorRange\"},{\"attributes\":{\"text\":\"\"},\"id\":\"36277\",\"type\":\"Title\"},{\"attributes\":{},\"id\":\"37038\",\"type\":\"UnionRenderers\"},{\"attributes\":{},\"id\":\"36296\",\"type\":\"WheelZoomTool\"},{\"attributes\":{\"callback\":null,\"data\":{\"counts\":[58214923,63212392,67043841,48341333.0,54618329,51655302,54838807,38869196.0,53086339,55187197,52187701,37084978.0,55236585,56241622,59962023,41919692.0,73271256,73007519,76708427,53167038.0,8635738,6407964,12523215,14340732.0,0,0,0,0.0],\"x\":[[\"Lunes\",\"2017\"],[\"Lunes\",\"2018\"],[\"Lunes\",\"2019\"],[\"Lunes\",\"2020\"],[\"Martes\",\"2017\"],[\"Martes\",\"2018\"],[\"Martes\",\"2019\"],[\"Martes\",\"2020\"],[\"Mi\\u00e9rcoles\",\"2017\"],[\"Mi\\u00e9rcoles\",\"2018\"],[\"Mi\\u00e9rcoles\",\"2019\"],[\"Mi\\u00e9rcoles\",\"2020\"],[\"Jueves\",\"2017\"],[\"Jueves\",\"2018\"],[\"Jueves\",\"2019\"],[\"Jueves\",\"2020\"],[\"Viernes\",\"2017\"],[\"Viernes\",\"2018\"],[\"Viernes\",\"2019\"],[\"Viernes\",\"2020\"],[\"S\\u00e1bado\",\"2017\"],[\"S\\u00e1bado\",\"2018\"],[\"S\\u00e1bado\",\"2019\"],[\"S\\u00e1bado\",\"2020\"],[\"Domingo\",\"2017\"],[\"Domingo\",\"2018\"],[\"Domingo\",\"2019\"],[\"Domingo\",\"2020\"]]},\"selected\":{\"id\":\"37039\",\"type\":\"Selection\"},\"selection_policy\":{\"id\":\"37038\",\"type\":\"UnionRenderers\"}},\"id\":\"36274\",\"type\":\"ColumnDataSource\"},{\"attributes\":{},\"id\":\"37039\",\"type\":\"Selection\"},{\"attributes\":{\"axis_label\":\"D\\u00eda de la Semana\",\"formatter\":{\"id\":\"37033\",\"type\":\"CategoricalTickFormatter\"},\"major_label_orientation\":1,\"ticker\":{\"id\":\"36287\",\"type\":\"CategoricalTicker\"}},\"id\":\"36286\",\"type\":\"CategoricalAxis\"},{\"attributes\":{\"grid_line_color\":null,\"ticker\":{\"id\":\"36287\",\"type\":\"CategoricalTicker\"}},\"id\":\"36289\",\"type\":\"Grid\"},{\"attributes\":{\"data_source\":{\"id\":\"36315\",\"type\":\"ColumnDataSource\"},\"glyph\":{\"id\":\"36316\",\"type\":\"Text\"},\"hover_glyph\":null,\"muted_glyph\":null,\"nonselection_glyph\":{\"id\":\"36317\",\"type\":\"Text\"},\"selection_glyph\":null,\"view\":{\"id\":\"36319\",\"type\":\"CDSView\"}},\"id\":\"36318\",\"type\":\"GlyphRenderer\"},{\"attributes\":{\"active_drag\":\"auto\",\"active_inspect\":\"auto\",\"active_multi\":null,\"active_scroll\":\"auto\",\"active_tap\":\"auto\",\"tools\":[{\"id\":\"36295\",\"type\":\"PanTool\"},{\"id\":\"36296\",\"type\":\"WheelZoomTool\"},{\"id\":\"36297\",\"type\":\"BoxZoomTool\"},{\"id\":\"36298\",\"type\":\"SaveTool\"},{\"id\":\"36299\",\"type\":\"ResetTool\"},{\"id\":\"36300\",\"type\":\"HelpTool\"}]},\"id\":\"36301\",\"type\":\"Toolbar\"}],\"root_ids\":[\"36276\"]},\"title\":\"Bokeh Application\",\"version\":\"1.3.0\"}};\n",
       "  var render_items = [{\"docid\":\"873d61a9-4d93-479b-bbbf-14b93fe169fd\",\"roots\":{\"36276\":\"26558aa8-9e62-42b9-9fc8-cbe46c1b04f4\"}}];\n",
       "  root.Bokeh.embed.embed_items_notebook(docs_json, render_items);\n",
       "\n",
       "  }\n",
       "  if (root.Bokeh !== undefined) {\n",
       "    embed_document(root);\n",
       "  } else {\n",
       "    var attempts = 0;\n",
       "    var timer = setInterval(function(root) {\n",
       "      if (root.Bokeh !== undefined) {\n",
       "        embed_document(root);\n",
       "        clearInterval(timer);\n",
       "      }\n",
       "      attempts++;\n",
       "      if (attempts > 100) {\n",
       "        console.log(\"Bokeh: ERROR: Unable to run BokehJS code because BokehJS library is missing\");\n",
       "        clearInterval(timer);\n",
       "      }\n",
       "    }, 10, root)\n",
       "  }\n",
       "})(window);"
      ],
      "application/vnd.bokehjs_exec.v0+json": ""
     },
     "metadata": {
      "application/vnd.bokehjs_exec.v0+json": {
       "id": "36276"
      }
     },
     "output_type": "display_data"
    }
   ],
   "source": [
    "from bokeh.palettes import GnBu6, OrRd6\n",
    "\n",
    "dias = ['Lunes','Martes','Miércoles','Jueves','Viernes','Sábado','Domingo']\n",
    "years = ['2017', '2018', '2019', '2020']\n",
    "\n",
    "# create data for plotting\n",
    "vol_total = {'dias': dias,}\n",
    "vol_percent = {'dias': dias,}\n",
    "for i, year in enumerate(years):\n",
    "    df = dfs[year]\n",
    "    df = df[df['DEPOSITO'] == 3]\n",
    "    pv = pd.pivot_table(df, values='TOTCARGA', index='dia', aggfunc=['sum'])\n",
    "    litros = pv[('sum', 'TOTCARGA')]\n",
    "    maxvol = litros.max()\n",
    "    totvol = litros.sum()\n",
    "    percent = litros/totvol*100\n",
    "    vol_total[year] = litros.values\n",
    "    vol_percent[year] = percent.values\n",
    "\n",
    "x = [(dia, year) for dia in dias for year in years]\n",
    "counts = sum(zip(vol_total['2017'],vol_total['2018'],vol_total['2019'],vol_total['2020']), ())\n",
    "source = ColumnDataSource(data=dict(x=x, counts=counts))\n",
    "\n",
    "\n",
    "# create figure and plot data\n",
    "p = figure(x_range=FactorRange(*x), \n",
    "           plot_width=800, \n",
    "           plot_height=600,\n",
    "           title='',\n",
    "           x_axis_label='Día de la Semana',\n",
    "           y_axis_label='Volumen Distribuído (L)')\n",
    "\n",
    "p.vbar(x='x',  \n",
    "       top='counts',\n",
    "       width=0.8,\n",
    "       bottom=0,\n",
    "       source=source,\n",
    "       line_color='white',\n",
    "       fill_color=factor_cmap('x', palette=GnBu6, factors=years, start=1, end=2))\n",
    "\n",
    "p.y_range.start = 0\n",
    "p.y_range.end = max(counts) * 1.2\n",
    "p.x_range.range_padding = 0.1\n",
    "p.xaxis.major_label_orientation = 1\n",
    "p.xgrid.grid_line_color = None\n",
    "\n",
    "# format x axis to not use scientific notation\n",
    "p.left[0].formatter.use_scientific = False\n",
    "\n",
    "p.text(x, counts, ['%.2f' % r for r in counts],\n",
    "       text_font_size=\"8pt\", text_align=\"left\", text_baseline=\"middle\", angle=np.pi/2, y_offset=-10)\n",
    "\n",
    "show(p)"
   ]
  },
  {
   "cell_type": "code",
   "execution_count": 186,
   "metadata": {},
   "outputs": [
    {
     "data": {
      "text/html": [
       "\n",
       "\n",
       "\n",
       "\n",
       "\n",
       "\n",
       "  <div class=\"bk-root\" id=\"a3ca128c-5a75-4048-b531-181cdb50fc6c\" data-root-id=\"37942\"></div>\n"
      ]
     },
     "metadata": {},
     "output_type": "display_data"
    },
    {
     "data": {
      "application/javascript": [
       "(function(root) {\n",
       "  function embed_document(root) {\n",
       "    \n",
       "  var docs_json = {\"634504aa-f8b0-4581-b18c-7910f7365ae3\":{\"roots\":{\"references\":[{\"attributes\":{\"below\":[{\"id\":\"37952\",\"type\":\"CategoricalAxis\"}],\"center\":[{\"id\":\"37955\",\"type\":\"Grid\"},{\"id\":\"37960\",\"type\":\"Grid\"}],\"left\":[{\"id\":\"37956\",\"type\":\"LinearAxis\"}],\"plot_width\":800,\"renderers\":[{\"id\":\"37978\",\"type\":\"GlyphRenderer\"},{\"id\":\"37984\",\"type\":\"GlyphRenderer\"}],\"title\":{\"id\":\"37943\",\"type\":\"Title\"},\"toolbar\":{\"id\":\"37967\",\"type\":\"Toolbar\"},\"x_range\":{\"id\":\"37941\",\"type\":\"FactorRange\"},\"x_scale\":{\"id\":\"37948\",\"type\":\"CategoricalScale\"},\"y_range\":{\"id\":\"37946\",\"type\":\"DataRange1d\"},\"y_scale\":{\"id\":\"37950\",\"type\":\"LinearScale\"}},\"id\":\"37942\",\"subtype\":\"Figure\",\"type\":\"Plot\"},{\"attributes\":{\"overlay\":{\"id\":\"38723\",\"type\":\"BoxAnnotation\"}},\"id\":\"37963\",\"type\":\"BoxZoomTool\"},{\"attributes\":{\"formatter\":{\"id\":\"38719\",\"type\":\"CategoricalTickFormatter\"},\"major_label_orientation\":1,\"ticker\":{\"id\":\"37953\",\"type\":\"CategoricalTicker\"}},\"id\":\"37952\",\"type\":\"CategoricalAxis\"},{\"attributes\":{},\"id\":\"37966\",\"type\":\"HelpTool\"},{\"attributes\":{},\"id\":\"37962\",\"type\":\"WheelZoomTool\"},{\"attributes\":{},\"id\":\"38724\",\"type\":\"UnionRenderers\"},{\"attributes\":{\"data_source\":{\"id\":\"37981\",\"type\":\"ColumnDataSource\"},\"glyph\":{\"id\":\"37982\",\"type\":\"Text\"},\"hover_glyph\":null,\"muted_glyph\":null,\"nonselection_glyph\":{\"id\":\"37983\",\"type\":\"Text\"},\"selection_glyph\":null,\"view\":{\"id\":\"37985\",\"type\":\"CDSView\"}},\"id\":\"37984\",\"type\":\"GlyphRenderer\"},{\"attributes\":{},\"id\":\"37948\",\"type\":\"CategoricalScale\"},{\"attributes\":{\"data_source\":{\"id\":\"37940\",\"type\":\"ColumnDataSource\"},\"glyph\":{\"id\":\"37976\",\"type\":\"VBar\"},\"hover_glyph\":null,\"muted_glyph\":null,\"nonselection_glyph\":{\"id\":\"37977\",\"type\":\"VBar\"},\"selection_glyph\":null,\"view\":{\"id\":\"37979\",\"type\":\"CDSView\"}},\"id\":\"37978\",\"type\":\"GlyphRenderer\"},{\"attributes\":{\"active_drag\":\"auto\",\"active_inspect\":\"auto\",\"active_multi\":null,\"active_scroll\":\"auto\",\"active_tap\":\"auto\",\"tools\":[{\"id\":\"37961\",\"type\":\"PanTool\"},{\"id\":\"37962\",\"type\":\"WheelZoomTool\"},{\"id\":\"37963\",\"type\":\"BoxZoomTool\"},{\"id\":\"37964\",\"type\":\"SaveTool\"},{\"id\":\"37965\",\"type\":\"ResetTool\"},{\"id\":\"37966\",\"type\":\"HelpTool\"}]},\"id\":\"37967\",\"type\":\"Toolbar\"},{\"attributes\":{},\"id\":\"38726\",\"type\":\"UnionRenderers\"},{\"attributes\":{\"callback\":null,\"factors\":[[\"Lunes\",\"2017\"],[\"Lunes\",\"2018\"],[\"Lunes\",\"2019\"],[\"Lunes\",\"2020\"],[\"Martes\",\"2017\"],[\"Martes\",\"2018\"],[\"Martes\",\"2019\"],[\"Martes\",\"2020\"],[\"Mi\\u00e9rcoles\",\"2017\"],[\"Mi\\u00e9rcoles\",\"2018\"],[\"Mi\\u00e9rcoles\",\"2019\"],[\"Mi\\u00e9rcoles\",\"2020\"],[\"Jueves\",\"2017\"],[\"Jueves\",\"2018\"],[\"Jueves\",\"2019\"],[\"Jueves\",\"2020\"],[\"Viernes\",\"2017\"],[\"Viernes\",\"2018\"],[\"Viernes\",\"2019\"],[\"Viernes\",\"2020\"],[\"S\\u00e1bado\",\"2017\"],[\"S\\u00e1bado\",\"2018\"],[\"S\\u00e1bado\",\"2019\"],[\"S\\u00e1bado\",\"2020\"],[\"Domingo\",\"2017\"],[\"Domingo\",\"2018\"],[\"Domingo\",\"2019\"],[\"Domingo\",\"2020\"]],\"range_padding\":0.1},\"id\":\"37941\",\"type\":\"FactorRange\"},{\"attributes\":{},\"id\":\"37957\",\"type\":\"BasicTicker\"},{\"attributes\":{\"callback\":null,\"data\":{\"text\":[\"19.2%\",\"20.7%\",\"20.7%\",\"20.7%\",\"18.0%\",\"16.9%\",\"17.0%\",\"16.6%\",\"17.5%\",\"18.1%\",\"16.1%\",\"15.9%\",\"18.2%\",\"18.4%\",\"18.5%\",\"17.9%\",\"24.2%\",\"23.9%\",\"23.7%\",\"22.7%\",\"2.8%\",\"2.1%\",\"3.9%\",\"6.1%\",\"0.0%\",\"0.0%\",\"0.0%\",\"0.0%\"],\"x\":[[\"Lunes\",\"2017\"],[\"Lunes\",\"2018\"],[\"Lunes\",\"2019\"],[\"Lunes\",\"2020\"],[\"Martes\",\"2017\"],[\"Martes\",\"2018\"],[\"Martes\",\"2019\"],[\"Martes\",\"2020\"],[\"Mi\\u00e9rcoles\",\"2017\"],[\"Mi\\u00e9rcoles\",\"2018\"],[\"Mi\\u00e9rcoles\",\"2019\"],[\"Mi\\u00e9rcoles\",\"2020\"],[\"Jueves\",\"2017\"],[\"Jueves\",\"2018\"],[\"Jueves\",\"2019\"],[\"Jueves\",\"2020\"],[\"Viernes\",\"2017\"],[\"Viernes\",\"2018\"],[\"Viernes\",\"2019\"],[\"Viernes\",\"2020\"],[\"S\\u00e1bado\",\"2017\"],[\"S\\u00e1bado\",\"2018\"],[\"S\\u00e1bado\",\"2019\"],[\"S\\u00e1bado\",\"2020\"],[\"Domingo\",\"2017\"],[\"Domingo\",\"2018\"],[\"Domingo\",\"2019\"],[\"Domingo\",\"2020\"]],\"y\":[19.20884117987679,20.67710551992863,20.739654924906056,20.683175986866743,18.022093875676152,16.896720663849905,16.964092699783155,16.630456204755813,17.51659200291477,18.052022073742897,16.14398718689424,15.867066107653288,18.226096229376864,18.39693003083857,18.54893226686222,17.935632162879124,24.17689223009183,23.88114302194409,23.729343099724055,22.747887478701333,2.8494844820635907,2.0960786896959056,3.8739898218302766,6.135782059143704,0.0,0.0,0.0,0.0]},\"selected\":{\"id\":\"38727\",\"type\":\"Selection\"},\"selection_policy\":{\"id\":\"38726\",\"type\":\"UnionRenderers\"}},\"id\":\"37981\",\"type\":\"ColumnDataSource\"},{\"attributes\":{\"callback\":null,\"data\":{\"counts\":[19.20884117987679,20.67710551992863,20.739654924906056,20.683175986866743,18.022093875676152,16.896720663849905,16.964092699783155,16.630456204755813,17.51659200291477,18.052022073742897,16.14398718689424,15.867066107653288,18.226096229376864,18.39693003083857,18.54893226686222,17.935632162879124,24.17689223009183,23.88114302194409,23.729343099724055,22.747887478701333,2.8494844820635907,2.0960786896959056,3.8739898218302766,6.135782059143704,0.0,0.0,0.0,0.0],\"x\":[[\"Lunes\",\"2017\"],[\"Lunes\",\"2018\"],[\"Lunes\",\"2019\"],[\"Lunes\",\"2020\"],[\"Martes\",\"2017\"],[\"Martes\",\"2018\"],[\"Martes\",\"2019\"],[\"Martes\",\"2020\"],[\"Mi\\u00e9rcoles\",\"2017\"],[\"Mi\\u00e9rcoles\",\"2018\"],[\"Mi\\u00e9rcoles\",\"2019\"],[\"Mi\\u00e9rcoles\",\"2020\"],[\"Jueves\",\"2017\"],[\"Jueves\",\"2018\"],[\"Jueves\",\"2019\"],[\"Jueves\",\"2020\"],[\"Viernes\",\"2017\"],[\"Viernes\",\"2018\"],[\"Viernes\",\"2019\"],[\"Viernes\",\"2020\"],[\"S\\u00e1bado\",\"2017\"],[\"S\\u00e1bado\",\"2018\"],[\"S\\u00e1bado\",\"2019\"],[\"S\\u00e1bado\",\"2020\"],[\"Domingo\",\"2017\"],[\"Domingo\",\"2018\"],[\"Domingo\",\"2019\"],[\"Domingo\",\"2020\"]]},\"selected\":{\"id\":\"38725\",\"type\":\"Selection\"},\"selection_policy\":{\"id\":\"38724\",\"type\":\"UnionRenderers\"}},\"id\":\"37940\",\"type\":\"ColumnDataSource\"},{\"attributes\":{\"angle\":{\"units\":\"rad\",\"value\":1.3},\"text_baseline\":\"middle\",\"text_color\":{\"value\":\"black\"},\"text_font_size\":{\"value\":\"8pt\"},\"x\":{\"field\":\"x\"},\"y\":{\"field\":\"y\"},\"y_offset\":{\"value\":-2}},\"id\":\"37982\",\"type\":\"Text\"},{\"attributes\":{},\"id\":\"38725\",\"type\":\"Selection\"},{\"attributes\":{\"angle\":{\"units\":\"rad\",\"value\":1.3},\"text_alpha\":{\"value\":0.1},\"text_baseline\":\"middle\",\"text_color\":{\"value\":\"black\"},\"text_font_size\":{\"value\":\"8pt\"},\"x\":{\"field\":\"x\"},\"y\":{\"field\":\"y\"},\"y_offset\":{\"value\":-2}},\"id\":\"37983\",\"type\":\"Text\"},{\"attributes\":{\"end\":2,\"factors\":[\"2017\",\"2018\",\"2019\",\"2020\"],\"palette\":[\"#0868ac\",\"#43a2ca\",\"#7bccc4\",\"#a8ddb5\",\"#ccebc5\",\"#f0f9e8\"],\"start\":1},\"id\":\"37974\",\"type\":\"CategoricalColorMapper\"},{\"attributes\":{\"grid_line_color\":null,\"ticker\":{\"id\":\"37953\",\"type\":\"CategoricalTicker\"}},\"id\":\"37955\",\"type\":\"Grid\"},{\"attributes\":{\"text\":\"\"},\"id\":\"37943\",\"type\":\"Title\"},{\"attributes\":{},\"id\":\"37964\",\"type\":\"SaveTool\"},{\"attributes\":{\"use_scientific\":false},\"id\":\"37980\",\"type\":\"BasicTickFormatter\"},{\"attributes\":{\"source\":{\"id\":\"37981\",\"type\":\"ColumnDataSource\"}},\"id\":\"37985\",\"type\":\"CDSView\"},{\"attributes\":{\"source\":{\"id\":\"37940\",\"type\":\"ColumnDataSource\"}},\"id\":\"37979\",\"type\":\"CDSView\"},{\"attributes\":{},\"id\":\"37961\",\"type\":\"PanTool\"},{\"attributes\":{\"callback\":null,\"end\":30,\"start\":0},\"id\":\"37946\",\"type\":\"DataRange1d\"},{\"attributes\":{},\"id\":\"37953\",\"type\":\"CategoricalTicker\"},{\"attributes\":{},\"id\":\"37950\",\"type\":\"LinearScale\"},{\"attributes\":{\"dimension\":1,\"ticker\":{\"id\":\"37957\",\"type\":\"BasicTicker\"}},\"id\":\"37960\",\"type\":\"Grid\"},{\"attributes\":{},\"id\":\"38727\",\"type\":\"Selection\"},{\"attributes\":{},\"id\":\"38719\",\"type\":\"CategoricalTickFormatter\"},{\"attributes\":{},\"id\":\"37965\",\"type\":\"ResetTool\"},{\"attributes\":{\"fill_alpha\":{\"value\":0.1},\"fill_color\":{\"value\":\"#1f77b4\"},\"line_alpha\":{\"value\":0.1},\"line_color\":{\"value\":\"#1f77b4\"},\"top\":{\"field\":\"counts\"},\"width\":{\"value\":0.8},\"x\":{\"field\":\"x\"}},\"id\":\"37977\",\"type\":\"VBar\"},{\"attributes\":{\"fill_color\":{\"field\":\"x\",\"transform\":{\"id\":\"37974\",\"type\":\"CategoricalColorMapper\"}},\"line_color\":{\"value\":\"white\"},\"top\":{\"field\":\"counts\"},\"width\":{\"value\":0.8},\"x\":{\"field\":\"x\"}},\"id\":\"37976\",\"type\":\"VBar\"},{\"attributes\":{\"bottom_units\":\"screen\",\"fill_alpha\":{\"value\":0.5},\"fill_color\":{\"value\":\"lightgrey\"},\"left_units\":\"screen\",\"level\":\"overlay\",\"line_alpha\":{\"value\":1.0},\"line_color\":{\"value\":\"black\"},\"line_dash\":[4,4],\"line_width\":{\"value\":2},\"render_mode\":\"css\",\"right_units\":\"screen\",\"top_units\":\"screen\"},\"id\":\"38723\",\"type\":\"BoxAnnotation\"},{\"attributes\":{\"axis_label\":\"Porcentaje Volumen Distribu\\u00eddo (%)\",\"formatter\":{\"id\":\"37980\",\"type\":\"BasicTickFormatter\"},\"ticker\":{\"id\":\"37957\",\"type\":\"BasicTicker\"}},\"id\":\"37956\",\"type\":\"LinearAxis\"}],\"root_ids\":[\"37942\"]},\"title\":\"Bokeh Application\",\"version\":\"1.3.0\"}};\n",
       "  var render_items = [{\"docid\":\"634504aa-f8b0-4581-b18c-7910f7365ae3\",\"roots\":{\"37942\":\"a3ca128c-5a75-4048-b531-181cdb50fc6c\"}}];\n",
       "  root.Bokeh.embed.embed_items_notebook(docs_json, render_items);\n",
       "\n",
       "  }\n",
       "  if (root.Bokeh !== undefined) {\n",
       "    embed_document(root);\n",
       "  } else {\n",
       "    var attempts = 0;\n",
       "    var timer = setInterval(function(root) {\n",
       "      if (root.Bokeh !== undefined) {\n",
       "        embed_document(root);\n",
       "        clearInterval(timer);\n",
       "      }\n",
       "      attempts++;\n",
       "      if (attempts > 100) {\n",
       "        console.log(\"Bokeh: ERROR: Unable to run BokehJS code because BokehJS library is missing\");\n",
       "        clearInterval(timer);\n",
       "      }\n",
       "    }, 10, root)\n",
       "  }\n",
       "})(window);"
      ],
      "application/vnd.bokehjs_exec.v0+json": ""
     },
     "metadata": {
      "application/vnd.bokehjs_exec.v0+json": {
       "id": "37942"
      }
     },
     "output_type": "display_data"
    }
   ],
   "source": [
    "from bokeh.palettes import GnBu6, OrRd6\n",
    "from bokeh.models import LabelSet\n",
    "\n",
    "dias = ['Lunes','Martes','Miércoles','Jueves','Viernes','Sábado','Domingo']\n",
    "years = ['2017', '2018', '2019', '2020']\n",
    "\n",
    "# create data for plotting\n",
    "vol_total = {'dias': dias,}\n",
    "vol_percent = {'dias': dias,}\n",
    "for i, year in enumerate(years):\n",
    "    df = dfs[year]\n",
    "    df = df[df['DEPOSITO'] == 3]\n",
    "    pv = pd.pivot_table(df, values='TOTCARGA', index='dia', aggfunc=['sum'])\n",
    "    litros = pv[('sum', 'TOTCARGA')]\n",
    "    maxvol = litros.max()\n",
    "    totvol = litros.sum()\n",
    "    percent = litros/totvol*100\n",
    "    vol_total[year] = litros.values\n",
    "    vol_percent[year] = percent.values\n",
    "\n",
    "x = [(dia, year) for dia in dias for year in years]\n",
    "counts = sum(zip(vol_percent['2017'],vol_percent['2018'],vol_percent['2019'],vol_percent['2020']), ())\n",
    "source = ColumnDataSource(data=dict(x=x, counts=counts))\n",
    "\n",
    "\n",
    "# create figure and plot data\n",
    "p = figure(x_range=FactorRange(*x), \n",
    "           plot_width=800, \n",
    "           plot_height=600,\n",
    "           title='',\n",
    "           x_axis_label='',\n",
    "           y_axis_label='Porcentaje Volumen Distribuído (%)')\n",
    "\n",
    "p.vbar(x='x',  \n",
    "       top='counts',\n",
    "       width=0.8,\n",
    "       bottom=0,\n",
    "       source=source,\n",
    "       line_color='white',\n",
    "       fill_color=factor_cmap('x', palette=GnBu6, factors=years, start=1, end=2))\n",
    "\n",
    "p.y_range.start = 0\n",
    "p.y_range.end = 30\n",
    "p.x_range.range_padding = 0.1\n",
    "p.xaxis.major_label_orientation = 1\n",
    "p.xgrid.grid_line_color = None\n",
    "\n",
    "# format x axis to not use scientific notation\n",
    "p.left[0].formatter.use_scientific = False\n",
    "\n",
    "p.text(x, counts, ['%.1f%%' % r for r in counts],\n",
    "       text_font_size=\"8pt\", text_align=\"left\", text_baseline=\"middle\", angle=1.3, y_offset=-2)\n",
    "#labels = LabelSet(x='x', y='counts', text='counts', level='glyph',\n",
    "#              x_offset=5, y_offset=5, source=source, render_mode='canvas')\n",
    "#p.add_layout(labels)\n",
    "\n",
    "show(p)"
   ]
  },
  {
   "cell_type": "code",
   "execution_count": 129,
   "metadata": {},
   "outputs": [
    {
     "data": {
      "text/plain": [
       "count    7.000000e+00\n",
       "mean     3.515507e+07\n",
       "std      2.042166e+07\n",
       "min      0.000000e+00\n",
       "25%      2.681098e+07\n",
       "50%      4.114136e+07\n",
       "75%      4.723365e+07\n",
       "max      5.685488e+07\n",
       "Name: (sum, TOTCARGA), dtype: float64"
      ]
     },
     "execution_count": 129,
     "metadata": {},
     "output_type": "execute_result"
    }
   ],
   "source": [
    "df = dfs['2020']\n",
    "#df = df[df['DEPOSITO'] == 3]\n",
    "pv = pd.pivot_table(df, values='TOTCARGA', index='dia', aggfunc=['sum'])\n",
    "litros = pv[('sum', 'TOTCARGA')]\n",
    "maxvol = litros.max()\n",
    "totvol = litros.sum()\n",
    "\n",
    "litros.describe()"
   ]
  },
  {
   "cell_type": "code",
   "execution_count": 128,
   "metadata": {},
   "outputs": [
    {
     "data": {
      "text/plain": [
       "count    7.000000e+00\n",
       "mean     3.338900e+07\n",
       "std      1.918711e+07\n",
       "min      0.000000e+00\n",
       "25%      2.571286e+07\n",
       "50%      3.886920e+07\n",
       "75%      4.513051e+07\n",
       "max      5.316704e+07\n",
       "Name: (sum, TOTCARGA), dtype: float64"
      ]
     },
     "execution_count": 128,
     "metadata": {},
     "output_type": "execute_result"
    }
   ],
   "source": [
    "df = dfs['2020']\n",
    "df = df[df['DEPOSITO'] == 3]\n",
    "pv = pd.pivot_table(df, values='TOTCARGA', index='dia', aggfunc=['sum'])\n",
    "litros = pv[('sum', 'TOTCARGA')]\n",
    "maxvol = litros.max()\n",
    "totvol = litros.sum()\n",
    "\n",
    "litros.describe()"
   ]
  },
  {
   "cell_type": "code",
   "execution_count": 135,
   "metadata": {},
   "outputs": [
    {
     "data": {
      "text/plain": [
       "(10460, 10460, 0)"
      ]
     },
     "execution_count": 135,
     "metadata": {},
     "output_type": "execute_result"
    }
   ],
   "source": [
    "df = dfs['2017']\n",
    "c0 = df.DEPOSITO.count()\n",
    "c1 = df.DEPOSITO[df['DEPOSITO'] == 3].count()\n",
    "c0, c1, c0-c1"
   ]
  },
  {
   "cell_type": "code",
   "execution_count": 136,
   "metadata": {},
   "outputs": [
    {
     "data": {
      "text/plain": [
       "(10710, 10483, 227)"
      ]
     },
     "execution_count": 136,
     "metadata": {},
     "output_type": "execute_result"
    }
   ],
   "source": [
    "df = dfs['2018']\n",
    "c0 = df.DEPOSITO.count()\n",
    "c1 = df.DEPOSITO[df['DEPOSITO'] == 3].count()\n",
    "c0, c1, c0-c1"
   ]
  },
  {
   "cell_type": "code",
   "execution_count": 137,
   "metadata": {},
   "outputs": [
    {
     "data": {
      "text/plain": [
       "(11858, 10908, 950)"
      ]
     },
     "execution_count": 137,
     "metadata": {},
     "output_type": "execute_result"
    }
   ],
   "source": [
    "df = dfs['2019']\n",
    "c0 = df.DEPOSITO.count()\n",
    "c1 = df.DEPOSITO[df['DEPOSITO'] == 3].count()\n",
    "c0, c1, c0-c1"
   ]
  },
  {
   "cell_type": "code",
   "execution_count": 138,
   "metadata": {},
   "outputs": [
    {
     "data": {
      "text/plain": [
       "(8468, 7801, 667)"
      ]
     },
     "execution_count": 138,
     "metadata": {},
     "output_type": "execute_result"
    }
   ],
   "source": [
    "df = dfs['2020']\n",
    "c0 = df.DEPOSITO.count()\n",
    "c1 = df.DEPOSITO[df['DEPOSITO'] == 3].count()\n",
    "c0, c1, c0-c1"
   ]
  },
  {
   "cell_type": "code",
   "execution_count": 90,
   "metadata": {},
   "outputs": [
    {
     "data": {
      "text/plain": [
       "(1, 4, 2, 5, 3, 6)"
      ]
     },
     "execution_count": 90,
     "metadata": {},
     "output_type": "execute_result"
    }
   ],
   "source": [
    "sum([z for z in zip([1,2,3],[4,5,6])],())"
   ]
  },
  {
   "cell_type": "code",
   "execution_count": 58,
   "metadata": {},
   "outputs": [
    {
     "data": {
      "text/html": [
       "\n",
       "\n",
       "\n",
       "\n",
       "\n",
       "\n",
       "  <div class=\"bk-root\" id=\"4ea783a5-87d2-4284-867b-adefa43e1342\" data-root-id=\"3118\"></div>\n"
      ]
     },
     "metadata": {},
     "output_type": "display_data"
    },
    {
     "data": {
      "application/javascript": [
       "(function(root) {\n",
       "  function embed_document(root) {\n",
       "    \n",
       "  var docs_json = {\"34237133-bdbb-4a82-b892-ae9a03725247\":{\"roots\":{\"references\":[{\"attributes\":{\"below\":[{\"id\":\"3129\",\"type\":\"LinearAxis\"}],\"center\":[{\"id\":\"3133\",\"type\":\"Grid\"},{\"id\":\"3137\",\"type\":\"Grid\"}],\"left\":[{\"id\":\"3134\",\"type\":\"CategoricalAxis\"}],\"plot_height\":1200,\"plot_width\":900,\"renderers\":[{\"id\":\"3154\",\"type\":\"GlyphRenderer\"},{\"id\":\"3160\",\"type\":\"GlyphRenderer\"}],\"title\":{\"id\":\"3119\",\"type\":\"Title\"},\"toolbar\":{\"id\":\"3144\",\"type\":\"Toolbar\"},\"x_range\":{\"id\":\"3121\",\"type\":\"Range1d\"},\"x_scale\":{\"id\":\"3125\",\"type\":\"LinearScale\"},\"y_range\":{\"id\":\"3123\",\"type\":\"FactorRange\"},\"y_scale\":{\"id\":\"3127\",\"type\":\"CategoricalScale\"}},\"id\":\"3118\",\"subtype\":\"Figure\",\"type\":\"Plot\"},{\"attributes\":{\"axis_label\":\"Carga Total (litros)\",\"formatter\":{\"id\":\"3156\",\"type\":\"BasicTickFormatter\"},\"ticker\":{\"id\":\"3130\",\"type\":\"BasicTicker\"}},\"id\":\"3129\",\"type\":\"LinearAxis\"},{\"attributes\":{\"text_alpha\":{\"value\":0.1},\"text_baseline\":\"middle\",\"text_color\":{\"value\":\"black\"},\"text_font_size\":{\"value\":\"6pt\"},\"x\":{\"field\":\"x\"},\"y\":{\"field\":\"y\"}},\"id\":\"3159\",\"type\":\"Text\"},{\"attributes\":{},\"id\":\"3293\",\"type\":\"Selection\"},{\"attributes\":{},\"id\":\"3130\",\"type\":\"BasicTicker\"},{\"attributes\":{\"text_baseline\":\"middle\",\"text_color\":{\"value\":\"black\"},\"text_font_size\":{\"value\":\"6pt\"},\"x\":{\"field\":\"x\"},\"y\":{\"field\":\"y\"}},\"id\":\"3158\",\"type\":\"Text\"},{\"attributes\":{\"ticker\":{\"id\":\"3130\",\"type\":\"BasicTicker\"}},\"id\":\"3133\",\"type\":\"Grid\"},{\"attributes\":{\"callback\":null,\"data\":{\"text\":[\"25134.0 (0.01%)\",\"28867.0 (0.01%)\",\"29017.0 (0.01%)\",\"30088.0 (0.01%)\",\"50306.0 (0.02%)\",\"56738.0 (0.02%)\",\"60027.0 (0.02%)\",\"66773.0 (0.02%)\",\"126311.0 (0.04%)\",\"158812.0 (0.05%)\",\"165505.0 (0.05%)\",\"200420.0 (0.07%)\",\"214271.0 (0.07%)\",\"224443.0 (0.07%)\",\"230332.0 (0.08%)\",\"237259.0 (0.08%)\",\"280519.0 (0.09%)\",\"296021.0 (0.10%)\",\"299409.0 (0.10%)\",\"317115.0 (0.10%)\",\"350490.0 (0.12%)\",\"472034.0 (0.16%)\",\"495699.0 (0.16%)\",\"519154.0 (0.17%)\",\"559699.0 (0.18%)\",\"586759.0 (0.19%)\",\"645271.0 (0.21%)\",\"774560.0 (0.26%)\",\"779219.0 (0.26%)\",\"781843.0 (0.26%)\",\"985546.0 (0.33%)\",\"1054400.0 (0.35%)\",\"1062760.0 (0.35%)\",\"1102268.0 (0.36%)\",\"1108921.0 (0.37%)\",\"1910388.0 (0.63%)\",\"1992344.0 (0.66%)\",\"2578424.0 (0.85%)\",\"2723288.0 (0.90%)\",\"3677855.0 (1.21%)\",\"4015699.0 (1.33%)\",\"5303467.0 (1.75%)\",\"5879221.0 (1.94%)\",\"6472934.0 (2.14%)\",\"6515663.0 (2.15%)\",\"6852131.0 (2.26%)\",\"7411290.0 (2.45%)\",\"7528946.0 (2.48%)\",\"7727903.0 (2.55%)\",\"7805189.0 (2.58%)\",\"8104165.0 (2.67%)\",\"8215742.0 (2.71%)\",\"8228650.0 (2.72%)\",\"8289109.0 (2.74%)\",\"8349376.0 (2.75%)\",\"8476525.0 (2.80%)\",\"8504501.0 (2.81%)\",\"8518975.0 (2.81%)\",\"8519109.0 (2.81%)\",\"8529657.0 (2.81%)\",\"8662152.0 (2.86%)\",\"8920513.0 (2.94%)\",\"9640906.0 (3.18%)\",\"13132470.0 (4.33%)\",\"13759849.0 (4.54%)\",\"14083005.0 (4.65%)\",\"14280834.0 (4.71%)\",\"14551151.0 (4.80%)\",\"14669606.0 (4.84%)\",\"14856143.0 (4.90%)\"],\"x\":{\"__ndarray__\":\"CtejcPszBUEK16Nwo6gFQQrXo3BTrQVBCtejcMvOBUEK16Nwm0YIQQrXo3CbDwlBCtejcGN2CUEK16NwM0kKQYXrUbjhxhBBhetRuLXCEkGF61G4SSsTQYXrUbjVTBVBhetRuEElFkGF61G4McQWQYXrUbg1IBdBhetRuHGMF0GF61G4YTAaQYXrUbiZIhtBhetRuIlXG0GF61G4MWwcQYXrUbitdR5BwvUo3GbwIkHC9SjcSKkjQcL1KNyGYCRBwvUo3EidJUHC9SjcsHAmQcL1KNzQOShBwvUo3OIrLEHC9SjcSFAsQcL1KNzIZCxB4XoUbhtOMUHhehRuEVsyQeF6FG65ezJB4XoUbg0WM0HhehRuCjAzQeF6FG7Faj9BcT0Kt3RVQEFxPQq3JM5EQXE9CrcU6UVBcT0KN3gxTUFxPQo3UsVPQbgehRs/zFRBuB6Fm4H+VkG4HoXbTUJZQbgehRsIbFlBuB6FG520WkG4HoXbqtZcQbgehduQSV1BuB6FG9wLXkG4HoWbVVdeQbgehZtNe19BuB6F20PoX0G4HoXb3vRfQVyPws30F2BBXI/CLWI1YEFcj8LNd3NgQVyPws0ggWBBXI/CDTKIYEFcj8LNQohgQVyPwk1pjWBBXI/CLRvOYEFcj8JNQkxhQVyPwm0DrGJBXI/C7eBUaUFcj8JNN4dqQVyPws0BJWtBXI/CbZqFa0Fcj8INmAlsQVyPwu1uQ2xBXI/CDYSebEE=\",\"dtype\":\"float64\",\"shape\":[70]},\"y\":[\"JEFERSON DOS SANTOS\",\"SERGIO SUAREZ\",\"MARCO PAZ\",\"JULIO DE MARCO\",\"WILMAN DO PRADO\",\"HORACIO BONILLA\",\"FABIAN VILLARINO B\",\"JUAN MARTIN BONILLA\",\"LUIS M. PRESENTADO\",\"DIEGO DANIEL PEREIRA CORE\",\"ROBERTO GANCHEROV\",\"DANIEL CABRAL\",\"ROBERTO VELLOZO\",\"ALCIDES BOLATTI\",\"CARLOS PUGLIA\",\"PABLO SUBERBIE\",\"GABRIEL SUBERBIE\",\"FERNANDO CABALLERO\",\"CARLOS CARMONA\",\"DIEGO MEDINA\",\"MARIO PASTORINI\",\"JORGE LUIS DE LIMA LEMOS\",\"JORGE SILVERA\",\"FEDERICO MANSILLA\",\"ANGEL M. MONTERO\",\"WILLIAM PASTORINI\",\"CHAPUIS\",\"ROBERTO PEREYRA\",\"GABRIEL REYES\",\"LUIS PALAVECINO\",\"JHONY OLIVA\",\"DANILO BACHIN\",\"MARTIN CORREA\",\"ALVARO LENS\",\"RICARDO SUBERBIE\",\"ALEJANDRO CAMEJO\",\"ANTONIO BESSONART\",\"ALEJANDRO RODRIGUEZ\",\"LUIS MONTENEGRO\",\"MILTON ARISMENDI\",\"JAVIER PI\\u00a5A\",\"HENRY NU\\u00a5EZ OLIVERA\",\"GONZALO LOUREIRO\",\"FABIAN ROM\\u00b5N\",\"FABIAN VILLARINO BRUNOLDI\",\"RAM\\u00e0N ARMAS\",\"JORGE BENJAMIN PAZ\",\"FERNANDO REMEDIOS\",\"JOSE PEDRO MELOGNO\",\"RUBEN C.CECHELES\",\"MARCELO PEREZ\",\"MIGUEL BENTANCUR\",\"MIGUEL BAZZANO\",\"JORGE PEREZ\",\"DANILO CABILLON LEMES\",\"GUSTAVO PEREIRA\",\"SEBASTIAN IRIGARAY\",\"JHON SILVA\",\"MAURICIO SEIJAS\",\"ALVARO ERNESTO ROMAN ALVAREZ\",\"RICHARD FLEITAS\",\"CARLOS PASCUARIELO\",\"CARLOS ARRIOLA\",\"OSCAR BENAVIDES\",\"JESUS FOLIADOSO\",\"CARLOS DASTE\",\"JUAN RABELA\",\"ALVARO SILVERA\",\"ALFREDO MOLINA\",\"RICARDO CARABALLO\"]},\"selected\":{\"id\":\"3293\",\"type\":\"Selection\"},\"selection_policy\":{\"id\":\"3292\",\"type\":\"UnionRenderers\"}},\"id\":\"3157\",\"type\":\"ColumnDataSource\"},{\"attributes\":{\"axis_label\":\"Chofer\",\"formatter\":{\"id\":\"3287\",\"type\":\"CategoricalTickFormatter\"},\"ticker\":{\"id\":\"3135\",\"type\":\"CategoricalTicker\"}},\"id\":\"3134\",\"type\":\"CategoricalAxis\"},{\"attributes\":{\"use_scientific\":false},\"id\":\"3156\",\"type\":\"BasicTickFormatter\"},{\"attributes\":{},\"id\":\"3135\",\"type\":\"CategoricalTicker\"},{\"attributes\":{\"dimension\":1,\"ticker\":{\"id\":\"3135\",\"type\":\"CategoricalTicker\"}},\"id\":\"3137\",\"type\":\"Grid\"},{\"attributes\":{\"source\":{\"id\":\"3151\",\"type\":\"ColumnDataSource\"}},\"id\":\"3155\",\"type\":\"CDSView\"},{\"attributes\":{\"callback\":null,\"end\":17827371.599999998,\"start\":-1},\"id\":\"3121\",\"type\":\"Range1d\"},{\"attributes\":{\"callback\":null,\"data\":{\"right\":[25134,28867,29017,30088,50306,56738,60027,66773,126311,158812,165505,200420,214271,224443,230332,237259,280519,296021,299409,317115,350490,472034,495699,519154,559699,586759,645271,774560,779219,781843,985546,1054400,1062760,1102268,1108921,1910388,1992344,2578424,2723288,3677855,4015699,5303467,5879221,6472934,6515663,6852131,7411290,7528946,7727903,7805189,8104165,8215742,8228650,8289109,8349376,8476525,8504501,8518975,8519109,8529657,8662152,8920513,9640906,13132470,13759849,14083005,14280834,14551151,14669606,14856143],\"y\":[\"JEFERSON DOS SANTOS\",\"SERGIO SUAREZ\",\"MARCO PAZ\",\"JULIO DE MARCO\",\"WILMAN DO PRADO\",\"HORACIO BONILLA\",\"FABIAN VILLARINO B\",\"JUAN MARTIN BONILLA\",\"LUIS M. PRESENTADO\",\"DIEGO DANIEL PEREIRA CORE\",\"ROBERTO GANCHEROV\",\"DANIEL CABRAL\",\"ROBERTO VELLOZO\",\"ALCIDES BOLATTI\",\"CARLOS PUGLIA\",\"PABLO SUBERBIE\",\"GABRIEL SUBERBIE\",\"FERNANDO CABALLERO\",\"CARLOS CARMONA\",\"DIEGO MEDINA\",\"MARIO PASTORINI\",\"JORGE LUIS DE LIMA LEMOS\",\"JORGE SILVERA\",\"FEDERICO MANSILLA\",\"ANGEL M. MONTERO\",\"WILLIAM PASTORINI\",\"CHAPUIS\",\"ROBERTO PEREYRA\",\"GABRIEL REYES\",\"LUIS PALAVECINO\",\"JHONY OLIVA\",\"DANILO BACHIN\",\"MARTIN CORREA\",\"ALVARO LENS\",\"RICARDO SUBERBIE\",\"ALEJANDRO CAMEJO\",\"ANTONIO BESSONART\",\"ALEJANDRO RODRIGUEZ\",\"LUIS MONTENEGRO\",\"MILTON ARISMENDI\",\"JAVIER PI\\u00a5A\",\"HENRY NU\\u00a5EZ OLIVERA\",\"GONZALO LOUREIRO\",\"FABIAN ROM\\u00b5N\",\"FABIAN VILLARINO BRUNOLDI\",\"RAM\\u00e0N ARMAS\",\"JORGE BENJAMIN PAZ\",\"FERNANDO REMEDIOS\",\"JOSE PEDRO MELOGNO\",\"RUBEN C.CECHELES\",\"MARCELO PEREZ\",\"MIGUEL BENTANCUR\",\"MIGUEL BAZZANO\",\"JORGE PEREZ\",\"DANILO CABILLON LEMES\",\"GUSTAVO PEREIRA\",\"SEBASTIAN IRIGARAY\",\"JHON SILVA\",\"MAURICIO SEIJAS\",\"ALVARO ERNESTO ROMAN ALVAREZ\",\"RICHARD FLEITAS\",\"CARLOS PASCUARIELO\",\"CARLOS ARRIOLA\",\"OSCAR BENAVIDES\",\"JESUS FOLIADOSO\",\"CARLOS DASTE\",\"JUAN RABELA\",\"ALVARO SILVERA\",\"ALFREDO MOLINA\",\"RICARDO CARABALLO\"]},\"selected\":{\"id\":\"3291\",\"type\":\"Selection\"},\"selection_policy\":{\"id\":\"3290\",\"type\":\"UnionRenderers\"}},\"id\":\"3151\",\"type\":\"ColumnDataSource\"},{\"attributes\":{\"active_drag\":\"auto\",\"active_inspect\":\"auto\",\"active_multi\":null,\"active_scroll\":\"auto\",\"active_tap\":\"auto\",\"tools\":[{\"id\":\"3138\",\"type\":\"PanTool\"},{\"id\":\"3139\",\"type\":\"WheelZoomTool\"},{\"id\":\"3140\",\"type\":\"BoxZoomTool\"},{\"id\":\"3141\",\"type\":\"SaveTool\"},{\"id\":\"3142\",\"type\":\"ResetTool\"},{\"id\":\"3143\",\"type\":\"HelpTool\"}]},\"id\":\"3144\",\"type\":\"Toolbar\"},{\"attributes\":{},\"id\":\"3125\",\"type\":\"LinearScale\"},{\"attributes\":{},\"id\":\"3143\",\"type\":\"HelpTool\"},{\"attributes\":{},\"id\":\"3292\",\"type\":\"UnionRenderers\"},{\"attributes\":{\"callback\":null,\"factors\":[\"JEFERSON DOS SANTOS\",\"SERGIO SUAREZ\",\"MARCO PAZ\",\"JULIO DE MARCO\",\"WILMAN DO PRADO\",\"HORACIO BONILLA\",\"FABIAN VILLARINO B\",\"JUAN MARTIN BONILLA\",\"LUIS M. PRESENTADO\",\"DIEGO DANIEL PEREIRA CORE\",\"ROBERTO GANCHEROV\",\"DANIEL CABRAL\",\"ROBERTO VELLOZO\",\"ALCIDES BOLATTI\",\"CARLOS PUGLIA\",\"PABLO SUBERBIE\",\"GABRIEL SUBERBIE\",\"FERNANDO CABALLERO\",\"CARLOS CARMONA\",\"DIEGO MEDINA\",\"MARIO PASTORINI\",\"JORGE LUIS DE LIMA LEMOS\",\"JORGE SILVERA\",\"FEDERICO MANSILLA\",\"ANGEL M. MONTERO\",\"WILLIAM PASTORINI\",\"CHAPUIS\",\"ROBERTO PEREYRA\",\"GABRIEL REYES\",\"LUIS PALAVECINO\",\"JHONY OLIVA\",\"DANILO BACHIN\",\"MARTIN CORREA\",\"ALVARO LENS\",\"RICARDO SUBERBIE\",\"ALEJANDRO CAMEJO\",\"ANTONIO BESSONART\",\"ALEJANDRO RODRIGUEZ\",\"LUIS MONTENEGRO\",\"MILTON ARISMENDI\",\"JAVIER PI\\u00a5A\",\"HENRY NU\\u00a5EZ OLIVERA\",\"GONZALO LOUREIRO\",\"FABIAN ROM\\u00b5N\",\"FABIAN VILLARINO BRUNOLDI\",\"RAM\\u00e0N ARMAS\",\"JORGE BENJAMIN PAZ\",\"FERNANDO REMEDIOS\",\"JOSE PEDRO MELOGNO\",\"RUBEN C.CECHELES\",\"MARCELO PEREZ\",\"MIGUEL BENTANCUR\",\"MIGUEL BAZZANO\",\"JORGE PEREZ\",\"DANILO CABILLON LEMES\",\"GUSTAVO PEREIRA\",\"SEBASTIAN IRIGARAY\",\"JHON SILVA\",\"MAURICIO SEIJAS\",\"ALVARO ERNESTO ROMAN ALVAREZ\",\"RICHARD FLEITAS\",\"CARLOS PASCUARIELO\",\"CARLOS ARRIOLA\",\"OSCAR BENAVIDES\",\"JESUS FOLIADOSO\",\"CARLOS DASTE\",\"JUAN RABELA\",\"ALVARO SILVERA\",\"ALFREDO MOLINA\",\"RICARDO CARABALLO\"]},\"id\":\"3123\",\"type\":\"FactorRange\"},{\"attributes\":{},\"id\":\"3142\",\"type\":\"ResetTool\"},{\"attributes\":{\"fill_alpha\":{\"value\":0.1},\"fill_color\":{\"value\":\"#1f77b4\"},\"height\":{\"value\":0.7},\"line_alpha\":{\"value\":0.1},\"line_color\":{\"value\":\"#1f77b4\"},\"right\":{\"field\":\"right\"},\"y\":{\"field\":\"y\"}},\"id\":\"3153\",\"type\":\"HBar\"},{\"attributes\":{\"text\":\"Volumen Total Repartido por cada Chofer en 2017\"},\"id\":\"3119\",\"type\":\"Title\"},{\"attributes\":{},\"id\":\"3290\",\"type\":\"UnionRenderers\"},{\"attributes\":{\"fill_color\":{\"value\":\"firebrick\"},\"height\":{\"value\":0.7},\"line_color\":{\"value\":\"firebrick\"},\"right\":{\"field\":\"right\"},\"y\":{\"field\":\"y\"}},\"id\":\"3152\",\"type\":\"HBar\"},{\"attributes\":{\"data_source\":{\"id\":\"3151\",\"type\":\"ColumnDataSource\"},\"glyph\":{\"id\":\"3152\",\"type\":\"HBar\"},\"hover_glyph\":null,\"muted_glyph\":null,\"nonselection_glyph\":{\"id\":\"3153\",\"type\":\"HBar\"},\"selection_glyph\":null,\"view\":{\"id\":\"3155\",\"type\":\"CDSView\"}},\"id\":\"3154\",\"type\":\"GlyphRenderer\"},{\"attributes\":{},\"id\":\"3138\",\"type\":\"PanTool\"},{\"attributes\":{},\"id\":\"3287\",\"type\":\"CategoricalTickFormatter\"},{\"attributes\":{},\"id\":\"3139\",\"type\":\"WheelZoomTool\"},{\"attributes\":{\"overlay\":{\"id\":\"3289\",\"type\":\"BoxAnnotation\"}},\"id\":\"3140\",\"type\":\"BoxZoomTool\"},{\"attributes\":{\"bottom_units\":\"screen\",\"fill_alpha\":{\"value\":0.5},\"fill_color\":{\"value\":\"lightgrey\"},\"left_units\":\"screen\",\"level\":\"overlay\",\"line_alpha\":{\"value\":1.0},\"line_color\":{\"value\":\"black\"},\"line_dash\":[4,4],\"line_width\":{\"value\":2},\"render_mode\":\"css\",\"right_units\":\"screen\",\"top_units\":\"screen\"},\"id\":\"3289\",\"type\":\"BoxAnnotation\"},{\"attributes\":{},\"id\":\"3291\",\"type\":\"Selection\"},{\"attributes\":{\"source\":{\"id\":\"3157\",\"type\":\"ColumnDataSource\"}},\"id\":\"3161\",\"type\":\"CDSView\"},{\"attributes\":{},\"id\":\"3141\",\"type\":\"SaveTool\"},{\"attributes\":{},\"id\":\"3127\",\"type\":\"CategoricalScale\"},{\"attributes\":{\"data_source\":{\"id\":\"3157\",\"type\":\"ColumnDataSource\"},\"glyph\":{\"id\":\"3158\",\"type\":\"Text\"},\"hover_glyph\":null,\"muted_glyph\":null,\"nonselection_glyph\":{\"id\":\"3159\",\"type\":\"Text\"},\"selection_glyph\":null,\"view\":{\"id\":\"3161\",\"type\":\"CDSView\"}},\"id\":\"3160\",\"type\":\"GlyphRenderer\"}],\"root_ids\":[\"3118\"]},\"title\":\"Bokeh Application\",\"version\":\"1.3.0\"}};\n",
       "  var render_items = [{\"docid\":\"34237133-bdbb-4a82-b892-ae9a03725247\",\"roots\":{\"3118\":\"4ea783a5-87d2-4284-867b-adefa43e1342\"}}];\n",
       "  root.Bokeh.embed.embed_items_notebook(docs_json, render_items);\n",
       "\n",
       "  }\n",
       "  if (root.Bokeh !== undefined) {\n",
       "    embed_document(root);\n",
       "  } else {\n",
       "    var attempts = 0;\n",
       "    var timer = setInterval(function(root) {\n",
       "      if (root.Bokeh !== undefined) {\n",
       "        embed_document(root);\n",
       "        clearInterval(timer);\n",
       "      }\n",
       "      attempts++;\n",
       "      if (attempts > 100) {\n",
       "        console.log(\"Bokeh: ERROR: Unable to run BokehJS code because BokehJS library is missing\");\n",
       "        clearInterval(timer);\n",
       "      }\n",
       "    }, 10, root)\n",
       "  }\n",
       "})(window);"
      ],
      "application/vnd.bokehjs_exec.v0+json": ""
     },
     "metadata": {
      "application/vnd.bokehjs_exec.v0+json": {
       "id": "3118"
      }
     },
     "output_type": "display_data"
    }
   ],
   "source": [
    "p = plot_litros_por_chofer(df17, title='Volumen Total Repartido por cada Chofer en 2017')"
   ]
  },
  {
   "cell_type": "code",
   "execution_count": 59,
   "metadata": {},
   "outputs": [
    {
     "data": {
      "text/html": [
       "\n",
       "\n",
       "\n",
       "\n",
       "\n",
       "\n",
       "  <div class=\"bk-root\" id=\"bf343df4-d7c2-450f-b4c5-15fc22203038\" data-root-id=\"3354\"></div>\n"
      ]
     },
     "metadata": {},
     "output_type": "display_data"
    },
    {
     "data": {
      "application/javascript": [
       "(function(root) {\n",
       "  function embed_document(root) {\n",
       "    \n",
       "  var docs_json = {\"d13b78e9-7562-4cb5-a439-4323f1251623\":{\"roots\":{\"references\":[{\"attributes\":{\"below\":[{\"id\":\"3365\",\"type\":\"CategoricalAxis\"}],\"center\":[{\"id\":\"3368\",\"type\":\"Grid\"},{\"id\":\"3373\",\"type\":\"Grid\"}],\"left\":[{\"id\":\"3369\",\"type\":\"LinearAxis\"}],\"plot_width\":800,\"renderers\":[{\"id\":\"3390\",\"type\":\"GlyphRenderer\"},{\"id\":\"3396\",\"type\":\"GlyphRenderer\"}],\"title\":{\"id\":\"3355\",\"type\":\"Title\"},\"toolbar\":{\"id\":\"3380\",\"type\":\"Toolbar\"},\"x_range\":{\"id\":\"3357\",\"type\":\"FactorRange\"},\"x_scale\":{\"id\":\"3361\",\"type\":\"CategoricalScale\"},\"y_range\":{\"id\":\"3359\",\"type\":\"DataRange1d\"},\"y_scale\":{\"id\":\"3363\",\"type\":\"LinearScale\"}},\"id\":\"3354\",\"subtype\":\"Figure\",\"type\":\"Plot\"},{\"attributes\":{\"callback\":null,\"factors\":[\"Lunes\",\"Martes\",\"Mi\\u00e9rcoles\",\"Jueves\",\"Viernes\",\"S\\u00e1bado\",\"Domingo\"]},\"id\":\"3357\",\"type\":\"FactorRange\"},{\"attributes\":{},\"id\":\"3375\",\"type\":\"WheelZoomTool\"},{\"attributes\":{\"callback\":null,\"data\":{\"text\":[\"19.21%\",\"18.02%\",\"17.52%\",\"18.23%\",\"24.18%\",\"2.85%\",\"0.00%\"],\"x\":[\"Lunes\",\"Martes\",\"Mi\\u00e9rcoles\",\"Jueves\",\"Viernes\",\"S\\u00e1bado\",\"Domingo\"],\"y\":{\"__ndarray__\":\"SOF6nMEbjEFI4XoMuGSKQUjhely1qYlBSOF6jDCwikGkcD0C2KSRQR+F61Fw3mFB7FG4HlFcJkE=\",\"dtype\":\"float64\",\"shape\":[7]}},\"selected\":{\"id\":\"3539\",\"type\":\"Selection\"},\"selection_policy\":{\"id\":\"3538\",\"type\":\"UnionRenderers\"}},\"id\":\"3393\",\"type\":\"ColumnDataSource\"},{\"attributes\":{},\"id\":\"3378\",\"type\":\"ResetTool\"},{\"attributes\":{},\"id\":\"3366\",\"type\":\"CategoricalTicker\"},{\"attributes\":{},\"id\":\"3370\",\"type\":\"BasicTicker\"},{\"attributes\":{},\"id\":\"3531\",\"type\":\"CategoricalTickFormatter\"},{\"attributes\":{\"ticker\":{\"id\":\"3366\",\"type\":\"CategoricalTicker\"}},\"id\":\"3368\",\"type\":\"Grid\"},{\"attributes\":{},\"id\":\"3536\",\"type\":\"UnionRenderers\"},{\"attributes\":{\"use_scientific\":false},\"id\":\"3392\",\"type\":\"BasicTickFormatter\"},{\"attributes\":{\"fill_color\":{\"value\":\"firebrick\"},\"line_color\":{\"value\":\"firebrick\"},\"top\":{\"field\":\"top\"},\"width\":{\"value\":0.5},\"x\":{\"field\":\"x\"}},\"id\":\"3388\",\"type\":\"VBar\"},{\"attributes\":{},\"id\":\"3377\",\"type\":\"SaveTool\"},{\"attributes\":{},\"id\":\"3363\",\"type\":\"LinearScale\"},{\"attributes\":{\"text_align\":\"center\",\"text_color\":{\"value\":\"black\"},\"text_font_size\":{\"value\":\"8pt\"},\"x\":{\"field\":\"x\"},\"y\":{\"field\":\"y\"}},\"id\":\"3394\",\"type\":\"Text\"},{\"attributes\":{},\"id\":\"3537\",\"type\":\"Selection\"},{\"attributes\":{\"axis_label\":\"D\\u00eda de la Semana\",\"formatter\":{\"id\":\"3531\",\"type\":\"CategoricalTickFormatter\"},\"ticker\":{\"id\":\"3366\",\"type\":\"CategoricalTicker\"}},\"id\":\"3365\",\"type\":\"CategoricalAxis\"},{\"attributes\":{\"callback\":null,\"data\":{\"top\":[58214923,54618329,53086339,55236585,73271256,8635738,0],\"x\":[\"Lunes\",\"Martes\",\"Mi\\u00e9rcoles\",\"Jueves\",\"Viernes\",\"S\\u00e1bado\",\"Domingo\"]},\"selected\":{\"id\":\"3537\",\"type\":\"Selection\"},\"selection_policy\":{\"id\":\"3536\",\"type\":\"UnionRenderers\"}},\"id\":\"3387\",\"type\":\"ColumnDataSource\"},{\"attributes\":{\"callback\":null},\"id\":\"3359\",\"type\":\"DataRange1d\"},{\"attributes\":{\"source\":{\"id\":\"3387\",\"type\":\"ColumnDataSource\"}},\"id\":\"3391\",\"type\":\"CDSView\"},{\"attributes\":{\"text_align\":\"center\",\"text_alpha\":{\"value\":0.1},\"text_color\":{\"value\":\"black\"},\"text_font_size\":{\"value\":\"8pt\"},\"x\":{\"field\":\"x\"},\"y\":{\"field\":\"y\"}},\"id\":\"3395\",\"type\":\"Text\"},{\"attributes\":{},\"id\":\"3361\",\"type\":\"CategoricalScale\"},{\"attributes\":{\"data_source\":{\"id\":\"3387\",\"type\":\"ColumnDataSource\"},\"glyph\":{\"id\":\"3388\",\"type\":\"VBar\"},\"hover_glyph\":null,\"muted_glyph\":null,\"nonselection_glyph\":{\"id\":\"3389\",\"type\":\"VBar\"},\"selection_glyph\":null,\"view\":{\"id\":\"3391\",\"type\":\"CDSView\"}},\"id\":\"3390\",\"type\":\"GlyphRenderer\"},{\"attributes\":{\"axis_label\":\"Volumen Distribu\\u00eddo (L)\",\"formatter\":{\"id\":\"3392\",\"type\":\"BasicTickFormatter\"},\"ticker\":{\"id\":\"3370\",\"type\":\"BasicTicker\"}},\"id\":\"3369\",\"type\":\"LinearAxis\"},{\"attributes\":{\"active_drag\":\"auto\",\"active_inspect\":\"auto\",\"active_multi\":null,\"active_scroll\":\"auto\",\"active_tap\":\"auto\",\"tools\":[{\"id\":\"3374\",\"type\":\"PanTool\"},{\"id\":\"3375\",\"type\":\"WheelZoomTool\"},{\"id\":\"3376\",\"type\":\"BoxZoomTool\"},{\"id\":\"3377\",\"type\":\"SaveTool\"},{\"id\":\"3378\",\"type\":\"ResetTool\"},{\"id\":\"3379\",\"type\":\"HelpTool\"}]},\"id\":\"3380\",\"type\":\"Toolbar\"},{\"attributes\":{\"data_source\":{\"id\":\"3393\",\"type\":\"ColumnDataSource\"},\"glyph\":{\"id\":\"3394\",\"type\":\"Text\"},\"hover_glyph\":null,\"muted_glyph\":null,\"nonselection_glyph\":{\"id\":\"3395\",\"type\":\"Text\"},\"selection_glyph\":null,\"view\":{\"id\":\"3397\",\"type\":\"CDSView\"}},\"id\":\"3396\",\"type\":\"GlyphRenderer\"},{\"attributes\":{},\"id\":\"3538\",\"type\":\"UnionRenderers\"},{\"attributes\":{\"text\":\"Vol\\u00famen Distribu\\u00eddo por D\\u00eda en 2017\"},\"id\":\"3355\",\"type\":\"Title\"},{\"attributes\":{},\"id\":\"3539\",\"type\":\"Selection\"},{\"attributes\":{\"source\":{\"id\":\"3393\",\"type\":\"ColumnDataSource\"}},\"id\":\"3397\",\"type\":\"CDSView\"},{\"attributes\":{},\"id\":\"3379\",\"type\":\"HelpTool\"},{\"attributes\":{\"bottom_units\":\"screen\",\"fill_alpha\":{\"value\":0.5},\"fill_color\":{\"value\":\"lightgrey\"},\"left_units\":\"screen\",\"level\":\"overlay\",\"line_alpha\":{\"value\":1.0},\"line_color\":{\"value\":\"black\"},\"line_dash\":[4,4],\"line_width\":{\"value\":2},\"render_mode\":\"css\",\"right_units\":\"screen\",\"top_units\":\"screen\"},\"id\":\"3535\",\"type\":\"BoxAnnotation\"},{\"attributes\":{\"dimension\":1,\"ticker\":{\"id\":\"3370\",\"type\":\"BasicTicker\"}},\"id\":\"3373\",\"type\":\"Grid\"},{\"attributes\":{\"overlay\":{\"id\":\"3535\",\"type\":\"BoxAnnotation\"}},\"id\":\"3376\",\"type\":\"BoxZoomTool\"},{\"attributes\":{\"fill_alpha\":{\"value\":0.1},\"fill_color\":{\"value\":\"#1f77b4\"},\"line_alpha\":{\"value\":0.1},\"line_color\":{\"value\":\"#1f77b4\"},\"top\":{\"field\":\"top\"},\"width\":{\"value\":0.5},\"x\":{\"field\":\"x\"}},\"id\":\"3389\",\"type\":\"VBar\"},{\"attributes\":{},\"id\":\"3374\",\"type\":\"PanTool\"}],\"root_ids\":[\"3354\"]},\"title\":\"Bokeh Application\",\"version\":\"1.3.0\"}};\n",
       "  var render_items = [{\"docid\":\"d13b78e9-7562-4cb5-a439-4323f1251623\",\"roots\":{\"3354\":\"bf343df4-d7c2-450f-b4c5-15fc22203038\"}}];\n",
       "  root.Bokeh.embed.embed_items_notebook(docs_json, render_items);\n",
       "\n",
       "  }\n",
       "  if (root.Bokeh !== undefined) {\n",
       "    embed_document(root);\n",
       "  } else {\n",
       "    var attempts = 0;\n",
       "    var timer = setInterval(function(root) {\n",
       "      if (root.Bokeh !== undefined) {\n",
       "        embed_document(root);\n",
       "        clearInterval(timer);\n",
       "      }\n",
       "      attempts++;\n",
       "      if (attempts > 100) {\n",
       "        console.log(\"Bokeh: ERROR: Unable to run BokehJS code because BokehJS library is missing\");\n",
       "        clearInterval(timer);\n",
       "      }\n",
       "    }, 10, root)\n",
       "  }\n",
       "})(window);"
      ],
      "application/vnd.bokehjs_exec.v0+json": ""
     },
     "metadata": {
      "application/vnd.bokehjs_exec.v0+json": {
       "id": "3354"
      }
     },
     "output_type": "display_data"
    }
   ],
   "source": [
    "plot_vol_por_dia(df17, title='Volúmen Distribuído por Día en 2017')"
   ]
  },
  {
   "cell_type": "code",
   "execution_count": 60,
   "metadata": {
    "scrolled": true
   },
   "outputs": [
    {
     "data": {
      "text/html": [
       "<div>\n",
       "<style scoped>\n",
       "    .dataframe tbody tr th:only-of-type {\n",
       "        vertical-align: middle;\n",
       "    }\n",
       "\n",
       "    .dataframe tbody tr th {\n",
       "        vertical-align: top;\n",
       "    }\n",
       "\n",
       "    .dataframe thead tr th {\n",
       "        text-align: left;\n",
       "    }\n",
       "\n",
       "    .dataframe thead tr:last-of-type th {\n",
       "        text-align: right;\n",
       "    }\n",
       "</style>\n",
       "<table border=\"1\" class=\"dataframe\">\n",
       "  <thead>\n",
       "    <tr>\n",
       "      <th></th>\n",
       "      <th>sum</th>\n",
       "    </tr>\n",
       "    <tr>\n",
       "      <th></th>\n",
       "      <th>TOTCARGA</th>\n",
       "    </tr>\n",
       "    <tr>\n",
       "      <th>dia</th>\n",
       "      <th></th>\n",
       "    </tr>\n",
       "  </thead>\n",
       "  <tbody>\n",
       "    <tr>\n",
       "      <th>Monday</th>\n",
       "      <td>58214923</td>\n",
       "    </tr>\n",
       "    <tr>\n",
       "      <th>Tuesday</th>\n",
       "      <td>54618329</td>\n",
       "    </tr>\n",
       "    <tr>\n",
       "      <th>Wednesday</th>\n",
       "      <td>53086339</td>\n",
       "    </tr>\n",
       "    <tr>\n",
       "      <th>Thursday</th>\n",
       "      <td>55236585</td>\n",
       "    </tr>\n",
       "    <tr>\n",
       "      <th>Friday</th>\n",
       "      <td>73271256</td>\n",
       "    </tr>\n",
       "    <tr>\n",
       "      <th>Saturday</th>\n",
       "      <td>8635738</td>\n",
       "    </tr>\n",
       "    <tr>\n",
       "      <th>Sunday</th>\n",
       "      <td>0</td>\n",
       "    </tr>\n",
       "  </tbody>\n",
       "</table>\n",
       "</div>"
      ],
      "text/plain": [
       "                sum\n",
       "           TOTCARGA\n",
       "dia                \n",
       "Monday     58214923\n",
       "Tuesday    54618329\n",
       "Wednesday  53086339\n",
       "Thursday   55236585\n",
       "Friday     73271256\n",
       "Saturday    8635738\n",
       "Sunday            0"
      ]
     },
     "execution_count": 60,
     "metadata": {},
     "output_type": "execute_result"
    }
   ],
   "source": [
    "daily_tc = pd.pivot_table(df17, values='TOTCARGA', index='dia', aggfunc=['sum'])\n",
    "daily_tc"
   ]
  },
  {
   "cell_type": "markdown",
   "metadata": {},
   "source": [
    "## 2018"
   ]
  },
  {
   "cell_type": "code",
   "execution_count": 61,
   "metadata": {},
   "outputs": [],
   "source": [
    "year = 2018\n",
    "df = read_file('VIAJ2018.xlsx', 'VIAJ2018')"
   ]
  },
  {
   "cell_type": "code",
   "execution_count": 62,
   "metadata": {},
   "outputs": [
    {
     "data": {
      "text/html": [
       "\n",
       "\n",
       "\n",
       "\n",
       "\n",
       "\n",
       "  <div class=\"bk-root\" id=\"bf45f435-2071-402d-a643-88fe9c8d755c\" data-root-id=\"3600\"></div>\n"
      ]
     },
     "metadata": {},
     "output_type": "display_data"
    },
    {
     "data": {
      "application/javascript": [
       "(function(root) {\n",
       "  function embed_document(root) {\n",
       "    \n",
       "  var docs_json = {\"34175b1f-af8b-4d76-b269-8aecc318781a\":{\"roots\":{\"references\":[{\"attributes\":{\"below\":[{\"id\":\"3611\",\"type\":\"LinearAxis\"}],\"center\":[{\"id\":\"3615\",\"type\":\"Grid\"},{\"id\":\"3619\",\"type\":\"Grid\"}],\"left\":[{\"id\":\"3616\",\"type\":\"CategoricalAxis\"}],\"plot_height\":1200,\"plot_width\":900,\"renderers\":[{\"id\":\"3636\",\"type\":\"GlyphRenderer\"},{\"id\":\"3642\",\"type\":\"GlyphRenderer\"}],\"title\":{\"id\":\"3601\",\"type\":\"Title\"},\"toolbar\":{\"id\":\"3626\",\"type\":\"Toolbar\"},\"x_range\":{\"id\":\"3603\",\"type\":\"Range1d\"},\"x_scale\":{\"id\":\"3607\",\"type\":\"LinearScale\"},\"y_range\":{\"id\":\"3605\",\"type\":\"FactorRange\"},\"y_scale\":{\"id\":\"3609\",\"type\":\"CategoricalScale\"}},\"id\":\"3600\",\"subtype\":\"Figure\",\"type\":\"Plot\"},{\"attributes\":{\"axis_label\":\"Chofer\",\"formatter\":{\"id\":\"3789\",\"type\":\"CategoricalTickFormatter\"},\"ticker\":{\"id\":\"3617\",\"type\":\"CategoricalTicker\"}},\"id\":\"3616\",\"type\":\"CategoricalAxis\"},{\"attributes\":{\"text\":\"Volumen Total Repartido por cada Chofer en 2018\"},\"id\":\"3601\",\"type\":\"Title\"},{\"attributes\":{\"data_source\":{\"id\":\"3639\",\"type\":\"ColumnDataSource\"},\"glyph\":{\"id\":\"3640\",\"type\":\"Text\"},\"hover_glyph\":null,\"muted_glyph\":null,\"nonselection_glyph\":{\"id\":\"3641\",\"type\":\"Text\"},\"selection_glyph\":null,\"view\":{\"id\":\"3643\",\"type\":\"CDSView\"}},\"id\":\"3642\",\"type\":\"GlyphRenderer\"},{\"attributes\":{\"axis_label\":\"Carga Total (litros)\",\"formatter\":{\"id\":\"3638\",\"type\":\"BasicTickFormatter\"},\"ticker\":{\"id\":\"3612\",\"type\":\"BasicTicker\"}},\"id\":\"3611\",\"type\":\"LinearAxis\"},{\"attributes\":{\"text_alpha\":{\"value\":0.1},\"text_baseline\":\"middle\",\"text_color\":{\"value\":\"black\"},\"text_font_size\":{\"value\":\"6pt\"},\"x\":{\"field\":\"x\"},\"y\":{\"field\":\"y\"}},\"id\":\"3641\",\"type\":\"Text\"},{\"attributes\":{},\"id\":\"3609\",\"type\":\"CategoricalScale\"},{\"attributes\":{\"fill_alpha\":{\"value\":0.1},\"fill_color\":{\"value\":\"#1f77b4\"},\"height\":{\"value\":0.7},\"line_alpha\":{\"value\":0.1},\"line_color\":{\"value\":\"#1f77b4\"},\"right\":{\"field\":\"right\"},\"y\":{\"field\":\"y\"}},\"id\":\"3635\",\"type\":\"HBar\"},{\"attributes\":{\"fill_color\":{\"value\":\"firebrick\"},\"height\":{\"value\":0.7},\"line_color\":{\"value\":\"firebrick\"},\"right\":{\"field\":\"right\"},\"y\":{\"field\":\"y\"}},\"id\":\"3634\",\"type\":\"HBar\"},{\"attributes\":{\"text_baseline\":\"middle\",\"text_color\":{\"value\":\"black\"},\"text_font_size\":{\"value\":\"6pt\"},\"x\":{\"field\":\"x\"},\"y\":{\"field\":\"y\"}},\"id\":\"3640\",\"type\":\"Text\"},{\"attributes\":{\"callback\":null,\"factors\":[\"MAURO HERMOSO\",\"ALVARO LENS\",\"FERNANDO CABALLERO\",\"SERGIO SUAREZ\",\"EDUARDO MARI\\u00a5O\",\"JORGE LUIS DE LIMA LEMOS\",\"LUIS RAMOS\",\"DANIEL NEGRO\",\"JUAN GODOY\",\"HORACIO BONILLA\",\"JUAN MARTIN BONILLA\",\"MANUEL CABRERA\",\"ALCIDES BOLATTI\",\"JULIO DE MARCO\",\"ROBERTO VELLOZO\",\"MARIO PASTORINI\",\"DAR\\u00d6O PE\\u00a5A\",\"LUIS M. PRESENTADO\",\"CARLOS CARMONA\",\"DANIEL CABRAL\",\"EDGAR ILLENZEER\",\"GUSTAVO PEREIRA\",\"ROBERTO GANCHEROV\",\"CARLOS PUGLIA\",\"RAFAEL MASSA\",\"JUAN MARTINEZ\",\"JORGE SILVERA\",\"ANGEL M. MONTERO\",\"OMAR SOLIS\",\"CHAPUIS\",\"WILLIAM PASTORINI\",\"FEDERICO MANSILLA\",\"JAVIER PI\\u00a5A\",\"DIEGO MEDINA\",\"RICHARD FAR\\u00d6AS\",\"PABLO SUBERBIE\",\"GABRIEL SUBERBIE\",\"GABRIEL REYES\",\"ADRIAN ARISMENDI\",\"ALEJANDRO CAMEJO\",\"MARCO PAZ\",\"DANILO BACHIN\",\"JHONY OLIVA\",\"ANTONIO BESSONART\",\"MILTON ARISMENDI\",\"JUAN GARCIA\",\"RICARDO SUBERBIE\",\"PABLO SUREDA\",\"ALVARO ERNESTO ROMAN ALVAREZ\",\"ROBERTO PEREYRA\",\"DANILO CABILLON LEMES\",\"JORDY RODRIGUEZ\",\"RUB\\u0090N MART\\u00d6NEZ\",\"JULIO FALERO\",\"HENRY NU\\u00a5EZ OLIVERA\",\"LUIS MONTENEGRO\",\"GONZALO LOUREIRO\",\"CARLOS PASCUARIELO\",\"MIGUEL BENTANCUR\",\"RUBEN C.CECHELES\",\"JHON SILVA\",\"MARCELO PEREZ\",\"MAURICIO SEIJAS\",\"SEBASTIAN IRIGARAY\",\"FABIAN VILLARINO BRUNOLDI\",\"FERNANDO REMEDIOS\",\"JORGE BENJAMIN PAZ\",\"JORGE PEREZ\",\"JOSE PEDRO MELOGNO\",\"RICHARD FLEITAS\",\"MIGUEL BAZZANO\",\"CARLOS ARRIOLA\",\"FABIAN ROM\\u00b5N\",\"JESUS FOLIADOSO\",\"ALVARO SILVERA\",\"OSCAR BENAVIDES\",\"RICARDO CARABALLO\",\"CARLOS DASTE\",\"JUAN RABELA\",\"ALFREDO MOLINA\"]},\"id\":\"3605\",\"type\":\"FactorRange\"},{\"attributes\":{\"callback\":null,\"end\":18914936.4,\"start\":-1},\"id\":\"3603\",\"type\":\"Range1d\"},{\"attributes\":{},\"id\":\"3789\",\"type\":\"CategoricalTickFormatter\"},{\"attributes\":{},\"id\":\"3795\",\"type\":\"Selection\"},{\"attributes\":{},\"id\":\"3612\",\"type\":\"BasicTicker\"},{\"attributes\":{},\"id\":\"3617\",\"type\":\"CategoricalTicker\"},{\"attributes\":{},\"id\":\"3620\",\"type\":\"PanTool\"},{\"attributes\":{\"callback\":null,\"data\":{\"text\":[\"23882.0 (0.01%)\",\"25907.0 (0.01%)\",\"34666.0 (0.01%)\",\"51694.0 (0.02%)\",\"51875.0 (0.02%)\",\"62968.0 (0.02%)\",\"81732.0 (0.03%)\",\"94160.0 (0.03%)\",\"197134.0 (0.06%)\",\"213005.0 (0.07%)\",\"251276.0 (0.08%)\",\"294620.0 (0.10%)\",\"298813.0 (0.10%)\",\"302627.0 (0.10%)\",\"319241.0 (0.10%)\",\"323128.0 (0.10%)\",\"329367.0 (0.11%)\",\"358052.0 (0.12%)\",\"373644.0 (0.12%)\",\"393623.0 (0.13%)\",\"410476.0 (0.13%)\",\"411549.0 (0.13%)\",\"427649.0 (0.14%)\",\"428641.0 (0.14%)\",\"457826.0 (0.15%)\",\"460901.0 (0.15%)\",\"509772.0 (0.17%)\",\"524212.0 (0.17%)\",\"549485.0 (0.18%)\",\"581018.0 (0.19%)\",\"594045.0 (0.19%)\",\"602503.0 (0.20%)\",\"629047.0 (0.20%)\",\"635287.0 (0.21%)\",\"829988.0 (0.27%)\",\"838033.0 (0.27%)\",\"849697.0 (0.28%)\",\"987067.0 (0.32%)\",\"1161608.0 (0.38%)\",\"1290920.0 (0.42%)\",\"1397813.0 (0.45%)\",\"1651788.0 (0.53%)\",\"1794169.0 (0.58%)\",\"1866546.0 (0.60%)\",\"2065456.0 (0.67%)\",\"2120347.0 (0.69%)\",\"2309224.0 (0.75%)\",\"2390840.0 (0.77%)\",\"2736133.0 (0.89%)\",\"3215328.0 (1.04%)\",\"3618113.0 (1.17%)\",\"4610126.0 (1.49%)\",\"4958764.0 (1.61%)\",\"5391084.0 (1.75%)\",\"5721366.0 (1.85%)\",\"7175498.0 (2.32%)\",\"7271414.0 (2.35%)\",\"7307862.0 (2.37%)\",\"7526012.0 (2.44%)\",\"7810272.0 (2.53%)\",\"7887064.0 (2.55%)\",\"8119220.0 (2.63%)\",\"8152877.0 (2.64%)\",\"8162681.0 (2.64%)\",\"8322657.0 (2.69%)\",\"8370418.0 (2.71%)\",\"8553467.0 (2.77%)\",\"8617631.0 (2.79%)\",\"8679721.0 (2.81%)\",\"8730243.0 (2.83%)\",\"8767321.0 (2.84%)\",\"9083057.0 (2.94%)\",\"10490459.0 (3.40%)\",\"13035869.0 (4.22%)\",\"13167505.0 (4.26%)\",\"13462645.0 (4.36%)\",\"13693908.0 (4.43%)\",\"13716625.0 (4.44%)\",\"13958596.0 (4.52%)\",\"15762447.0 (5.10%)\"],\"x\":{\"__ndarray__\":\"KVyPwhMoBkEpXI/CW2cGQSlcj8ITeQdBKVyPwjONCUEpXI/C25IJQSlcj8KD7QpBKVyPwuM3DUEpXI/CQ7wOQRSuR+EZpxVBFK5H4RWfFkEUrkfhEfUYQRSuR+FRmhtBFK5H4dXbG0EUrkfhbRccQRSuR+EFGx1BFK5H4cFXHUEUrkfhPbkdQRSuR+FxeR9BCtej8Ig2IEEK16PwntIgQQrXo/BIViFBCtej8KpeIUEK16PwctwhQQrXo/Ay5CFBCtej8DTIIkEK16PwOuAiQQrXo/AIXiRBCtej8NjOJEEK16PwSpQlQQrXo/CkiiZBCtej8GrwJkEK16PwfjInQQrXo/DeAShBCtej8J4yKEEK16PwuCMuQQrXo/CSYi5BCtej8LK9LkGF61F4c3cxQYXrUXhAITRBhetReGAaNkGF61F47bs3QYXrUXgEnDtBhetReDHIPUGF61F46uI+QcP1KDz09UBBw/UovClhQUHD9Sg8ENJCQcP1KDx4cUNBw/UovN4TRkHD9Sg8zLtJQcP1KLx8zkxB4XoUngEwUkHhehQeeYRTQeF6FB6pKlVB4XoUnjNtVkHhehSeQPlbQeF6FJ7rVlxB4XoUnoN6XEHhehQejU9dQeF6FB4mZV5B4XoUHiSwXkHhehQe25JfQeF6FF65s19B4XoUXky9X0FxPQovwyxgQXE9Ck8VRGBBcT0Kb3adYEFxPQrvyrxgQXE9Ci8c22BBcT0Kb8fzYEFxPQov4gVhQXE9Ci8NoGFBcT0Kb0JPZEFxPQqvIippQXE9Ci9pamlBcT0Kr4X6aUFxPQqPcWtqQXE9Ci+JdmpBcT0Kj6/sakFxPQrveF1uQQ==\",\"dtype\":\"float64\",\"shape\":[80]},\"y\":[\"MAURO HERMOSO\",\"ALVARO LENS\",\"FERNANDO CABALLERO\",\"SERGIO SUAREZ\",\"EDUARDO MARI\\u00a5O\",\"JORGE LUIS DE LIMA LEMOS\",\"LUIS RAMOS\",\"DANIEL NEGRO\",\"JUAN GODOY\",\"HORACIO BONILLA\",\"JUAN MARTIN BONILLA\",\"MANUEL CABRERA\",\"ALCIDES BOLATTI\",\"JULIO DE MARCO\",\"ROBERTO VELLOZO\",\"MARIO PASTORINI\",\"DAR\\u00d6O PE\\u00a5A\",\"LUIS M. PRESENTADO\",\"CARLOS CARMONA\",\"DANIEL CABRAL\",\"EDGAR ILLENZEER\",\"GUSTAVO PEREIRA\",\"ROBERTO GANCHEROV\",\"CARLOS PUGLIA\",\"RAFAEL MASSA\",\"JUAN MARTINEZ\",\"JORGE SILVERA\",\"ANGEL M. MONTERO\",\"OMAR SOLIS\",\"CHAPUIS\",\"WILLIAM PASTORINI\",\"FEDERICO MANSILLA\",\"JAVIER PI\\u00a5A\",\"DIEGO MEDINA\",\"RICHARD FAR\\u00d6AS\",\"PABLO SUBERBIE\",\"GABRIEL SUBERBIE\",\"GABRIEL REYES\",\"ADRIAN ARISMENDI\",\"ALEJANDRO CAMEJO\",\"MARCO PAZ\",\"DANILO BACHIN\",\"JHONY OLIVA\",\"ANTONIO BESSONART\",\"MILTON ARISMENDI\",\"JUAN GARCIA\",\"RICARDO SUBERBIE\",\"PABLO SUREDA\",\"ALVARO ERNESTO ROMAN ALVAREZ\",\"ROBERTO PEREYRA\",\"DANILO CABILLON LEMES\",\"JORDY RODRIGUEZ\",\"RUB\\u0090N MART\\u00d6NEZ\",\"JULIO FALERO\",\"HENRY NU\\u00a5EZ OLIVERA\",\"LUIS MONTENEGRO\",\"GONZALO LOUREIRO\",\"CARLOS PASCUARIELO\",\"MIGUEL BENTANCUR\",\"RUBEN C.CECHELES\",\"JHON SILVA\",\"MARCELO PEREZ\",\"MAURICIO SEIJAS\",\"SEBASTIAN IRIGARAY\",\"FABIAN VILLARINO BRUNOLDI\",\"FERNANDO REMEDIOS\",\"JORGE BENJAMIN PAZ\",\"JORGE PEREZ\",\"JOSE PEDRO MELOGNO\",\"RICHARD FLEITAS\",\"MIGUEL BAZZANO\",\"CARLOS ARRIOLA\",\"FABIAN ROM\\u00b5N\",\"JESUS FOLIADOSO\",\"ALVARO SILVERA\",\"OSCAR BENAVIDES\",\"RICARDO CARABALLO\",\"CARLOS DASTE\",\"JUAN RABELA\",\"ALFREDO MOLINA\"]},\"selected\":{\"id\":\"3795\",\"type\":\"Selection\"},\"selection_policy\":{\"id\":\"3794\",\"type\":\"UnionRenderers\"}},\"id\":\"3639\",\"type\":\"ColumnDataSource\"},{\"attributes\":{\"callback\":null,\"data\":{\"right\":[23882,25907,34666,51694,51875,62968,81732,94160,197134,213005,251276,294620,298813,302627,319241,323128,329367,358052,373644,393623,410476,411549,427649,428641,457826,460901,509772,524212,549485,581018,594045,602503,629047,635287,829988,838033,849697,987067,1161608,1290920,1397813,1651788,1794169,1866546,2065456,2120347,2309224,2390840,2736133,3215328,3618113,4610126,4958764,5391084,5721366,7175498,7271414,7307862,7526012,7810272,7887064,8119220,8152877,8162681,8322657,8370418,8553467,8617631,8679721,8730243,8767321,9083057,10490459,13035869,13167505,13462645,13693908,13716625,13958596,15762447],\"y\":[\"MAURO HERMOSO\",\"ALVARO LENS\",\"FERNANDO CABALLERO\",\"SERGIO SUAREZ\",\"EDUARDO MARI\\u00a5O\",\"JORGE LUIS DE LIMA LEMOS\",\"LUIS RAMOS\",\"DANIEL NEGRO\",\"JUAN GODOY\",\"HORACIO BONILLA\",\"JUAN MARTIN BONILLA\",\"MANUEL CABRERA\",\"ALCIDES BOLATTI\",\"JULIO DE MARCO\",\"ROBERTO VELLOZO\",\"MARIO PASTORINI\",\"DAR\\u00d6O PE\\u00a5A\",\"LUIS M. PRESENTADO\",\"CARLOS CARMONA\",\"DANIEL CABRAL\",\"EDGAR ILLENZEER\",\"GUSTAVO PEREIRA\",\"ROBERTO GANCHEROV\",\"CARLOS PUGLIA\",\"RAFAEL MASSA\",\"JUAN MARTINEZ\",\"JORGE SILVERA\",\"ANGEL M. MONTERO\",\"OMAR SOLIS\",\"CHAPUIS\",\"WILLIAM PASTORINI\",\"FEDERICO MANSILLA\",\"JAVIER PI\\u00a5A\",\"DIEGO MEDINA\",\"RICHARD FAR\\u00d6AS\",\"PABLO SUBERBIE\",\"GABRIEL SUBERBIE\",\"GABRIEL REYES\",\"ADRIAN ARISMENDI\",\"ALEJANDRO CAMEJO\",\"MARCO PAZ\",\"DANILO BACHIN\",\"JHONY OLIVA\",\"ANTONIO BESSONART\",\"MILTON ARISMENDI\",\"JUAN GARCIA\",\"RICARDO SUBERBIE\",\"PABLO SUREDA\",\"ALVARO ERNESTO ROMAN ALVAREZ\",\"ROBERTO PEREYRA\",\"DANILO CABILLON LEMES\",\"JORDY RODRIGUEZ\",\"RUB\\u0090N MART\\u00d6NEZ\",\"JULIO FALERO\",\"HENRY NU\\u00a5EZ OLIVERA\",\"LUIS MONTENEGRO\",\"GONZALO LOUREIRO\",\"CARLOS PASCUARIELO\",\"MIGUEL BENTANCUR\",\"RUBEN C.CECHELES\",\"JHON SILVA\",\"MARCELO PEREZ\",\"MAURICIO SEIJAS\",\"SEBASTIAN IRIGARAY\",\"FABIAN VILLARINO BRUNOLDI\",\"FERNANDO REMEDIOS\",\"JORGE BENJAMIN PAZ\",\"JORGE PEREZ\",\"JOSE PEDRO MELOGNO\",\"RICHARD FLEITAS\",\"MIGUEL BAZZANO\",\"CARLOS ARRIOLA\",\"FABIAN ROM\\u00b5N\",\"JESUS FOLIADOSO\",\"ALVARO SILVERA\",\"OSCAR BENAVIDES\",\"RICARDO CARABALLO\",\"CARLOS DASTE\",\"JUAN RABELA\",\"ALFREDO MOLINA\"]},\"selected\":{\"id\":\"3793\",\"type\":\"Selection\"},\"selection_policy\":{\"id\":\"3792\",\"type\":\"UnionRenderers\"}},\"id\":\"3633\",\"type\":\"ColumnDataSource\"},{\"attributes\":{},\"id\":\"3794\",\"type\":\"UnionRenderers\"},{\"attributes\":{},\"id\":\"3621\",\"type\":\"WheelZoomTool\"},{\"attributes\":{\"overlay\":{\"id\":\"3791\",\"type\":\"BoxAnnotation\"}},\"id\":\"3622\",\"type\":\"BoxZoomTool\"},{\"attributes\":{\"use_scientific\":false},\"id\":\"3638\",\"type\":\"BasicTickFormatter\"},{\"attributes\":{},\"id\":\"3793\",\"type\":\"Selection\"},{\"attributes\":{},\"id\":\"3623\",\"type\":\"SaveTool\"},{\"attributes\":{},\"id\":\"3607\",\"type\":\"LinearScale\"},{\"attributes\":{},\"id\":\"3624\",\"type\":\"ResetTool\"},{\"attributes\":{},\"id\":\"3625\",\"type\":\"HelpTool\"},{\"attributes\":{},\"id\":\"3792\",\"type\":\"UnionRenderers\"},{\"attributes\":{\"data_source\":{\"id\":\"3633\",\"type\":\"ColumnDataSource\"},\"glyph\":{\"id\":\"3634\",\"type\":\"HBar\"},\"hover_glyph\":null,\"muted_glyph\":null,\"nonselection_glyph\":{\"id\":\"3635\",\"type\":\"HBar\"},\"selection_glyph\":null,\"view\":{\"id\":\"3637\",\"type\":\"CDSView\"}},\"id\":\"3636\",\"type\":\"GlyphRenderer\"},{\"attributes\":{\"ticker\":{\"id\":\"3612\",\"type\":\"BasicTicker\"}},\"id\":\"3615\",\"type\":\"Grid\"},{\"attributes\":{\"bottom_units\":\"screen\",\"fill_alpha\":{\"value\":0.5},\"fill_color\":{\"value\":\"lightgrey\"},\"left_units\":\"screen\",\"level\":\"overlay\",\"line_alpha\":{\"value\":1.0},\"line_color\":{\"value\":\"black\"},\"line_dash\":[4,4],\"line_width\":{\"value\":2},\"render_mode\":\"css\",\"right_units\":\"screen\",\"top_units\":\"screen\"},\"id\":\"3791\",\"type\":\"BoxAnnotation\"},{\"attributes\":{\"source\":{\"id\":\"3633\",\"type\":\"ColumnDataSource\"}},\"id\":\"3637\",\"type\":\"CDSView\"},{\"attributes\":{\"active_drag\":\"auto\",\"active_inspect\":\"auto\",\"active_multi\":null,\"active_scroll\":\"auto\",\"active_tap\":\"auto\",\"tools\":[{\"id\":\"3620\",\"type\":\"PanTool\"},{\"id\":\"3621\",\"type\":\"WheelZoomTool\"},{\"id\":\"3622\",\"type\":\"BoxZoomTool\"},{\"id\":\"3623\",\"type\":\"SaveTool\"},{\"id\":\"3624\",\"type\":\"ResetTool\"},{\"id\":\"3625\",\"type\":\"HelpTool\"}]},\"id\":\"3626\",\"type\":\"Toolbar\"},{\"attributes\":{\"dimension\":1,\"ticker\":{\"id\":\"3617\",\"type\":\"CategoricalTicker\"}},\"id\":\"3619\",\"type\":\"Grid\"},{\"attributes\":{\"source\":{\"id\":\"3639\",\"type\":\"ColumnDataSource\"}},\"id\":\"3643\",\"type\":\"CDSView\"}],\"root_ids\":[\"3600\"]},\"title\":\"Bokeh Application\",\"version\":\"1.3.0\"}};\n",
       "  var render_items = [{\"docid\":\"34175b1f-af8b-4d76-b269-8aecc318781a\",\"roots\":{\"3600\":\"bf45f435-2071-402d-a643-88fe9c8d755c\"}}];\n",
       "  root.Bokeh.embed.embed_items_notebook(docs_json, render_items);\n",
       "\n",
       "  }\n",
       "  if (root.Bokeh !== undefined) {\n",
       "    embed_document(root);\n",
       "  } else {\n",
       "    var attempts = 0;\n",
       "    var timer = setInterval(function(root) {\n",
       "      if (root.Bokeh !== undefined) {\n",
       "        embed_document(root);\n",
       "        clearInterval(timer);\n",
       "      }\n",
       "      attempts++;\n",
       "      if (attempts > 100) {\n",
       "        console.log(\"Bokeh: ERROR: Unable to run BokehJS code because BokehJS library is missing\");\n",
       "        clearInterval(timer);\n",
       "      }\n",
       "    }, 10, root)\n",
       "  }\n",
       "})(window);"
      ],
      "application/vnd.bokehjs_exec.v0+json": ""
     },
     "metadata": {
      "application/vnd.bokehjs_exec.v0+json": {
       "id": "3600"
      }
     },
     "output_type": "display_data"
    }
   ],
   "source": [
    "p = plot_litros_por_chofer(df, title='Volumen Total Repartido por cada Chofer en %d' % year)"
   ]
  },
  {
   "cell_type": "code",
   "execution_count": 69,
   "metadata": {},
   "outputs": [
    {
     "data": {
      "text/html": [
       "\n",
       "\n",
       "\n",
       "\n",
       "\n",
       "\n",
       "  <div class=\"bk-root\" id=\"a4f4b298-7b00-43da-8eb0-ecf2d870dde8\" data-root-id=\"4684\"></div>\n"
      ]
     },
     "metadata": {},
     "output_type": "display_data"
    },
    {
     "data": {
      "application/javascript": [
       "(function(root) {\n",
       "  function embed_document(root) {\n",
       "    \n",
       "  var docs_json = {\"70acb679-dbfb-494a-b726-2a5c3e7ac975\":{\"roots\":{\"references\":[{\"attributes\":{\"below\":[{\"id\":\"4695\",\"type\":\"CategoricalAxis\"}],\"center\":[{\"id\":\"4698\",\"type\":\"Grid\"},{\"id\":\"4703\",\"type\":\"Grid\"}],\"left\":[{\"id\":\"4699\",\"type\":\"LinearAxis\"}],\"plot_width\":800,\"renderers\":[{\"id\":\"4720\",\"type\":\"GlyphRenderer\"},{\"id\":\"4726\",\"type\":\"GlyphRenderer\"}],\"title\":{\"id\":\"4685\",\"type\":\"Title\"},\"toolbar\":{\"id\":\"4710\",\"type\":\"Toolbar\"},\"x_range\":{\"id\":\"4687\",\"type\":\"FactorRange\"},\"x_scale\":{\"id\":\"4691\",\"type\":\"CategoricalScale\"},\"y_range\":{\"id\":\"4689\",\"type\":\"DataRange1d\"},\"y_scale\":{\"id\":\"4693\",\"type\":\"LinearScale\"}},\"id\":\"4684\",\"subtype\":\"Figure\",\"type\":\"Plot\"},{\"attributes\":{},\"id\":\"4919\",\"type\":\"Selection\"},{\"attributes\":{},\"id\":\"4917\",\"type\":\"Selection\"},{\"attributes\":{\"ticker\":{\"id\":\"4696\",\"type\":\"CategoricalTicker\"}},\"id\":\"4698\",\"type\":\"Grid\"},{\"attributes\":{\"axis_label\":\"D\\u00eda de la Semana\",\"formatter\":{\"id\":\"4911\",\"type\":\"CategoricalTickFormatter\"},\"ticker\":{\"id\":\"4696\",\"type\":\"CategoricalTicker\"}},\"id\":\"4695\",\"type\":\"CategoricalAxis\"},{\"attributes\":{},\"id\":\"4709\",\"type\":\"HelpTool\"},{\"attributes\":{\"data_source\":{\"id\":\"4723\",\"type\":\"ColumnDataSource\"},\"glyph\":{\"id\":\"4724\",\"type\":\"Text\"},\"hover_glyph\":null,\"muted_glyph\":null,\"nonselection_glyph\":{\"id\":\"4725\",\"type\":\"Text\"},\"selection_glyph\":null,\"view\":{\"id\":\"4727\",\"type\":\"CDSView\"}},\"id\":\"4726\",\"type\":\"GlyphRenderer\"},{\"attributes\":{},\"id\":\"4693\",\"type\":\"LinearScale\"},{\"attributes\":{},\"id\":\"4911\",\"type\":\"CategoricalTickFormatter\"},{\"attributes\":{\"text\":\"Vol\\u00famen Distribu\\u00eddo por D\\u00eda en 2018\"},\"id\":\"4685\",\"type\":\"Title\"},{\"attributes\":{\"fill_color\":{\"value\":\"firebrick\"},\"line_color\":{\"value\":\"firebrick\"},\"top\":{\"field\":\"top\"},\"width\":{\"value\":0.5},\"x\":{\"field\":\"x\"}},\"id\":\"4718\",\"type\":\"VBar\"},{\"attributes\":{},\"id\":\"4707\",\"type\":\"SaveTool\"},{\"attributes\":{\"active_drag\":\"auto\",\"active_inspect\":\"auto\",\"active_multi\":null,\"active_scroll\":\"auto\",\"active_tap\":\"auto\",\"tools\":[{\"id\":\"4704\",\"type\":\"PanTool\"},{\"id\":\"4705\",\"type\":\"WheelZoomTool\"},{\"id\":\"4706\",\"type\":\"BoxZoomTool\"},{\"id\":\"4707\",\"type\":\"SaveTool\"},{\"id\":\"4708\",\"type\":\"ResetTool\"},{\"id\":\"4709\",\"type\":\"HelpTool\"}]},\"id\":\"4710\",\"type\":\"Toolbar\"},{\"attributes\":{\"callback\":null},\"id\":\"4689\",\"type\":\"DataRange1d\"},{\"attributes\":{\"callback\":null,\"factors\":[\"Lunes\",\"Martes\",\"Mi\\u00e9rcoles\",\"Jueves\",\"Viernes\",\"S\\u00e1bado\",\"Domingo\"]},\"id\":\"4687\",\"type\":\"FactorRange\"},{\"attributes\":{\"axis_label\":\"Volumen Distribu\\u00eddo (L)\",\"formatter\":{\"id\":\"4722\",\"type\":\"BasicTickFormatter\"},\"ticker\":{\"id\":\"4700\",\"type\":\"BasicTicker\"}},\"id\":\"4699\",\"type\":\"LinearAxis\"},{\"attributes\":{},\"id\":\"4691\",\"type\":\"CategoricalScale\"},{\"attributes\":{},\"id\":\"4696\",\"type\":\"CategoricalTicker\"},{\"attributes\":{\"use_scientific\":false},\"id\":\"4722\",\"type\":\"BasicTickFormatter\"},{\"attributes\":{},\"id\":\"4705\",\"type\":\"WheelZoomTool\"},{\"attributes\":{},\"id\":\"4916\",\"type\":\"UnionRenderers\"},{\"attributes\":{\"text_align\":\"center\",\"text_alpha\":{\"value\":0.1},\"text_color\":{\"value\":\"black\"},\"text_font_size\":{\"value\":\"8pt\"},\"x\":{\"field\":\"x\"},\"y\":{\"field\":\"y\"}},\"id\":\"4725\",\"type\":\"Text\"},{\"attributes\":{\"overlay\":{\"id\":\"4915\",\"type\":\"BoxAnnotation\"}},\"id\":\"4706\",\"type\":\"BoxZoomTool\"},{\"attributes\":{\"callback\":null,\"data\":{\"text\":[\"20.66%\",\"16.92%\",\"18.09%\",\"18.36%\",\"23.86%\",\"2.11%\",\"0.00%\"],\"x\":[\"Lunes\",\"Martes\",\"Mi\\u00e9rcoles\",\"Jueves\",\"Viernes\",\"S\\u00e1bado\",\"Domingo\"],\"y\":{\"__ndarray__\":\"cT0KE9zKjkFxPQqroUaJQXE9CiuyAYtBcT0KEylki0G4HoUBJL+RQYXrUZhFrltBKVyPwqR9JkE=\",\"dtype\":\"float64\",\"shape\":[7]}},\"selected\":{\"id\":\"4919\",\"type\":\"Selection\"},\"selection_policy\":{\"id\":\"4918\",\"type\":\"UnionRenderers\"}},\"id\":\"4723\",\"type\":\"ColumnDataSource\"},{\"attributes\":{\"dimension\":1,\"ticker\":{\"id\":\"4700\",\"type\":\"BasicTicker\"}},\"id\":\"4703\",\"type\":\"Grid\"},{\"attributes\":{\"fill_alpha\":{\"value\":0.1},\"fill_color\":{\"value\":\"#1f77b4\"},\"line_alpha\":{\"value\":0.1},\"line_color\":{\"value\":\"#1f77b4\"},\"top\":{\"field\":\"top\"},\"width\":{\"value\":0.5},\"x\":{\"field\":\"x\"}},\"id\":\"4719\",\"type\":\"VBar\"},{\"attributes\":{\"callback\":null,\"data\":{\"top\":[63839408,52270435,55900019,56706640,73697838,6519364,0],\"x\":[\"Lunes\",\"Martes\",\"Mi\\u00e9rcoles\",\"Jueves\",\"Viernes\",\"S\\u00e1bado\",\"Domingo\"]},\"selected\":{\"id\":\"4917\",\"type\":\"Selection\"},\"selection_policy\":{\"id\":\"4916\",\"type\":\"UnionRenderers\"}},\"id\":\"4717\",\"type\":\"ColumnDataSource\"},{\"attributes\":{},\"id\":\"4918\",\"type\":\"UnionRenderers\"},{\"attributes\":{},\"id\":\"4704\",\"type\":\"PanTool\"},{\"attributes\":{\"source\":{\"id\":\"4717\",\"type\":\"ColumnDataSource\"}},\"id\":\"4721\",\"type\":\"CDSView\"},{\"attributes\":{},\"id\":\"4708\",\"type\":\"ResetTool\"},{\"attributes\":{\"text_align\":\"center\",\"text_color\":{\"value\":\"black\"},\"text_font_size\":{\"value\":\"8pt\"},\"x\":{\"field\":\"x\"},\"y\":{\"field\":\"y\"}},\"id\":\"4724\",\"type\":\"Text\"},{\"attributes\":{},\"id\":\"4700\",\"type\":\"BasicTicker\"},{\"attributes\":{\"bottom_units\":\"screen\",\"fill_alpha\":{\"value\":0.5},\"fill_color\":{\"value\":\"lightgrey\"},\"left_units\":\"screen\",\"level\":\"overlay\",\"line_alpha\":{\"value\":1.0},\"line_color\":{\"value\":\"black\"},\"line_dash\":[4,4],\"line_width\":{\"value\":2},\"render_mode\":\"css\",\"right_units\":\"screen\",\"top_units\":\"screen\"},\"id\":\"4915\",\"type\":\"BoxAnnotation\"},{\"attributes\":{\"data_source\":{\"id\":\"4717\",\"type\":\"ColumnDataSource\"},\"glyph\":{\"id\":\"4718\",\"type\":\"VBar\"},\"hover_glyph\":null,\"muted_glyph\":null,\"nonselection_glyph\":{\"id\":\"4719\",\"type\":\"VBar\"},\"selection_glyph\":null,\"view\":{\"id\":\"4721\",\"type\":\"CDSView\"}},\"id\":\"4720\",\"type\":\"GlyphRenderer\"},{\"attributes\":{\"source\":{\"id\":\"4723\",\"type\":\"ColumnDataSource\"}},\"id\":\"4727\",\"type\":\"CDSView\"}],\"root_ids\":[\"4684\"]},\"title\":\"Bokeh Application\",\"version\":\"1.3.0\"}};\n",
       "  var render_items = [{\"docid\":\"70acb679-dbfb-494a-b726-2a5c3e7ac975\",\"roots\":{\"4684\":\"a4f4b298-7b00-43da-8eb0-ecf2d870dde8\"}}];\n",
       "  root.Bokeh.embed.embed_items_notebook(docs_json, render_items);\n",
       "\n",
       "  }\n",
       "  if (root.Bokeh !== undefined) {\n",
       "    embed_document(root);\n",
       "  } else {\n",
       "    var attempts = 0;\n",
       "    var timer = setInterval(function(root) {\n",
       "      if (root.Bokeh !== undefined) {\n",
       "        embed_document(root);\n",
       "        clearInterval(timer);\n",
       "      }\n",
       "      attempts++;\n",
       "      if (attempts > 100) {\n",
       "        console.log(\"Bokeh: ERROR: Unable to run BokehJS code because BokehJS library is missing\");\n",
       "        clearInterval(timer);\n",
       "      }\n",
       "    }, 10, root)\n",
       "  }\n",
       "})(window);"
      ],
      "application/vnd.bokehjs_exec.v0+json": ""
     },
     "metadata": {
      "application/vnd.bokehjs_exec.v0+json": {
       "id": "4684"
      }
     },
     "output_type": "display_data"
    }
   ],
   "source": [
    "plot_vol_por_dia(df, title='Volúmen Distribuído por Día en %d' % year)"
   ]
  },
  {
   "cell_type": "code",
   "execution_count": 66,
   "metadata": {},
   "outputs": [
    {
     "data": {
      "text/html": [
       "<div>\n",
       "<style scoped>\n",
       "    .dataframe tbody tr th:only-of-type {\n",
       "        vertical-align: middle;\n",
       "    }\n",
       "\n",
       "    .dataframe tbody tr th {\n",
       "        vertical-align: top;\n",
       "    }\n",
       "\n",
       "    .dataframe thead tr th {\n",
       "        text-align: left;\n",
       "    }\n",
       "\n",
       "    .dataframe thead tr:last-of-type th {\n",
       "        text-align: right;\n",
       "    }\n",
       "</style>\n",
       "<table border=\"1\" class=\"dataframe\">\n",
       "  <thead>\n",
       "    <tr>\n",
       "      <th></th>\n",
       "      <th>sum</th>\n",
       "    </tr>\n",
       "    <tr>\n",
       "      <th></th>\n",
       "      <th>TOTCARGA</th>\n",
       "    </tr>\n",
       "    <tr>\n",
       "      <th>dia</th>\n",
       "      <th></th>\n",
       "    </tr>\n",
       "  </thead>\n",
       "  <tbody>\n",
       "    <tr>\n",
       "      <th>Monday</th>\n",
       "      <td>63839408</td>\n",
       "    </tr>\n",
       "    <tr>\n",
       "      <th>Tuesday</th>\n",
       "      <td>52270435</td>\n",
       "    </tr>\n",
       "    <tr>\n",
       "      <th>Wednesday</th>\n",
       "      <td>55900019</td>\n",
       "    </tr>\n",
       "    <tr>\n",
       "      <th>Thursday</th>\n",
       "      <td>56706640</td>\n",
       "    </tr>\n",
       "    <tr>\n",
       "      <th>Friday</th>\n",
       "      <td>73697838</td>\n",
       "    </tr>\n",
       "    <tr>\n",
       "      <th>Saturday</th>\n",
       "      <td>6519364</td>\n",
       "    </tr>\n",
       "    <tr>\n",
       "      <th>Sunday</th>\n",
       "      <td>0</td>\n",
       "    </tr>\n",
       "  </tbody>\n",
       "</table>\n",
       "</div>"
      ],
      "text/plain": [
       "                sum\n",
       "           TOTCARGA\n",
       "dia                \n",
       "Monday     63839408\n",
       "Tuesday    52270435\n",
       "Wednesday  55900019\n",
       "Thursday   56706640\n",
       "Friday     73697838\n",
       "Saturday    6519364\n",
       "Sunday            0"
      ]
     },
     "execution_count": 66,
     "metadata": {},
     "output_type": "execute_result"
    }
   ],
   "source": [
    "daily_tc = pd.pivot_table(df, values='TOTCARGA', index='dia', aggfunc=['sum'])\n",
    "daily_tc"
   ]
  },
  {
   "cell_type": "markdown",
   "metadata": {},
   "source": [
    "## 2019"
   ]
  },
  {
   "cell_type": "code",
   "execution_count": 70,
   "metadata": {},
   "outputs": [],
   "source": [
    "year = 2019\n",
    "df = read_file('VIAJ2019.xlsx', 'VIAJ2019')"
   ]
  },
  {
   "cell_type": "code",
   "execution_count": 71,
   "metadata": {},
   "outputs": [
    {
     "data": {
      "text/html": [
       "\n",
       "\n",
       "\n",
       "\n",
       "\n",
       "\n",
       "  <div class=\"bk-root\" id=\"c7294cda-b37b-4456-95c2-cdf61f3fa5cb\" data-root-id=\"4980\"></div>\n"
      ]
     },
     "metadata": {},
     "output_type": "display_data"
    },
    {
     "data": {
      "application/javascript": [
       "(function(root) {\n",
       "  function embed_document(root) {\n",
       "    \n",
       "  var docs_json = {\"395653a5-0e94-4b02-a342-1fc3da43d305\":{\"roots\":{\"references\":[{\"attributes\":{\"below\":[{\"id\":\"4991\",\"type\":\"LinearAxis\"}],\"center\":[{\"id\":\"4995\",\"type\":\"Grid\"},{\"id\":\"4999\",\"type\":\"Grid\"}],\"left\":[{\"id\":\"4996\",\"type\":\"CategoricalAxis\"}],\"plot_height\":1200,\"plot_width\":900,\"renderers\":[{\"id\":\"5016\",\"type\":\"GlyphRenderer\"},{\"id\":\"5022\",\"type\":\"GlyphRenderer\"}],\"title\":{\"id\":\"4981\",\"type\":\"Title\"},\"toolbar\":{\"id\":\"5006\",\"type\":\"Toolbar\"},\"x_range\":{\"id\":\"4983\",\"type\":\"Range1d\"},\"x_scale\":{\"id\":\"4987\",\"type\":\"LinearScale\"},\"y_range\":{\"id\":\"4985\",\"type\":\"FactorRange\"},\"y_scale\":{\"id\":\"4989\",\"type\":\"CategoricalScale\"}},\"id\":\"4980\",\"subtype\":\"Figure\",\"type\":\"Plot\"},{\"attributes\":{},\"id\":\"5219\",\"type\":\"CategoricalTickFormatter\"},{\"attributes\":{\"active_drag\":\"auto\",\"active_inspect\":\"auto\",\"active_multi\":null,\"active_scroll\":\"auto\",\"active_tap\":\"auto\",\"tools\":[{\"id\":\"5000\",\"type\":\"PanTool\"},{\"id\":\"5001\",\"type\":\"WheelZoomTool\"},{\"id\":\"5002\",\"type\":\"BoxZoomTool\"},{\"id\":\"5003\",\"type\":\"SaveTool\"},{\"id\":\"5004\",\"type\":\"ResetTool\"},{\"id\":\"5005\",\"type\":\"HelpTool\"}]},\"id\":\"5006\",\"type\":\"Toolbar\"},{\"attributes\":{},\"id\":\"5222\",\"type\":\"UnionRenderers\"},{\"attributes\":{\"bottom_units\":\"screen\",\"fill_alpha\":{\"value\":0.5},\"fill_color\":{\"value\":\"lightgrey\"},\"left_units\":\"screen\",\"level\":\"overlay\",\"line_alpha\":{\"value\":1.0},\"line_color\":{\"value\":\"black\"},\"line_dash\":[4,4],\"line_width\":{\"value\":2},\"render_mode\":\"css\",\"right_units\":\"screen\",\"top_units\":\"screen\"},\"id\":\"5221\",\"type\":\"BoxAnnotation\"},{\"attributes\":{},\"id\":\"4989\",\"type\":\"CategoricalScale\"},{\"attributes\":{\"source\":{\"id\":\"5013\",\"type\":\"ColumnDataSource\"}},\"id\":\"5017\",\"type\":\"CDSView\"},{\"attributes\":{},\"id\":\"5224\",\"type\":\"UnionRenderers\"},{\"attributes\":{\"axis_label\":\"Carga Total (litros)\",\"formatter\":{\"id\":\"5018\",\"type\":\"BasicTickFormatter\"},\"ticker\":{\"id\":\"4992\",\"type\":\"BasicTicker\"}},\"id\":\"4991\",\"type\":\"LinearAxis\"},{\"attributes\":{\"use_scientific\":false},\"id\":\"5018\",\"type\":\"BasicTickFormatter\"},{\"attributes\":{\"text\":\"Volumen Total Repartido por cada Chofer en 2019\"},\"id\":\"4981\",\"type\":\"Title\"},{\"attributes\":{\"callback\":null,\"data\":{\"text\":[\"31096.0 (0.01%)\",\"64752.0 (0.02%)\",\"99733.0 (0.03%)\",\"114991.0 (0.03%)\",\"115281.0 (0.03%)\",\"136395.0 (0.04%)\",\"144894.0 (0.04%)\",\"230000.0 (0.07%)\",\"237455.0 (0.07%)\",\"309996.0 (0.09%)\",\"323183.0 (0.10%)\",\"332572.0 (0.10%)\",\"346159.0 (0.10%)\",\"370591.0 (0.11%)\",\"372898.0 (0.11%)\",\"380343.0 (0.11%)\",\"510502.0 (0.15%)\",\"588057.0 (0.17%)\",\"631218.0 (0.19%)\",\"647162.0 (0.19%)\",\"683332.0 (0.20%)\",\"739247.0 (0.22%)\",\"741397.0 (0.22%)\",\"845792.0 (0.25%)\",\"940784.0 (0.28%)\",\"980144.0 (0.29%)\",\"1084787.0 (0.32%)\",\"1147812.0 (0.34%)\",\"1175902.0 (0.35%)\",\"1300537.0 (0.38%)\",\"1332918.0 (0.39%)\",\"1442405.0 (0.42%)\",\"1454689.0 (0.43%)\",\"1456357.0 (0.43%)\",\"1468518.0 (0.43%)\",\"1475048.0 (0.43%)\",\"1487423.0 (0.44%)\",\"1552456.0 (0.46%)\",\"1688045.0 (0.50%)\",\"1807956.0 (0.53%)\",\"1811437.0 (0.53%)\",\"1828707.0 (0.54%)\",\"1833667.0 (0.54%)\",\"1841467.0 (0.54%)\",\"2054497.0 (0.61%)\",\"2278670.0 (0.67%)\",\"2827942.0 (0.83%)\",\"2909071.0 (0.86%)\",\"3907597.0 (1.15%)\",\"3919652.0 (1.15%)\",\"3963758.0 (1.17%)\",\"4109382.0 (1.21%)\",\"4590168.0 (1.35%)\",\"5598380.0 (1.65%)\",\"8221302.0 (2.42%)\",\"8394202.0 (2.47%)\",\"8517810.0 (2.51%)\",\"8518137.0 (2.51%)\",\"8553361.0 (2.52%)\",\"8702820.0 (2.56%)\",\"8738926.0 (2.57%)\",\"8742515.0 (2.58%)\",\"8905857.0 (2.62%)\",\"8944431.0 (2.64%)\",\"9015718.0 (2.66%)\",\"9060228.0 (2.67%)\",\"9063634.0 (2.67%)\",\"9138901.0 (2.69%)\",\"9295236.0 (2.74%)\",\"9301093.0 (2.74%)\",\"9364115.0 (2.76%)\",\"9534579.0 (2.81%)\",\"10084423.0 (2.97%)\",\"12483603.0 (3.68%)\",\"13146176.0 (3.87%)\",\"13292681.0 (3.92%)\",\"13414972.0 (3.95%)\",\"13489304.0 (3.97%)\",\"13613790.0 (4.01%)\",\"15585528.0 (4.59%)\"],\"x\":{\"__ndarray__\":\"16NwPTrSBkHXo3A9+u0KQdejcD0iMw9B7FG4HvmHEEHsUbgegYwQQexRuB5p1hFB7FG4HjVbEkHsUbge/YwXQexRuB55ARhB7FG4Hu1uHEHsUbge+TwdQexRuB6tzx1B7FG4HvmjHkH2KFyP3BAgQfYoXI/iIiBB9ihcjwxdIEH2KFyP6lUkQfYoXI/QsyZB9ihcjwIFKEH2KFyPkoEoQfYoXI8mnClB9ihcj/xQK0H2KFyPyGErQfYoXI9ekS5BexSuR7+7MEF7FK5Hf1UxQXsUrkdC7jJBexSuR3PkM0F7FK5HLVI0QXsUrkcIOTZBexSuR4W3NkF7FK5HNGM4QXsUrkcwkzhBexSuR7SZOEF7FK5HNck4QXsUrke34jhBexSuRw4TOUF7FK5HFxE6QXsUrke8IjxBexSuRyP3PUF7FK5HvAQ+QXsUrkcySD5BexSuR5JbPkF7FK5HCno+QT0K1yMY3UBBPQrXo+6SQkE9CtejusNGQT0K1yMvYkdBPQrXI24AT0E9Ctej+RdPQT0K16Mebk9BH4XrUUVFUEEfhevRyRpSQR+F69Fe81VBH4XrUdH0X0GPwvUo1U5gQY/C9Sgwi2BBj8L1CFmLYEGPwvUIjJxgQY/C9WiG5WBBj8L1qCf3YEGPwvVI6PhgQY/C9QiqSGFBj8L1yH9bYUGPwvWoTn5hQY/C9WgKlGFBj8L1KLSVYUGPwvWIdLphQY/C9WjKBmJBj8L1iKYJYkGPwvVIbChiQY/C9Uioe2JBj8L1yCKIY0GPwvVInBtoQY/C9eghX2lBj8L1CKumaUGPwvVoYeJpQY/C9eisBmpBj8L1qHVDakGPwvXoOAZuQQ==\",\"dtype\":\"float64\",\"shape\":[80]},\"y\":[\"ANDRES DOMINGUEZ\",\"GONZALO NARCIZO\",\"GABRIEL SUBERBIE\",\"MAURO HERMOSO\",\"CARLOS IBARS\",\"JOSE ALVAREZ\",\"DAR\\u00d6O PE\\u00a5A\",\"JUAN GODOY\",\"SERGIO DOLLANARTE\",\"DANIEL NEGRO\",\"ALCIDES BOLATTI\",\"LUIS M. PRESENTADO\",\"DANIEL DIAZ\",\"OMAR SOLIS\",\"CARLOS CARMONA\",\"SERGIO SUAREZ\",\"LUIS RAMOS\",\"PABLO SUBERBIE\",\"PABLO SUREDA\",\"ROBERTO GANCHEROV\",\"JORGE LUIS DE LIMA LEMOS\",\"DANIEL CABRAL\",\"RUB\\u0090N DALO\",\"JHONY OLIVA\",\"NESTOR ANCHETA\",\"MARCO PAZ\",\"DIEGO MEDINA\",\"ANGEL M. MONTERO\",\"HORACIO BONILLA\",\"CARLOS PUGLIA\",\"JUAN MARTIN BONILLA\",\"MANUEL CABRERA\",\"MARIO PASTORINI\",\"JUAN MARTINEZ\",\"JULIO DE MARCO\",\"FEDERICO MANSILLA\",\"ALVARO LENS\",\"EDGAR ILLENZEER\",\"WILLIAM PASTORINI\",\"JORGE SILVERA\",\"MILTON ARISMENDI\",\"EDUARDO MARI\\u00a5O\",\"ALEJANDRO CAMEJO\",\"CHAPUIS\",\"RAFAEL MASSA\",\"DANILO BACHIN\",\"JORDY RODRIGUEZ\",\"JULIO DA CUNHA\",\"FABIAN ROM\\u00b5N\",\"GONZALO LOUREIRO\",\"RICARDO SUBERBIE\",\"ANTONIO BESSONART\",\"FERNANDO REMEDIOS\",\"HENRY NU\\u00a5EZ OLIVERA\",\"CHRISTIAN BASQUEZ\",\"MIGUEL BAZZANO\",\"RUBEN C.CECHELES\",\"CARLOS ARRIOLA\",\"CARLOS PASCUARIELO\",\"RICHARD FLEITAS\",\"JORGE PEREZ\",\"JULIO FALERO\",\"JOSE PEDRO MELOGNO\",\"JHON SILVA\",\"FABIAN VILLARINO BRUNOLDI\",\"MARCELO PEREZ\",\"SEBASTIAN IRIGARAY\",\"MIGUEL BENTANCUR\",\"MAURICIO SEIJAS\",\"JUAN GARCIA\",\"RICHARD FAR\\u00d6AS\",\"JORGE BENJAMIN PAZ\",\"ADRIAN ARISMENDI\",\"JESUS FOLIADOSO\",\"CARLOS DASTE\",\"ALVARO SILVERA\",\"JUAN RABELA\",\"OSCAR BENAVIDES\",\"RICARDO CARABALLO\",\"ALFREDO MOLINA\"]},\"selected\":{\"id\":\"5225\",\"type\":\"Selection\"},\"selection_policy\":{\"id\":\"5224\",\"type\":\"UnionRenderers\"}},\"id\":\"5019\",\"type\":\"ColumnDataSource\"},{\"attributes\":{},\"id\":\"4992\",\"type\":\"BasicTicker\"},{\"attributes\":{\"text_baseline\":\"middle\",\"text_color\":{\"value\":\"black\"},\"text_font_size\":{\"value\":\"6pt\"},\"x\":{\"field\":\"x\"},\"y\":{\"field\":\"y\"}},\"id\":\"5020\",\"type\":\"Text\"},{\"attributes\":{\"ticker\":{\"id\":\"4992\",\"type\":\"BasicTicker\"}},\"id\":\"4995\",\"type\":\"Grid\"},{\"attributes\":{\"text_alpha\":{\"value\":0.1},\"text_baseline\":\"middle\",\"text_color\":{\"value\":\"black\"},\"text_font_size\":{\"value\":\"6pt\"},\"x\":{\"field\":\"x\"},\"y\":{\"field\":\"y\"}},\"id\":\"5021\",\"type\":\"Text\"},{\"attributes\":{\"axis_label\":\"Chofer\",\"formatter\":{\"id\":\"5219\",\"type\":\"CategoricalTickFormatter\"},\"ticker\":{\"id\":\"4997\",\"type\":\"CategoricalTicker\"}},\"id\":\"4996\",\"type\":\"CategoricalAxis\"},{\"attributes\":{\"data_source\":{\"id\":\"5019\",\"type\":\"ColumnDataSource\"},\"glyph\":{\"id\":\"5020\",\"type\":\"Text\"},\"hover_glyph\":null,\"muted_glyph\":null,\"nonselection_glyph\":{\"id\":\"5021\",\"type\":\"Text\"},\"selection_glyph\":null,\"view\":{\"id\":\"5023\",\"type\":\"CDSView\"}},\"id\":\"5022\",\"type\":\"GlyphRenderer\"},{\"attributes\":{},\"id\":\"4997\",\"type\":\"CategoricalTicker\"},{\"attributes\":{\"fill_color\":{\"value\":\"firebrick\"},\"height\":{\"value\":0.7},\"line_color\":{\"value\":\"firebrick\"},\"right\":{\"field\":\"right\"},\"y\":{\"field\":\"y\"}},\"id\":\"5014\",\"type\":\"HBar\"},{\"attributes\":{},\"id\":\"5000\",\"type\":\"PanTool\"},{\"attributes\":{\"dimension\":1,\"ticker\":{\"id\":\"4997\",\"type\":\"CategoricalTicker\"}},\"id\":\"4999\",\"type\":\"Grid\"},{\"attributes\":{\"source\":{\"id\":\"5019\",\"type\":\"ColumnDataSource\"}},\"id\":\"5023\",\"type\":\"CDSView\"},{\"attributes\":{\"data_source\":{\"id\":\"5013\",\"type\":\"ColumnDataSource\"},\"glyph\":{\"id\":\"5014\",\"type\":\"HBar\"},\"hover_glyph\":null,\"muted_glyph\":null,\"nonselection_glyph\":{\"id\":\"5015\",\"type\":\"HBar\"},\"selection_glyph\":null,\"view\":{\"id\":\"5017\",\"type\":\"CDSView\"}},\"id\":\"5016\",\"type\":\"GlyphRenderer\"},{\"attributes\":{\"callback\":null,\"factors\":[\"ANDRES DOMINGUEZ\",\"GONZALO NARCIZO\",\"GABRIEL SUBERBIE\",\"MAURO HERMOSO\",\"CARLOS IBARS\",\"JOSE ALVAREZ\",\"DAR\\u00d6O PE\\u00a5A\",\"JUAN GODOY\",\"SERGIO DOLLANARTE\",\"DANIEL NEGRO\",\"ALCIDES BOLATTI\",\"LUIS M. PRESENTADO\",\"DANIEL DIAZ\",\"OMAR SOLIS\",\"CARLOS CARMONA\",\"SERGIO SUAREZ\",\"LUIS RAMOS\",\"PABLO SUBERBIE\",\"PABLO SUREDA\",\"ROBERTO GANCHEROV\",\"JORGE LUIS DE LIMA LEMOS\",\"DANIEL CABRAL\",\"RUB\\u0090N DALO\",\"JHONY OLIVA\",\"NESTOR ANCHETA\",\"MARCO PAZ\",\"DIEGO MEDINA\",\"ANGEL M. MONTERO\",\"HORACIO BONILLA\",\"CARLOS PUGLIA\",\"JUAN MARTIN BONILLA\",\"MANUEL CABRERA\",\"MARIO PASTORINI\",\"JUAN MARTINEZ\",\"JULIO DE MARCO\",\"FEDERICO MANSILLA\",\"ALVARO LENS\",\"EDGAR ILLENZEER\",\"WILLIAM PASTORINI\",\"JORGE SILVERA\",\"MILTON ARISMENDI\",\"EDUARDO MARI\\u00a5O\",\"ALEJANDRO CAMEJO\",\"CHAPUIS\",\"RAFAEL MASSA\",\"DANILO BACHIN\",\"JORDY RODRIGUEZ\",\"JULIO DA CUNHA\",\"FABIAN ROM\\u00b5N\",\"GONZALO LOUREIRO\",\"RICARDO SUBERBIE\",\"ANTONIO BESSONART\",\"FERNANDO REMEDIOS\",\"HENRY NU\\u00a5EZ OLIVERA\",\"CHRISTIAN BASQUEZ\",\"MIGUEL BAZZANO\",\"RUBEN C.CECHELES\",\"CARLOS ARRIOLA\",\"CARLOS PASCUARIELO\",\"RICHARD FLEITAS\",\"JORGE PEREZ\",\"JULIO FALERO\",\"JOSE PEDRO MELOGNO\",\"JHON SILVA\",\"FABIAN VILLARINO BRUNOLDI\",\"MARCELO PEREZ\",\"SEBASTIAN IRIGARAY\",\"MIGUEL BENTANCUR\",\"MAURICIO SEIJAS\",\"JUAN GARCIA\",\"RICHARD FAR\\u00d6AS\",\"JORGE BENJAMIN PAZ\",\"ADRIAN ARISMENDI\",\"JESUS FOLIADOSO\",\"CARLOS DASTE\",\"ALVARO SILVERA\",\"JUAN RABELA\",\"OSCAR BENAVIDES\",\"RICARDO CARABALLO\",\"ALFREDO MOLINA\"]},\"id\":\"4985\",\"type\":\"FactorRange\"},{\"attributes\":{\"callback\":null,\"end\":18702633.599999998,\"start\":-1},\"id\":\"4983\",\"type\":\"Range1d\"},{\"attributes\":{\"fill_alpha\":{\"value\":0.1},\"fill_color\":{\"value\":\"#1f77b4\"},\"height\":{\"value\":0.7},\"line_alpha\":{\"value\":0.1},\"line_color\":{\"value\":\"#1f77b4\"},\"right\":{\"field\":\"right\"},\"y\":{\"field\":\"y\"}},\"id\":\"5015\",\"type\":\"HBar\"},{\"attributes\":{\"callback\":null,\"data\":{\"right\":[31096,64752,99733,114991,115281,136395,144894,230000,237455,309996,323183,332572,346159,370591,372898,380343,510502,588057,631218,647162,683332,739247,741397,845792,940784,980144,1084787,1147812,1175902,1300537,1332918,1442405,1454689,1456357,1468518,1475048,1487423,1552456,1688045,1807956,1811437,1828707,1833667,1841467,2054497,2278670,2827942,2909071,3907597,3919652,3963758,4109382,4590168,5598380,8221302,8394202,8517810,8518137,8553361,8702820,8738926,8742515,8905857,8944431,9015718,9060228,9063634,9138901,9295236,9301093,9364115,9534579,10084423,12483603,13146176,13292681,13414972,13489304,13613790,15585528],\"y\":[\"ANDRES DOMINGUEZ\",\"GONZALO NARCIZO\",\"GABRIEL SUBERBIE\",\"MAURO HERMOSO\",\"CARLOS IBARS\",\"JOSE ALVAREZ\",\"DAR\\u00d6O PE\\u00a5A\",\"JUAN GODOY\",\"SERGIO DOLLANARTE\",\"DANIEL NEGRO\",\"ALCIDES BOLATTI\",\"LUIS M. PRESENTADO\",\"DANIEL DIAZ\",\"OMAR SOLIS\",\"CARLOS CARMONA\",\"SERGIO SUAREZ\",\"LUIS RAMOS\",\"PABLO SUBERBIE\",\"PABLO SUREDA\",\"ROBERTO GANCHEROV\",\"JORGE LUIS DE LIMA LEMOS\",\"DANIEL CABRAL\",\"RUB\\u0090N DALO\",\"JHONY OLIVA\",\"NESTOR ANCHETA\",\"MARCO PAZ\",\"DIEGO MEDINA\",\"ANGEL M. MONTERO\",\"HORACIO BONILLA\",\"CARLOS PUGLIA\",\"JUAN MARTIN BONILLA\",\"MANUEL CABRERA\",\"MARIO PASTORINI\",\"JUAN MARTINEZ\",\"JULIO DE MARCO\",\"FEDERICO MANSILLA\",\"ALVARO LENS\",\"EDGAR ILLENZEER\",\"WILLIAM PASTORINI\",\"JORGE SILVERA\",\"MILTON ARISMENDI\",\"EDUARDO MARI\\u00a5O\",\"ALEJANDRO CAMEJO\",\"CHAPUIS\",\"RAFAEL MASSA\",\"DANILO BACHIN\",\"JORDY RODRIGUEZ\",\"JULIO DA CUNHA\",\"FABIAN ROM\\u00b5N\",\"GONZALO LOUREIRO\",\"RICARDO SUBERBIE\",\"ANTONIO BESSONART\",\"FERNANDO REMEDIOS\",\"HENRY NU\\u00a5EZ OLIVERA\",\"CHRISTIAN BASQUEZ\",\"MIGUEL BAZZANO\",\"RUBEN C.CECHELES\",\"CARLOS ARRIOLA\",\"CARLOS PASCUARIELO\",\"RICHARD FLEITAS\",\"JORGE PEREZ\",\"JULIO FALERO\",\"JOSE PEDRO MELOGNO\",\"JHON SILVA\",\"FABIAN VILLARINO BRUNOLDI\",\"MARCELO PEREZ\",\"SEBASTIAN IRIGARAY\",\"MIGUEL BENTANCUR\",\"MAURICIO SEIJAS\",\"JUAN GARCIA\",\"RICHARD FAR\\u00d6AS\",\"JORGE BENJAMIN PAZ\",\"ADRIAN ARISMENDI\",\"JESUS FOLIADOSO\",\"CARLOS DASTE\",\"ALVARO SILVERA\",\"JUAN RABELA\",\"OSCAR BENAVIDES\",\"RICARDO CARABALLO\",\"ALFREDO MOLINA\"]},\"selected\":{\"id\":\"5223\",\"type\":\"Selection\"},\"selection_policy\":{\"id\":\"5222\",\"type\":\"UnionRenderers\"}},\"id\":\"5013\",\"type\":\"ColumnDataSource\"},{\"attributes\":{},\"id\":\"5001\",\"type\":\"WheelZoomTool\"},{\"attributes\":{},\"id\":\"4987\",\"type\":\"LinearScale\"},{\"attributes\":{\"overlay\":{\"id\":\"5221\",\"type\":\"BoxAnnotation\"}},\"id\":\"5002\",\"type\":\"BoxZoomTool\"},{\"attributes\":{},\"id\":\"5223\",\"type\":\"Selection\"},{\"attributes\":{},\"id\":\"5003\",\"type\":\"SaveTool\"},{\"attributes\":{},\"id\":\"5225\",\"type\":\"Selection\"},{\"attributes\":{},\"id\":\"5004\",\"type\":\"ResetTool\"},{\"attributes\":{},\"id\":\"5005\",\"type\":\"HelpTool\"}],\"root_ids\":[\"4980\"]},\"title\":\"Bokeh Application\",\"version\":\"1.3.0\"}};\n",
       "  var render_items = [{\"docid\":\"395653a5-0e94-4b02-a342-1fc3da43d305\",\"roots\":{\"4980\":\"c7294cda-b37b-4456-95c2-cdf61f3fa5cb\"}}];\n",
       "  root.Bokeh.embed.embed_items_notebook(docs_json, render_items);\n",
       "\n",
       "  }\n",
       "  if (root.Bokeh !== undefined) {\n",
       "    embed_document(root);\n",
       "  } else {\n",
       "    var attempts = 0;\n",
       "    var timer = setInterval(function(root) {\n",
       "      if (root.Bokeh !== undefined) {\n",
       "        embed_document(root);\n",
       "        clearInterval(timer);\n",
       "      }\n",
       "      attempts++;\n",
       "      if (attempts > 100) {\n",
       "        console.log(\"Bokeh: ERROR: Unable to run BokehJS code because BokehJS library is missing\");\n",
       "        clearInterval(timer);\n",
       "      }\n",
       "    }, 10, root)\n",
       "  }\n",
       "})(window);"
      ],
      "application/vnd.bokehjs_exec.v0+json": ""
     },
     "metadata": {
      "application/vnd.bokehjs_exec.v0+json": {
       "id": "4980"
      }
     },
     "output_type": "display_data"
    }
   ],
   "source": [
    "p = plot_litros_por_chofer(df, title='Volumen Total Repartido por cada Chofer en %d' % year)"
   ]
  },
  {
   "cell_type": "code",
   "execution_count": 72,
   "metadata": {},
   "outputs": [
    {
     "data": {
      "text/html": [
       "\n",
       "\n",
       "\n",
       "\n",
       "\n",
       "\n",
       "  <div class=\"bk-root\" id=\"1f635689-c702-4628-800c-fb054dc929de\" data-root-id=\"5286\"></div>\n"
      ]
     },
     "metadata": {},
     "output_type": "display_data"
    },
    {
     "data": {
      "application/javascript": [
       "(function(root) {\n",
       "  function embed_document(root) {\n",
       "    \n",
       "  var docs_json = {\"f7f47714-f1e5-4f8f-8641-9185c022125a\":{\"roots\":{\"references\":[{\"attributes\":{\"below\":[{\"id\":\"5297\",\"type\":\"CategoricalAxis\"}],\"center\":[{\"id\":\"5300\",\"type\":\"Grid\"},{\"id\":\"5305\",\"type\":\"Grid\"}],\"left\":[{\"id\":\"5301\",\"type\":\"LinearAxis\"}],\"plot_width\":800,\"renderers\":[{\"id\":\"5322\",\"type\":\"GlyphRenderer\"},{\"id\":\"5328\",\"type\":\"GlyphRenderer\"}],\"title\":{\"id\":\"5287\",\"type\":\"Title\"},\"toolbar\":{\"id\":\"5312\",\"type\":\"Toolbar\"},\"x_range\":{\"id\":\"5289\",\"type\":\"FactorRange\"},\"x_scale\":{\"id\":\"5293\",\"type\":\"CategoricalScale\"},\"y_range\":{\"id\":\"5291\",\"type\":\"DataRange1d\"},\"y_scale\":{\"id\":\"5295\",\"type\":\"LinearScale\"}},\"id\":\"5286\",\"subtype\":\"Figure\",\"type\":\"Plot\"},{\"attributes\":{\"use_scientific\":false},\"id\":\"5324\",\"type\":\"BasicTickFormatter\"},{\"attributes\":{},\"id\":\"5533\",\"type\":\"CategoricalTickFormatter\"},{\"attributes\":{\"ticker\":{\"id\":\"5298\",\"type\":\"CategoricalTicker\"}},\"id\":\"5300\",\"type\":\"Grid\"},{\"attributes\":{\"axis_label\":\"Volumen Distribu\\u00eddo (L)\",\"formatter\":{\"id\":\"5324\",\"type\":\"BasicTickFormatter\"},\"ticker\":{\"id\":\"5302\",\"type\":\"BasicTicker\"}},\"id\":\"5301\",\"type\":\"LinearAxis\"},{\"attributes\":{\"axis_label\":\"D\\u00eda de la Semana\",\"formatter\":{\"id\":\"5533\",\"type\":\"CategoricalTickFormatter\"},\"ticker\":{\"id\":\"5298\",\"type\":\"CategoricalTicker\"}},\"id\":\"5297\",\"type\":\"CategoricalAxis\"},{\"attributes\":{},\"id\":\"5298\",\"type\":\"CategoricalTicker\"},{\"attributes\":{},\"id\":\"5309\",\"type\":\"SaveTool\"},{\"attributes\":{\"text_align\":\"center\",\"text_alpha\":{\"value\":0.1},\"text_color\":{\"value\":\"black\"},\"text_font_size\":{\"value\":\"8pt\"},\"x\":{\"field\":\"x\"},\"y\":{\"field\":\"y\"}},\"id\":\"5327\",\"type\":\"Text\"},{\"attributes\":{\"data_source\":{\"id\":\"5325\",\"type\":\"ColumnDataSource\"},\"glyph\":{\"id\":\"5326\",\"type\":\"Text\"},\"hover_glyph\":null,\"muted_glyph\":null,\"nonselection_glyph\":{\"id\":\"5327\",\"type\":\"Text\"},\"selection_glyph\":null,\"view\":{\"id\":\"5329\",\"type\":\"CDSView\"}},\"id\":\"5328\",\"type\":\"GlyphRenderer\"},{\"attributes\":{\"callback\":null,\"factors\":[\"Lunes\",\"Martes\",\"Mi\\u00e9rcoles\",\"Jueves\",\"Viernes\",\"S\\u00e1bado\",\"Domingo\"]},\"id\":\"5289\",\"type\":\"FactorRange\"},{\"attributes\":{},\"id\":\"5310\",\"type\":\"ResetTool\"},{\"attributes\":{\"text_align\":\"center\",\"text_color\":{\"value\":\"black\"},\"text_font_size\":{\"value\":\"8pt\"},\"x\":{\"field\":\"x\"},\"y\":{\"field\":\"y\"}},\"id\":\"5326\",\"type\":\"Text\"},{\"attributes\":{\"source\":{\"id\":\"5319\",\"type\":\"ColumnDataSource\"}},\"id\":\"5323\",\"type\":\"CDSView\"},{\"attributes\":{\"source\":{\"id\":\"5325\",\"type\":\"ColumnDataSource\"}},\"id\":\"5329\",\"type\":\"CDSView\"},{\"attributes\":{},\"id\":\"5538\",\"type\":\"UnionRenderers\"},{\"attributes\":{},\"id\":\"5311\",\"type\":\"HelpTool\"},{\"attributes\":{\"fill_alpha\":{\"value\":0.1},\"fill_color\":{\"value\":\"#1f77b4\"},\"line_alpha\":{\"value\":0.1},\"line_color\":{\"value\":\"#1f77b4\"},\"top\":{\"field\":\"top\"},\"width\":{\"value\":0.5},\"x\":{\"field\":\"x\"}},\"id\":\"5321\",\"type\":\"VBar\"},{\"attributes\":{\"active_drag\":\"auto\",\"active_inspect\":\"auto\",\"active_multi\":null,\"active_scroll\":\"auto\",\"active_tap\":\"auto\",\"tools\":[{\"id\":\"5306\",\"type\":\"PanTool\"},{\"id\":\"5307\",\"type\":\"WheelZoomTool\"},{\"id\":\"5308\",\"type\":\"BoxZoomTool\"},{\"id\":\"5309\",\"type\":\"SaveTool\"},{\"id\":\"5310\",\"type\":\"ResetTool\"},{\"id\":\"5311\",\"type\":\"HelpTool\"}]},\"id\":\"5312\",\"type\":\"Toolbar\"},{\"attributes\":{},\"id\":\"5302\",\"type\":\"BasicTicker\"},{\"attributes\":{},\"id\":\"5307\",\"type\":\"WheelZoomTool\"},{\"attributes\":{\"overlay\":{\"id\":\"5537\",\"type\":\"BoxAnnotation\"}},\"id\":\"5308\",\"type\":\"BoxZoomTool\"},{\"attributes\":{\"callback\":null,\"data\":{\"top\":[70742687,57355356,54844509,62192899,81558719,12696394,0],\"x\":[\"Lunes\",\"Martes\",\"Mi\\u00e9rcoles\",\"Jueves\",\"Viernes\",\"S\\u00e1bado\",\"Domingo\"]},\"selected\":{\"id\":\"5539\",\"type\":\"Selection\"},\"selection_policy\":{\"id\":\"5538\",\"type\":\"UnionRenderers\"}},\"id\":\"5319\",\"type\":\"ColumnDataSource\"},{\"attributes\":{\"callback\":null,\"data\":{\"text\":[\"20.84%\",\"16.90%\",\"16.16%\",\"18.32%\",\"24.03%\",\"3.74%\",\"0.00%\"],\"x\":[\"Lunes\",\"Martes\",\"Mi\\u00e9rcoles\",\"Jueves\",\"Viernes\",\"S\\u00e1bado\",\"Domingo\"],\"y\":{\"__ndarray__\":\"XI/CCJIPkUG4HoX58byLQbgehQFyiopBuB6FMXcLjkFcj8KIuqOTQeF6FKalxWlBFK5HYcbjKEE=\",\"dtype\":\"float64\",\"shape\":[7]}},\"selected\":{\"id\":\"5541\",\"type\":\"Selection\"},\"selection_policy\":{\"id\":\"5540\",\"type\":\"UnionRenderers\"}},\"id\":\"5325\",\"type\":\"ColumnDataSource\"},{\"attributes\":{\"data_source\":{\"id\":\"5319\",\"type\":\"ColumnDataSource\"},\"glyph\":{\"id\":\"5320\",\"type\":\"VBar\"},\"hover_glyph\":null,\"muted_glyph\":null,\"nonselection_glyph\":{\"id\":\"5321\",\"type\":\"VBar\"},\"selection_glyph\":null,\"view\":{\"id\":\"5323\",\"type\":\"CDSView\"}},\"id\":\"5322\",\"type\":\"GlyphRenderer\"},{\"attributes\":{\"fill_color\":{\"value\":\"firebrick\"},\"line_color\":{\"value\":\"firebrick\"},\"top\":{\"field\":\"top\"},\"width\":{\"value\":0.5},\"x\":{\"field\":\"x\"}},\"id\":\"5320\",\"type\":\"VBar\"},{\"attributes\":{},\"id\":\"5293\",\"type\":\"CategoricalScale\"},{\"attributes\":{\"dimension\":1,\"ticker\":{\"id\":\"5302\",\"type\":\"BasicTicker\"}},\"id\":\"5305\",\"type\":\"Grid\"},{\"attributes\":{},\"id\":\"5540\",\"type\":\"UnionRenderers\"},{\"attributes\":{},\"id\":\"5539\",\"type\":\"Selection\"},{\"attributes\":{},\"id\":\"5541\",\"type\":\"Selection\"},{\"attributes\":{\"text\":\"Vol\\u00famen Distribu\\u00eddo por D\\u00eda en 2019\"},\"id\":\"5287\",\"type\":\"Title\"},{\"attributes\":{\"callback\":null},\"id\":\"5291\",\"type\":\"DataRange1d\"},{\"attributes\":{\"bottom_units\":\"screen\",\"fill_alpha\":{\"value\":0.5},\"fill_color\":{\"value\":\"lightgrey\"},\"left_units\":\"screen\",\"level\":\"overlay\",\"line_alpha\":{\"value\":1.0},\"line_color\":{\"value\":\"black\"},\"line_dash\":[4,4],\"line_width\":{\"value\":2},\"render_mode\":\"css\",\"right_units\":\"screen\",\"top_units\":\"screen\"},\"id\":\"5537\",\"type\":\"BoxAnnotation\"},{\"attributes\":{},\"id\":\"5295\",\"type\":\"LinearScale\"},{\"attributes\":{},\"id\":\"5306\",\"type\":\"PanTool\"}],\"root_ids\":[\"5286\"]},\"title\":\"Bokeh Application\",\"version\":\"1.3.0\"}};\n",
       "  var render_items = [{\"docid\":\"f7f47714-f1e5-4f8f-8641-9185c022125a\",\"roots\":{\"5286\":\"1f635689-c702-4628-800c-fb054dc929de\"}}];\n",
       "  root.Bokeh.embed.embed_items_notebook(docs_json, render_items);\n",
       "\n",
       "  }\n",
       "  if (root.Bokeh !== undefined) {\n",
       "    embed_document(root);\n",
       "  } else {\n",
       "    var attempts = 0;\n",
       "    var timer = setInterval(function(root) {\n",
       "      if (root.Bokeh !== undefined) {\n",
       "        embed_document(root);\n",
       "        clearInterval(timer);\n",
       "      }\n",
       "      attempts++;\n",
       "      if (attempts > 100) {\n",
       "        console.log(\"Bokeh: ERROR: Unable to run BokehJS code because BokehJS library is missing\");\n",
       "        clearInterval(timer);\n",
       "      }\n",
       "    }, 10, root)\n",
       "  }\n",
       "})(window);"
      ],
      "application/vnd.bokehjs_exec.v0+json": ""
     },
     "metadata": {
      "application/vnd.bokehjs_exec.v0+json": {
       "id": "5286"
      }
     },
     "output_type": "display_data"
    }
   ],
   "source": [
    "plot_vol_por_dia(df, title='Volúmen Distribuído por Día en %d' % year)"
   ]
  },
  {
   "cell_type": "code",
   "execution_count": 73,
   "metadata": {},
   "outputs": [
    {
     "data": {
      "text/html": [
       "<div>\n",
       "<style scoped>\n",
       "    .dataframe tbody tr th:only-of-type {\n",
       "        vertical-align: middle;\n",
       "    }\n",
       "\n",
       "    .dataframe tbody tr th {\n",
       "        vertical-align: top;\n",
       "    }\n",
       "\n",
       "    .dataframe thead tr th {\n",
       "        text-align: left;\n",
       "    }\n",
       "\n",
       "    .dataframe thead tr:last-of-type th {\n",
       "        text-align: right;\n",
       "    }\n",
       "</style>\n",
       "<table border=\"1\" class=\"dataframe\">\n",
       "  <thead>\n",
       "    <tr>\n",
       "      <th></th>\n",
       "      <th>sum</th>\n",
       "    </tr>\n",
       "    <tr>\n",
       "      <th></th>\n",
       "      <th>TOTCARGA</th>\n",
       "    </tr>\n",
       "    <tr>\n",
       "      <th>dia</th>\n",
       "      <th></th>\n",
       "    </tr>\n",
       "  </thead>\n",
       "  <tbody>\n",
       "    <tr>\n",
       "      <th>Monday</th>\n",
       "      <td>70742687</td>\n",
       "    </tr>\n",
       "    <tr>\n",
       "      <th>Tuesday</th>\n",
       "      <td>57355356</td>\n",
       "    </tr>\n",
       "    <tr>\n",
       "      <th>Wednesday</th>\n",
       "      <td>54844509</td>\n",
       "    </tr>\n",
       "    <tr>\n",
       "      <th>Thursday</th>\n",
       "      <td>62192899</td>\n",
       "    </tr>\n",
       "    <tr>\n",
       "      <th>Friday</th>\n",
       "      <td>81558719</td>\n",
       "    </tr>\n",
       "    <tr>\n",
       "      <th>Saturday</th>\n",
       "      <td>12696394</td>\n",
       "    </tr>\n",
       "    <tr>\n",
       "      <th>Sunday</th>\n",
       "      <td>0</td>\n",
       "    </tr>\n",
       "  </tbody>\n",
       "</table>\n",
       "</div>"
      ],
      "text/plain": [
       "                sum\n",
       "           TOTCARGA\n",
       "dia                \n",
       "Monday     70742687\n",
       "Tuesday    57355356\n",
       "Wednesday  54844509\n",
       "Thursday   62192899\n",
       "Friday     81558719\n",
       "Saturday   12696394\n",
       "Sunday            0"
      ]
     },
     "execution_count": 73,
     "metadata": {},
     "output_type": "execute_result"
    }
   ],
   "source": [
    "daily_tc = pd.pivot_table(df, values='TOTCARGA', index='dia', aggfunc=['sum'])\n",
    "daily_tc"
   ]
  },
  {
   "cell_type": "markdown",
   "metadata": {},
   "source": [
    "## 2020"
   ]
  },
  {
   "cell_type": "code",
   "execution_count": 74,
   "metadata": {},
   "outputs": [],
   "source": [
    "year = 2020\n",
    "df = read_file('VIAJ2020.xlsx', 'VIAJ2020')"
   ]
  },
  {
   "cell_type": "code",
   "execution_count": 75,
   "metadata": {},
   "outputs": [
    {
     "data": {
      "text/html": [
       "\n",
       "\n",
       "\n",
       "\n",
       "\n",
       "\n",
       "  <div class=\"bk-root\" id=\"48dd76a7-1035-4d52-ac76-06c74e2f525d\" data-root-id=\"5602\"></div>\n"
      ]
     },
     "metadata": {},
     "output_type": "display_data"
    },
    {
     "data": {
      "application/javascript": [
       "(function(root) {\n",
       "  function embed_document(root) {\n",
       "    \n",
       "  var docs_json = {\"88382857-af80-4652-a9af-8b07f3c93192\":{\"roots\":{\"references\":[{\"attributes\":{\"below\":[{\"id\":\"5613\",\"type\":\"LinearAxis\"}],\"center\":[{\"id\":\"5617\",\"type\":\"Grid\"},{\"id\":\"5621\",\"type\":\"Grid\"}],\"left\":[{\"id\":\"5618\",\"type\":\"CategoricalAxis\"}],\"plot_height\":1200,\"plot_width\":900,\"renderers\":[{\"id\":\"5638\",\"type\":\"GlyphRenderer\"},{\"id\":\"5644\",\"type\":\"GlyphRenderer\"}],\"title\":{\"id\":\"5603\",\"type\":\"Title\"},\"toolbar\":{\"id\":\"5628\",\"type\":\"Toolbar\"},\"x_range\":{\"id\":\"5605\",\"type\":\"Range1d\"},\"x_scale\":{\"id\":\"5609\",\"type\":\"LinearScale\"},\"y_range\":{\"id\":\"5607\",\"type\":\"FactorRange\"},\"y_scale\":{\"id\":\"5611\",\"type\":\"CategoricalScale\"}},\"id\":\"5602\",\"subtype\":\"Figure\",\"type\":\"Plot\"},{\"attributes\":{\"use_scientific\":false},\"id\":\"5640\",\"type\":\"BasicTickFormatter\"},{\"attributes\":{\"data_source\":{\"id\":\"5641\",\"type\":\"ColumnDataSource\"},\"glyph\":{\"id\":\"5642\",\"type\":\"Text\"},\"hover_glyph\":null,\"muted_glyph\":null,\"nonselection_glyph\":{\"id\":\"5643\",\"type\":\"Text\"},\"selection_glyph\":null,\"view\":{\"id\":\"5645\",\"type\":\"CDSView\"}},\"id\":\"5644\",\"type\":\"GlyphRenderer\"},{\"attributes\":{\"source\":{\"id\":\"5635\",\"type\":\"ColumnDataSource\"}},\"id\":\"5639\",\"type\":\"CDSView\"},{\"attributes\":{\"callback\":null,\"factors\":[\"DIEGO MAGNIN\",\"SERGIO DOLLANARTE\",\"DAR\\u00d6O PE\\u00a5A\",\"DANIEL NEGRO\",\"ALEJANDRO CAMEJO\",\"JHONY OLIVA\",\"PABLO SUBERBIE\",\"OMAR SOLIS\",\"GABRIEL SUBERBIE\",\"JORGE LUIS DE LIMA LEMOS\",\"MILTON ARISMENDI\",\"JEFERSON DOS SANTOS\",\"ROBERTO GANCHEROV\",\"RAFAEL MASSA\",\"RICARDO SUBERBIE\",\"MARTIN RODRIGUEZ\",\"LUIS RAMOS\",\"JORDY RODRIGUEZ\",\"MARCO PAZ\",\"GONZALO NARCIZO\",\"RUB\\u0090N DALO\",\"DANIEL CABRAL\",\"HORACIO BONILLA\",\"CARLOS PUGLIA\",\"MAURO HERMOSO\",\"WILLIAM PASTORINI\",\"PABLO SUREDA\",\"EDGAR ILLENZEER\",\"FEDERICO MANSILLA\",\"EDUARDO MARI\\u00a5O\",\"ANGEL M. MONTERO\",\"DANIEL DIAZ\",\"JUAN MARTIN BONILLA\",\"DIEGO MEDINA\",\"JUAN MARTINEZ\",\"CHAPUIS\",\"GONZALO LOUREIRO\",\"MARIO PASTORINI\",\"MANUEL CABRERA\",\"JORGE SILVERA\",\"JULIO DE MARCO\",\"SERGIO SUAREZ\",\"ALCIDES BOLATTI\",\"CARLOS CARMONA\",\"MARTIN CORREA\",\"DANILO BACHIN\",\"ANTONIO BESSONART\",\"ADRIAN ARISMENDI\",\"HENRY NU\\u00a5EZ OLIVERA\",\"CARLOS IBARS\",\"JULIO DA CUNHA\",\"CARLOS ARRIOLA\",\"MIGUEL BENTANCUR\",\"RUBEN C.CECHELES\",\"JHON SILVA\",\"SEBASTIAN IRIGARAY\",\"JOSE PEDRO MELOGNO\",\"RICHARD FAR\\u00d6AS\",\"JORGE BENJAMIN PAZ\",\"JORGE PEREZ\",\"RICHARD FLEITAS\",\"MIGUEL BAZZANO\",\"MARCELO PEREZ\",\"CARLOS PASCUARIELO\",\"FERNANDO REMEDIOS\",\"JULIO FALERO\",\"JUAN GARCIA\",\"MAURICIO SEIJAS\",\"FABIAN VILLARINO BRUNOLDI\",\"CHRISTIAN BASQUEZ\",\"JESUS FOLIADOSO\",\"RICARDO CARABALLO\",\"OSCAR BENAVIDES\",\"ALVARO SILVERA\",\"CARLOS DASTE\",\"JUAN RABELA\",\"ALFREDO MOLINA\"]},\"id\":\"5607\",\"type\":\"FactorRange\"},{\"attributes\":{\"active_drag\":\"auto\",\"active_inspect\":\"auto\",\"active_multi\":null,\"active_scroll\":\"auto\",\"active_tap\":\"auto\",\"tools\":[{\"id\":\"5622\",\"type\":\"PanTool\"},{\"id\":\"5623\",\"type\":\"WheelZoomTool\"},{\"id\":\"5624\",\"type\":\"BoxZoomTool\"},{\"id\":\"5625\",\"type\":\"SaveTool\"},{\"id\":\"5626\",\"type\":\"ResetTool\"},{\"id\":\"5627\",\"type\":\"HelpTool\"}]},\"id\":\"5628\",\"type\":\"Toolbar\"},{\"attributes\":{},\"id\":\"5627\",\"type\":\"HelpTool\"},{\"attributes\":{},\"id\":\"5626\",\"type\":\"ResetTool\"},{\"attributes\":{\"callback\":null,\"data\":{\"right\":{\"__ndarray__\":\"AAAAAAB/w0AAAAAA4ILgQAAAAACgjuBAAAAAAOAx4UAAAAAAYP/uQAAAAAAAU+9AAAAAAPA38EAAAAAAEA3xQAAAAABA/P9AAAAAAKi/AEEAAAAAmNAKQQAAAAA0mhhBAAAAAAzaGEEAAAAAPDwZQQAAAAAAGhtBAAAAABQoHkEAAAAAGJEfQQAAAADU/CBBAAAAAIRiIUEAAAAAioEhQQAAAADCFSRBAAAAAMILJkEAAAAA3D8nQQAAAADG0ShBAAAAAGIHKUEAAAAAwtEpQQAAAADigSpBAAAAABSWKkEAAAAAEnMvQQAAAAAkhi9BAAAAAIl0MEEAAAAA18cwQQAAAAAbkjFBAAAAAKvuMUEAAAAAIq8yQQAAAAA6MjNBAAAAAFO9M0EAAAAA85I1QQAAAADHmTVBAAAAAC0rNkEAAAAAZ0Y5QQAAAABkPTtBAAAAAI/YO0EAAAAANuY+QQAAAICPhUBBAAAAAFVqQUEAAAAARmlEQQAAAAAOakpBAAAAgMYATEEAAACArJ1PQQAAAABF8VFBAAAAgDekVUEAAAAAQn5YQQAAAIB9tlhBAAAAwG1tWUEAAABA73hZQQAAAMCkf1lBAAAAgEQLWkEAAACAoxlaQQAAAMAuQlpBAAAAwK1jWkEAAAAA+WVaQQAAAICTb1pBAAAAgMCbWkEAAAAABMlaQQAAAECd51pBAAAAQER9W0EAAABAUc5bQQAAAACRC1xBAAAAQEkyXEEAAABAejxcQQAAAEC/qF5BAAAAwJ27XkEAAABASk5fQQAAAECDB2BBAAAAAIsCYkEAAADAr4BiQQ==\",\"dtype\":\"float64\",\"shape\":[77]},\"y\":[\"DIEGO MAGNIN\",\"SERGIO DOLLANARTE\",\"DAR\\u00d6O PE\\u00a5A\",\"DANIEL NEGRO\",\"ALEJANDRO CAMEJO\",\"JHONY OLIVA\",\"PABLO SUBERBIE\",\"OMAR SOLIS\",\"GABRIEL SUBERBIE\",\"JORGE LUIS DE LIMA LEMOS\",\"MILTON ARISMENDI\",\"JEFERSON DOS SANTOS\",\"ROBERTO GANCHEROV\",\"RAFAEL MASSA\",\"RICARDO SUBERBIE\",\"MARTIN RODRIGUEZ\",\"LUIS RAMOS\",\"JORDY RODRIGUEZ\",\"MARCO PAZ\",\"GONZALO NARCIZO\",\"RUB\\u0090N DALO\",\"DANIEL CABRAL\",\"HORACIO BONILLA\",\"CARLOS PUGLIA\",\"MAURO HERMOSO\",\"WILLIAM PASTORINI\",\"PABLO SUREDA\",\"EDGAR ILLENZEER\",\"FEDERICO MANSILLA\",\"EDUARDO MARI\\u00a5O\",\"ANGEL M. MONTERO\",\"DANIEL DIAZ\",\"JUAN MARTIN BONILLA\",\"DIEGO MEDINA\",\"JUAN MARTINEZ\",\"CHAPUIS\",\"GONZALO LOUREIRO\",\"MARIO PASTORINI\",\"MANUEL CABRERA\",\"JORGE SILVERA\",\"JULIO DE MARCO\",\"SERGIO SUAREZ\",\"ALCIDES BOLATTI\",\"CARLOS CARMONA\",\"MARTIN CORREA\",\"DANILO BACHIN\",\"ANTONIO BESSONART\",\"ADRIAN ARISMENDI\",\"HENRY NU\\u00a5EZ OLIVERA\",\"CARLOS IBARS\",\"JULIO DA CUNHA\",\"CARLOS ARRIOLA\",\"MIGUEL BENTANCUR\",\"RUBEN C.CECHELES\",\"JHON SILVA\",\"SEBASTIAN IRIGARAY\",\"JOSE PEDRO MELOGNO\",\"RICHARD FAR\\u00d6AS\",\"JORGE BENJAMIN PAZ\",\"JORGE PEREZ\",\"RICHARD FLEITAS\",\"MIGUEL BAZZANO\",\"MARCELO PEREZ\",\"CARLOS PASCUARIELO\",\"FERNANDO REMEDIOS\",\"JULIO FALERO\",\"JUAN GARCIA\",\"MAURICIO SEIJAS\",\"FABIAN VILLARINO BRUNOLDI\",\"CHRISTIAN BASQUEZ\",\"JESUS FOLIADOSO\",\"RICARDO CARABALLO\",\"OSCAR BENAVIDES\",\"ALVARO SILVERA\",\"CARLOS DASTE\",\"JUAN RABELA\",\"ALFREDO MOLINA\"]},\"selected\":{\"id\":\"5865\",\"type\":\"Selection\"},\"selection_policy\":{\"id\":\"5864\",\"type\":\"UnionRenderers\"}},\"id\":\"5635\",\"type\":\"ColumnDataSource\"},{\"attributes\":{},\"id\":\"5625\",\"type\":\"SaveTool\"},{\"attributes\":{},\"id\":\"5614\",\"type\":\"BasicTicker\"},{\"attributes\":{\"overlay\":{\"id\":\"5863\",\"type\":\"BoxAnnotation\"}},\"id\":\"5624\",\"type\":\"BoxZoomTool\"},{\"attributes\":{},\"id\":\"5867\",\"type\":\"Selection\"},{\"attributes\":{\"text_baseline\":\"middle\",\"text_color\":{\"value\":\"black\"},\"text_font_size\":{\"value\":\"6pt\"},\"x\":{\"field\":\"x\"},\"y\":{\"field\":\"y\"}},\"id\":\"5642\",\"type\":\"Text\"},{\"attributes\":{},\"id\":\"5623\",\"type\":\"WheelZoomTool\"},{\"attributes\":{\"text_alpha\":{\"value\":0.1},\"text_baseline\":\"middle\",\"text_color\":{\"value\":\"black\"},\"text_font_size\":{\"value\":\"6pt\"},\"x\":{\"field\":\"x\"},\"y\":{\"field\":\"y\"}},\"id\":\"5643\",\"type\":\"Text\"},{\"attributes\":{\"ticker\":{\"id\":\"5614\",\"type\":\"BasicTicker\"}},\"id\":\"5617\",\"type\":\"Grid\"},{\"attributes\":{},\"id\":\"5866\",\"type\":\"UnionRenderers\"},{\"attributes\":{},\"id\":\"5861\",\"type\":\"CategoricalTickFormatter\"},{\"attributes\":{\"callback\":null,\"end\":11640880.799999999,\"start\":-1},\"id\":\"5605\",\"type\":\"Range1d\"},{\"attributes\":{\"axis_label\":\"Chofer\",\"formatter\":{\"id\":\"5861\",\"type\":\"CategoricalTickFormatter\"},\"ticker\":{\"id\":\"5619\",\"type\":\"CategoricalTicker\"}},\"id\":\"5618\",\"type\":\"CategoricalAxis\"},{\"attributes\":{},\"id\":\"5609\",\"type\":\"LinearScale\"},{\"attributes\":{\"source\":{\"id\":\"5641\",\"type\":\"ColumnDataSource\"}},\"id\":\"5645\",\"type\":\"CDSView\"},{\"attributes\":{},\"id\":\"5865\",\"type\":\"Selection\"},{\"attributes\":{},\"id\":\"5619\",\"type\":\"CategoricalTicker\"},{\"attributes\":{},\"id\":\"5864\",\"type\":\"UnionRenderers\"},{\"attributes\":{\"dimension\":1,\"ticker\":{\"id\":\"5619\",\"type\":\"CategoricalTicker\"}},\"id\":\"5621\",\"type\":\"Grid\"},{\"attributes\":{},\"id\":\"5611\",\"type\":\"CategoricalScale\"},{\"attributes\":{\"fill_alpha\":{\"value\":0.1},\"fill_color\":{\"value\":\"#1f77b4\"},\"height\":{\"value\":0.7},\"line_alpha\":{\"value\":0.1},\"line_color\":{\"value\":\"#1f77b4\"},\"right\":{\"field\":\"right\"},\"y\":{\"field\":\"y\"}},\"id\":\"5637\",\"type\":\"HBar\"},{\"attributes\":{\"bottom_units\":\"screen\",\"fill_alpha\":{\"value\":0.5},\"fill_color\":{\"value\":\"lightgrey\"},\"left_units\":\"screen\",\"level\":\"overlay\",\"line_alpha\":{\"value\":1.0},\"line_color\":{\"value\":\"black\"},\"line_dash\":[4,4],\"line_width\":{\"value\":2},\"render_mode\":\"css\",\"right_units\":\"screen\",\"top_units\":\"screen\"},\"id\":\"5863\",\"type\":\"BoxAnnotation\"},{\"attributes\":{\"fill_color\":{\"value\":\"firebrick\"},\"height\":{\"value\":0.7},\"line_color\":{\"value\":\"firebrick\"},\"right\":{\"field\":\"right\"},\"y\":{\"field\":\"y\"}},\"id\":\"5636\",\"type\":\"HBar\"},{\"attributes\":{\"text\":\"Volumen Total Repartido por cada Chofer en 2020\"},\"id\":\"5603\",\"type\":\"Title\"},{\"attributes\":{\"axis_label\":\"Carga Total (litros)\",\"formatter\":{\"id\":\"5640\",\"type\":\"BasicTickFormatter\"},\"ticker\":{\"id\":\"5614\",\"type\":\"BasicTicker\"}},\"id\":\"5613\",\"type\":\"LinearAxis\"},{\"attributes\":{\"callback\":null,\"data\":{\"text\":[\"9982.0 (0.00%)\",\"33815.0 (0.01%)\",\"33909.0 (0.01%)\",\"35215.0 (0.01%)\",\"63483.0 (0.03%)\",\"64152.0 (0.03%)\",\"66431.0 (0.03%)\",\"69841.0 (0.03%)\",\"131012.0 (0.05%)\",\"137205.0 (0.06%)\",\"219667.0 (0.09%)\",\"403085.0 (0.16%)\",\"407171.0 (0.17%)\",\"413455.0 (0.17%)\",\"444032.0 (0.18%)\",\"494085.0 (0.20%)\",\"517190.0 (0.21%)\",\"556650.0 (0.23%)\",\"569666.0 (0.23%)\",\"573637.0 (0.23%)\",\"658145.0 (0.27%)\",\"722401.0 (0.29%)\",\"761838.0 (0.31%)\",\"813283.0 (0.33%)\",\"820145.0 (0.33%)\",\"846049.0 (0.34%)\",\"868593.0 (0.35%)\",\"871178.0 (0.35%)\",\"1030537.0 (0.42%)\",\"1032978.0 (0.42%)\",\"1078409.0 (0.44%)\",\"1099735.0 (0.45%)\",\"1151515.0 (0.47%)\",\"1175211.0 (0.48%)\",\"1224482.0 (0.50%)\",\"1258042.0 (0.51%)\",\"1293651.0 (0.53%)\",\"1413875.0 (0.57%)\",\"1415623.0 (0.58%)\",\"1452845.0 (0.59%)\",\"1656423.0 (0.67%)\",\"1785188.0 (0.73%)\",\"1824911.0 (0.74%)\",\"2025014.0 (0.82%)\",\"2165535.0 (0.88%)\",\"2282666.0 (0.93%)\",\"2675340.0 (1.09%)\",\"3462172.0 (1.41%)\",\"3670413.0 (1.49%)\",\"4143961.0 (1.68%)\",\"4703508.0 (1.91%)\",\"5673182.0 (2.31%)\",\"6420744.0 (2.61%)\",\"6478326.0 (2.63%)\",\"6665655.0 (2.71%)\",\"6677437.0 (2.71%)\",\"6684307.0 (2.72%)\",\"6827282.0 (2.77%)\",\"6841998.0 (2.78%)\",\"6883515.0 (2.80%)\",\"6917815.0 (2.81%)\",\"6920164.0 (2.81%)\",\"6929998.0 (2.82%)\",\"6975234.0 (2.83%)\",\"7021584.0 (2.85%)\",\"7052917.0 (2.87%)\",\"7206161.0 (2.93%)\",\"7289157.0 (2.96%)\",\"7351876.0 (2.99%)\",\"7391525.0 (3.00%)\",\"7401961.0 (3.01%)\",\"8037117.0 (3.27%)\",\"8056439.0 (3.27%)\",\"8206633.0 (3.33%)\",\"8403994.0 (3.42%)\",\"9442392.0 (3.84%)\",\"9700734.0 (3.94%)\"],\"x\":{\"__ndarray__\":\"CtejcNUe+kAK16NwZfD/QArXo3BF9v9AhetRuPIjAEGF61G4UpcDQYXrUbg6rANBhetRuHLzA0GF61G4Al4EQYXrUbia1QtBhetRuCKXDEHC9ShcCVQTQcL1KFzxhR5BwvUoXMnFHkHC9Shc+ScfQeF6FK7egiBB4XoUrugJIkHhehSuar4iQeF6FK6y8iNB4XoUrmJYJEHhehSuaHckQeF6FK6gCydB4XoUrqABKUHhehSuujUqQeF6FK6kxytB4XoUrkD9K0HhehSuoMcsQeF6FK7Ady1B4XoUrvKLLUFxPQpXeDQxQXE9ClcBPjFBcT0KV3jvMUFxPQpXxkIyQXE9ClcKDTNBcT0KV5ppM0FxPQpXESo0QXE9ClcprTRBcT0KV0I4NUFxPQpX4g03QXE9Cle2FDdBcT0KVxymN0FxPQpXVsE6QXE9CldTuDxBcT0KV35TPUG4HoWrkjBAQbgehSsHQ0FBuB6Fq8wnQkG4HoWrvSZFQbgehauFJ0tBuB6FKz6+TEFcj8IVki1QQVyPwtUAUFJBXI/CVfMCVkFcj8LV/dxYQVyPwlU5FVlBXI/ClSnMWUFcj8IVq9dZQVyPwpVg3llBXI/CVQBqWkFcj8JVX3haQVyPwpXqoFpBXI/ClWnCWkFcj8LVtMRaQVyPwlVPzlpBXI/CVXz6WkFcj8LVvydbQVyPwhVZRltBXI/CFQDcW0Fcj8IVDS1cQVyPwtVMalxBXI/CFQWRXEFcj8IVNptcQVyPwhV7B19BXI/ClVkaX0Fcj8IVBq1fQa5H4SrhNmBBrkfh6ugxYkGuR+GqDbBiQQ==\",\"dtype\":\"float64\",\"shape\":[77]},\"y\":[\"DIEGO MAGNIN\",\"SERGIO DOLLANARTE\",\"DAR\\u00d6O PE\\u00a5A\",\"DANIEL NEGRO\",\"ALEJANDRO CAMEJO\",\"JHONY OLIVA\",\"PABLO SUBERBIE\",\"OMAR SOLIS\",\"GABRIEL SUBERBIE\",\"JORGE LUIS DE LIMA LEMOS\",\"MILTON ARISMENDI\",\"JEFERSON DOS SANTOS\",\"ROBERTO GANCHEROV\",\"RAFAEL MASSA\",\"RICARDO SUBERBIE\",\"MARTIN RODRIGUEZ\",\"LUIS RAMOS\",\"JORDY RODRIGUEZ\",\"MARCO PAZ\",\"GONZALO NARCIZO\",\"RUB\\u0090N DALO\",\"DANIEL CABRAL\",\"HORACIO BONILLA\",\"CARLOS PUGLIA\",\"MAURO HERMOSO\",\"WILLIAM PASTORINI\",\"PABLO SUREDA\",\"EDGAR ILLENZEER\",\"FEDERICO MANSILLA\",\"EDUARDO MARI\\u00a5O\",\"ANGEL M. MONTERO\",\"DANIEL DIAZ\",\"JUAN MARTIN BONILLA\",\"DIEGO MEDINA\",\"JUAN MARTINEZ\",\"CHAPUIS\",\"GONZALO LOUREIRO\",\"MARIO PASTORINI\",\"MANUEL CABRERA\",\"JORGE SILVERA\",\"JULIO DE MARCO\",\"SERGIO SUAREZ\",\"ALCIDES BOLATTI\",\"CARLOS CARMONA\",\"MARTIN CORREA\",\"DANILO BACHIN\",\"ANTONIO BESSONART\",\"ADRIAN ARISMENDI\",\"HENRY NU\\u00a5EZ OLIVERA\",\"CARLOS IBARS\",\"JULIO DA CUNHA\",\"CARLOS ARRIOLA\",\"MIGUEL BENTANCUR\",\"RUBEN C.CECHELES\",\"JHON SILVA\",\"SEBASTIAN IRIGARAY\",\"JOSE PEDRO MELOGNO\",\"RICHARD FAR\\u00d6AS\",\"JORGE BENJAMIN PAZ\",\"JORGE PEREZ\",\"RICHARD FLEITAS\",\"MIGUEL BAZZANO\",\"MARCELO PEREZ\",\"CARLOS PASCUARIELO\",\"FERNANDO REMEDIOS\",\"JULIO FALERO\",\"JUAN GARCIA\",\"MAURICIO SEIJAS\",\"FABIAN VILLARINO BRUNOLDI\",\"CHRISTIAN BASQUEZ\",\"JESUS FOLIADOSO\",\"RICARDO CARABALLO\",\"OSCAR BENAVIDES\",\"ALVARO SILVERA\",\"CARLOS DASTE\",\"JUAN RABELA\",\"ALFREDO MOLINA\"]},\"selected\":{\"id\":\"5867\",\"type\":\"Selection\"},\"selection_policy\":{\"id\":\"5866\",\"type\":\"UnionRenderers\"}},\"id\":\"5641\",\"type\":\"ColumnDataSource\"},{\"attributes\":{\"data_source\":{\"id\":\"5635\",\"type\":\"ColumnDataSource\"},\"glyph\":{\"id\":\"5636\",\"type\":\"HBar\"},\"hover_glyph\":null,\"muted_glyph\":null,\"nonselection_glyph\":{\"id\":\"5637\",\"type\":\"HBar\"},\"selection_glyph\":null,\"view\":{\"id\":\"5639\",\"type\":\"CDSView\"}},\"id\":\"5638\",\"type\":\"GlyphRenderer\"},{\"attributes\":{},\"id\":\"5622\",\"type\":\"PanTool\"}],\"root_ids\":[\"5602\"]},\"title\":\"Bokeh Application\",\"version\":\"1.3.0\"}};\n",
       "  var render_items = [{\"docid\":\"88382857-af80-4652-a9af-8b07f3c93192\",\"roots\":{\"5602\":\"48dd76a7-1035-4d52-ac76-06c74e2f525d\"}}];\n",
       "  root.Bokeh.embed.embed_items_notebook(docs_json, render_items);\n",
       "\n",
       "  }\n",
       "  if (root.Bokeh !== undefined) {\n",
       "    embed_document(root);\n",
       "  } else {\n",
       "    var attempts = 0;\n",
       "    var timer = setInterval(function(root) {\n",
       "      if (root.Bokeh !== undefined) {\n",
       "        embed_document(root);\n",
       "        clearInterval(timer);\n",
       "      }\n",
       "      attempts++;\n",
       "      if (attempts > 100) {\n",
       "        console.log(\"Bokeh: ERROR: Unable to run BokehJS code because BokehJS library is missing\");\n",
       "        clearInterval(timer);\n",
       "      }\n",
       "    }, 10, root)\n",
       "  }\n",
       "})(window);"
      ],
      "application/vnd.bokehjs_exec.v0+json": ""
     },
     "metadata": {
      "application/vnd.bokehjs_exec.v0+json": {
       "id": "5602"
      }
     },
     "output_type": "display_data"
    }
   ],
   "source": [
    "p = plot_litros_por_chofer(df, title='Volumen Total Repartido por cada Chofer en %d' % year)"
   ]
  },
  {
   "cell_type": "code",
   "execution_count": 76,
   "metadata": {},
   "outputs": [
    {
     "data": {
      "text/html": [
       "\n",
       "\n",
       "\n",
       "\n",
       "\n",
       "\n",
       "  <div class=\"bk-root\" id=\"b6aee7b8-72e9-4537-84c8-f2b10ea235ab\" data-root-id=\"5928\"></div>\n"
      ]
     },
     "metadata": {},
     "output_type": "display_data"
    },
    {
     "data": {
      "application/javascript": [
       "(function(root) {\n",
       "  function embed_document(root) {\n",
       "    \n",
       "  var docs_json = {\"a1c2b9b9-619b-402b-ac0d-5deb3ab8c1fe\":{\"roots\":{\"references\":[{\"attributes\":{\"below\":[{\"id\":\"5939\",\"type\":\"CategoricalAxis\"}],\"center\":[{\"id\":\"5942\",\"type\":\"Grid\"},{\"id\":\"5947\",\"type\":\"Grid\"}],\"left\":[{\"id\":\"5943\",\"type\":\"LinearAxis\"}],\"plot_width\":800,\"renderers\":[{\"id\":\"5964\",\"type\":\"GlyphRenderer\"},{\"id\":\"5970\",\"type\":\"GlyphRenderer\"}],\"title\":{\"id\":\"5929\",\"type\":\"Title\"},\"toolbar\":{\"id\":\"5954\",\"type\":\"Toolbar\"},\"x_range\":{\"id\":\"5931\",\"type\":\"FactorRange\"},\"x_scale\":{\"id\":\"5935\",\"type\":\"CategoricalScale\"},\"y_range\":{\"id\":\"5933\",\"type\":\"DataRange1d\"},\"y_scale\":{\"id\":\"5937\",\"type\":\"LinearScale\"}},\"id\":\"5928\",\"subtype\":\"Figure\",\"type\":\"Plot\"},{\"attributes\":{\"fill_alpha\":{\"value\":0.1},\"fill_color\":{\"value\":\"#1f77b4\"},\"line_alpha\":{\"value\":0.1},\"line_color\":{\"value\":\"#1f77b4\"},\"top\":{\"field\":\"top\"},\"width\":{\"value\":0.5},\"x\":{\"field\":\"x\"}},\"id\":\"5963\",\"type\":\"VBar\"},{\"attributes\":{\"text_align\":\"center\",\"text_color\":{\"value\":\"black\"},\"text_font_size\":{\"value\":\"8pt\"},\"x\":{\"field\":\"x\"},\"y\":{\"field\":\"y\"}},\"id\":\"5968\",\"type\":\"Text\"},{\"attributes\":{},\"id\":\"5951\",\"type\":\"SaveTool\"},{\"attributes\":{},\"id\":\"5949\",\"type\":\"WheelZoomTool\"},{\"attributes\":{\"source\":{\"id\":\"5967\",\"type\":\"ColumnDataSource\"}},\"id\":\"5971\",\"type\":\"CDSView\"},{\"attributes\":{\"overlay\":{\"id\":\"6199\",\"type\":\"BoxAnnotation\"}},\"id\":\"5950\",\"type\":\"BoxZoomTool\"},{\"attributes\":{\"callback\":null,\"data\":{\"top\":{\"__ndarray__\":\"AAAAEBRGiEEAAACgI56DQQAAAPAFpIJBAAAAEJPFhEEAAAAISxyLQQAAACCAtmtBAAAAAAAAAAA=\",\"dtype\":\"float64\",\"shape\":[7]},\"x\":[\"Lunes\",\"Martes\",\"Mi\\u00e9rcoles\",\"Jueves\",\"Viernes\",\"S\\u00e1bado\",\"Domingo\"]},\"selected\":{\"id\":\"6201\",\"type\":\"Selection\"},\"selection_policy\":{\"id\":\"6200\",\"type\":\"UnionRenderers\"}},\"id\":\"5961\",\"type\":\"ColumnDataSource\"},{\"attributes\":{\"text\":\"Vol\\u00famen Distribu\\u00eddo por D\\u00eda en 2020\"},\"id\":\"5929\",\"type\":\"Title\"},{\"attributes\":{},\"id\":\"5944\",\"type\":\"BasicTicker\"},{\"attributes\":{\"fill_color\":{\"value\":\"firebrick\"},\"line_color\":{\"value\":\"firebrick\"},\"top\":{\"field\":\"top\"},\"width\":{\"value\":0.5},\"x\":{\"field\":\"x\"}},\"id\":\"5962\",\"type\":\"VBar\"},{\"attributes\":{\"active_drag\":\"auto\",\"active_inspect\":\"auto\",\"active_multi\":null,\"active_scroll\":\"auto\",\"active_tap\":\"auto\",\"tools\":[{\"id\":\"5948\",\"type\":\"PanTool\"},{\"id\":\"5949\",\"type\":\"WheelZoomTool\"},{\"id\":\"5950\",\"type\":\"BoxZoomTool\"},{\"id\":\"5951\",\"type\":\"SaveTool\"},{\"id\":\"5952\",\"type\":\"ResetTool\"},{\"id\":\"5953\",\"type\":\"HelpTool\"}]},\"id\":\"5954\",\"type\":\"Toolbar\"},{\"attributes\":{},\"id\":\"5940\",\"type\":\"CategoricalTicker\"},{\"attributes\":{\"callback\":null},\"id\":\"5933\",\"type\":\"DataRange1d\"},{\"attributes\":{\"callback\":null,\"data\":{\"text\":[\"20.69%\",\"16.72%\",\"15.89%\",\"17.70%\",\"23.10%\",\"5.90%\",\"0.00%\"],\"x\":[\"Lunes\",\"Martes\",\"Mi\\u00e9rcoles\",\"Jueves\",\"Viernes\",\"S\\u00e1bado\",\"Domingo\"],\"y\":{\"__ndarray__\":\"SOF6NnuLiEFI4XrGiuODQUjhehZt6YJBSOF6NvoKhUFI4XousmGLQR+F67kczGxB7FG4nslZIUE=\",\"dtype\":\"float64\",\"shape\":[7]}},\"selected\":{\"id\":\"6203\",\"type\":\"Selection\"},\"selection_policy\":{\"id\":\"6202\",\"type\":\"UnionRenderers\"}},\"id\":\"5967\",\"type\":\"ColumnDataSource\"},{\"attributes\":{},\"id\":\"6195\",\"type\":\"CategoricalTickFormatter\"},{\"attributes\":{},\"id\":\"5953\",\"type\":\"HelpTool\"},{\"attributes\":{\"dimension\":1,\"ticker\":{\"id\":\"5944\",\"type\":\"BasicTicker\"}},\"id\":\"5947\",\"type\":\"Grid\"},{\"attributes\":{\"axis_label\":\"D\\u00eda de la Semana\",\"formatter\":{\"id\":\"6195\",\"type\":\"CategoricalTickFormatter\"},\"ticker\":{\"id\":\"5940\",\"type\":\"CategoricalTicker\"}},\"id\":\"5939\",\"type\":\"CategoricalAxis\"},{\"attributes\":{},\"id\":\"5948\",\"type\":\"PanTool\"},{\"attributes\":{},\"id\":\"5952\",\"type\":\"ResetTool\"},{\"attributes\":{\"axis_label\":\"Volumen Distribu\\u00eddo (L)\",\"formatter\":{\"id\":\"5966\",\"type\":\"BasicTickFormatter\"},\"ticker\":{\"id\":\"5944\",\"type\":\"BasicTicker\"}},\"id\":\"5943\",\"type\":\"LinearAxis\"},{\"attributes\":{},\"id\":\"6203\",\"type\":\"Selection\"},{\"attributes\":{\"bottom_units\":\"screen\",\"fill_alpha\":{\"value\":0.5},\"fill_color\":{\"value\":\"lightgrey\"},\"left_units\":\"screen\",\"level\":\"overlay\",\"line_alpha\":{\"value\":1.0},\"line_color\":{\"value\":\"black\"},\"line_dash\":[4,4],\"line_width\":{\"value\":2},\"render_mode\":\"css\",\"right_units\":\"screen\",\"top_units\":\"screen\"},\"id\":\"6199\",\"type\":\"BoxAnnotation\"},{\"attributes\":{\"data_source\":{\"id\":\"5961\",\"type\":\"ColumnDataSource\"},\"glyph\":{\"id\":\"5962\",\"type\":\"VBar\"},\"hover_glyph\":null,\"muted_glyph\":null,\"nonselection_glyph\":{\"id\":\"5963\",\"type\":\"VBar\"},\"selection_glyph\":null,\"view\":{\"id\":\"5965\",\"type\":\"CDSView\"}},\"id\":\"5964\",\"type\":\"GlyphRenderer\"},{\"attributes\":{},\"id\":\"5937\",\"type\":\"LinearScale\"},{\"attributes\":{\"use_scientific\":false},\"id\":\"5966\",\"type\":\"BasicTickFormatter\"},{\"attributes\":{},\"id\":\"5935\",\"type\":\"CategoricalScale\"},{\"attributes\":{\"callback\":null,\"factors\":[\"Lunes\",\"Martes\",\"Mi\\u00e9rcoles\",\"Jueves\",\"Viernes\",\"S\\u00e1bado\",\"Domingo\"]},\"id\":\"5931\",\"type\":\"FactorRange\"},{\"attributes\":{\"text_align\":\"center\",\"text_alpha\":{\"value\":0.1},\"text_color\":{\"value\":\"black\"},\"text_font_size\":{\"value\":\"8pt\"},\"x\":{\"field\":\"x\"},\"y\":{\"field\":\"y\"}},\"id\":\"5969\",\"type\":\"Text\"},{\"attributes\":{\"ticker\":{\"id\":\"5940\",\"type\":\"CategoricalTicker\"}},\"id\":\"5942\",\"type\":\"Grid\"},{\"attributes\":{},\"id\":\"6201\",\"type\":\"Selection\"},{\"attributes\":{\"data_source\":{\"id\":\"5967\",\"type\":\"ColumnDataSource\"},\"glyph\":{\"id\":\"5968\",\"type\":\"Text\"},\"hover_glyph\":null,\"muted_glyph\":null,\"nonselection_glyph\":{\"id\":\"5969\",\"type\":\"Text\"},\"selection_glyph\":null,\"view\":{\"id\":\"5971\",\"type\":\"CDSView\"}},\"id\":\"5970\",\"type\":\"GlyphRenderer\"},{\"attributes\":{},\"id\":\"6200\",\"type\":\"UnionRenderers\"},{\"attributes\":{},\"id\":\"6202\",\"type\":\"UnionRenderers\"},{\"attributes\":{\"source\":{\"id\":\"5961\",\"type\":\"ColumnDataSource\"}},\"id\":\"5965\",\"type\":\"CDSView\"}],\"root_ids\":[\"5928\"]},\"title\":\"Bokeh Application\",\"version\":\"1.3.0\"}};\n",
       "  var render_items = [{\"docid\":\"a1c2b9b9-619b-402b-ac0d-5deb3ab8c1fe\",\"roots\":{\"5928\":\"b6aee7b8-72e9-4537-84c8-f2b10ea235ab\"}}];\n",
       "  root.Bokeh.embed.embed_items_notebook(docs_json, render_items);\n",
       "\n",
       "  }\n",
       "  if (root.Bokeh !== undefined) {\n",
       "    embed_document(root);\n",
       "  } else {\n",
       "    var attempts = 0;\n",
       "    var timer = setInterval(function(root) {\n",
       "      if (root.Bokeh !== undefined) {\n",
       "        embed_document(root);\n",
       "        clearInterval(timer);\n",
       "      }\n",
       "      attempts++;\n",
       "      if (attempts > 100) {\n",
       "        console.log(\"Bokeh: ERROR: Unable to run BokehJS code because BokehJS library is missing\");\n",
       "        clearInterval(timer);\n",
       "      }\n",
       "    }, 10, root)\n",
       "  }\n",
       "})(window);"
      ],
      "application/vnd.bokehjs_exec.v0+json": ""
     },
     "metadata": {
      "application/vnd.bokehjs_exec.v0+json": {
       "id": "5928"
      }
     },
     "output_type": "display_data"
    }
   ],
   "source": [
    "plot_vol_por_dia(df, title='Volúmen Distribuído por Día en %d' % year)"
   ]
  },
  {
   "cell_type": "code",
   "execution_count": 77,
   "metadata": {},
   "outputs": [
    {
     "data": {
      "text/html": [
       "<div>\n",
       "<style scoped>\n",
       "    .dataframe tbody tr th:only-of-type {\n",
       "        vertical-align: middle;\n",
       "    }\n",
       "\n",
       "    .dataframe tbody tr th {\n",
       "        vertical-align: top;\n",
       "    }\n",
       "\n",
       "    .dataframe thead tr th {\n",
       "        text-align: left;\n",
       "    }\n",
       "\n",
       "    .dataframe thead tr:last-of-type th {\n",
       "        text-align: right;\n",
       "    }\n",
       "</style>\n",
       "<table border=\"1\" class=\"dataframe\">\n",
       "  <thead>\n",
       "    <tr>\n",
       "      <th></th>\n",
       "      <th>sum</th>\n",
       "    </tr>\n",
       "    <tr>\n",
       "      <th></th>\n",
       "      <th>TOTCARGA</th>\n",
       "    </tr>\n",
       "    <tr>\n",
       "      <th>dia</th>\n",
       "      <th></th>\n",
       "    </tr>\n",
       "  </thead>\n",
       "  <tbody>\n",
       "    <tr>\n",
       "      <th>Monday</th>\n",
       "      <td>50905730.0</td>\n",
       "    </tr>\n",
       "    <tr>\n",
       "      <th>Tuesday</th>\n",
       "      <td>41141364.0</td>\n",
       "    </tr>\n",
       "    <tr>\n",
       "      <th>Wednesday</th>\n",
       "      <td>39092414.0</td>\n",
       "    </tr>\n",
       "    <tr>\n",
       "      <th>Thursday</th>\n",
       "      <td>43561570.0</td>\n",
       "    </tr>\n",
       "    <tr>\n",
       "      <th>Friday</th>\n",
       "      <td>56854881.0</td>\n",
       "    </tr>\n",
       "    <tr>\n",
       "      <th>Saturday</th>\n",
       "      <td>14529537.0</td>\n",
       "    </tr>\n",
       "    <tr>\n",
       "      <th>Sunday</th>\n",
       "      <td>0.0</td>\n",
       "    </tr>\n",
       "  </tbody>\n",
       "</table>\n",
       "</div>"
      ],
      "text/plain": [
       "                  sum\n",
       "             TOTCARGA\n",
       "dia                  \n",
       "Monday     50905730.0\n",
       "Tuesday    41141364.0\n",
       "Wednesday  39092414.0\n",
       "Thursday   43561570.0\n",
       "Friday     56854881.0\n",
       "Saturday   14529537.0\n",
       "Sunday            0.0"
      ]
     },
     "execution_count": 77,
     "metadata": {},
     "output_type": "execute_result"
    }
   ],
   "source": [
    "daily_tc = pd.pivot_table(df, values='TOTCARGA', index='dia', aggfunc=['sum'])\n",
    "daily_tc"
   ]
  },
  {
   "cell_type": "code",
   "execution_count": null,
   "metadata": {},
   "outputs": [],
   "source": []
  }
 ],
 "metadata": {
  "kernelspec": {
   "display_name": "Python 3",
   "language": "python",
   "name": "python3"
  },
  "language_info": {
   "codemirror_mode": {
    "name": "ipython",
    "version": 3
   },
   "file_extension": ".py",
   "mimetype": "text/x-python",
   "name": "python",
   "nbconvert_exporter": "python",
   "pygments_lexer": "ipython3",
   "version": "3.8.5"
  }
 },
 "nbformat": 4,
 "nbformat_minor": 4
}
