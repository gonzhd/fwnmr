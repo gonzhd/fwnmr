{
 "cells": [
  {
   "cell_type": "markdown",
   "metadata": {},
   "source": [
    "# Jupyter Notebooks\n",
    "\n",
    "Jupyter Notebooks are a way to share text and code in the same place. They are a great tool for demonstration and collaboration. \n",
    "\n",
    "You can write text using Markdown, which is a form of rich text formatting that allows it to be read standalone or transformed into HTML and other markup languages. \n",
    "\n",
    "This is \n",
    "\n",
    "*words between asterics are italicized*\n",
    "\n",
    "## H2 headline\n",
    "\n",
    "This is how normal text looks like\n",
    "\n",
    "### h3 text followed by numbered list and bullet points\n",
    "1. one\n",
    "2. two\n",
    "3. three\n",
    "\n",
    ". one\n",
    ". two\n",
    ". three\n",
    "\n",
    "------------\n",
    "\n",
    "\"\"\"\n",
    "What is this\n",
    "\"\"\""
   ]
  },
  {
   "cell_type": "code",
   "execution_count": 8,
   "metadata": {},
   "outputs": [
    {
     "name": "stdout",
     "output_type": "stream",
     "text": [
      "Hello World!\n"
     ]
    }
   ],
   "source": [
    "print 'Hello World!'"
   ]
  },
  {
   "cell_type": "code",
   "execution_count": 9,
   "metadata": {},
   "outputs": [
    {
     "name": "stdout",
     "output_type": "stream",
     "text": [
      "alabaster (0.7.10)\n",
      "anaconda-client (1.6.5)\n",
      "anaconda-navigator (1.6.9)\n",
      "anaconda-project (0.8.0)\n",
      "asn1crypto (0.22.0)\n",
      "astroid (1.5.3)\n",
      "astropy (2.0.2)\n",
      "babel (2.5.0)\n",
      "backports-abc (0.5)\n",
      "backports.functools-lru-cache (1.4)\n",
      "backports.shutil-get-terminal-size (1.0.0)\n",
      "backports.ssl-match-hostname (3.5.0.1)\n",
      "beautifulsoup4 (4.6.0)\n",
      "bitarray (0.8.1)\n",
      "bkcharts (0.2)\n",
      "blaze (0.11.3)\n",
      "bleach (2.0.0)\n",
      "bokeh (0.12.10)\n",
      "boto (2.48.0)\n",
      "Bottleneck (1.2.1)\n",
      "CacheControl (0.12.3)\n",
      "cdecimal (2.3)\n",
      "certifi (2017.7.27.1)\n",
      "cffi (1.10.0)\n",
      "chardet (3.0.4)\n",
      "click (6.7)\n",
      "cloudpickle (0.4.0)\n",
      "clyent (1.2.2)\n",
      "colorama (0.3.9)\n",
      "comtypes (1.1.2)\n",
      "conda (4.3.30)\n",
      "conda-build (3.0.27)\n",
      "conda-verify (2.0.0)\n",
      "configparser (3.5.0)\n",
      "contextlib2 (0.5.5)\n",
      "cryptography (2.0.3)\n",
      "cycler (0.10.0)\n",
      "Cython (0.26.1)\n",
      "cytoolz (0.8.2)\n",
      "dask (0.15.3)\n",
      "datashape (0.5.4)\n",
      "decorator (4.1.2)\n",
      "distlib (0.2.5)\n",
      "distributed (1.19.1)\n",
      "docutils (0.14)\n",
      "entrypoints (0.2.3)\n",
      "enum34 (1.1.6)\n",
      "et-xmlfile (1.0.1)\n",
      "fastcache (1.0.2)\n",
      "filelock (2.0.12)\n",
      "Flask (0.12.2)\n",
      "Flask-Cors (3.0.3)\n",
      "funcsigs (1.0.2)\n",
      "functools32 (3.2.3.post2)\n",
      "futures (3.1.1)\n",
      "gevent (1.2.2)\n",
      "glob2 (0.5)\n",
      "greenlet (0.4.12)\n",
      "grin (1.2.1)\n",
      "h5py (2.7.0)\n",
      "heapdict (1.0.0)\n",
      "html5lib (0.999999999)\n",
      "idna (2.6)\n",
      "imageio (2.2.0)\n",
      "imagesize (0.7.1)\n",
      "ipaddress (1.0.18)\n",
      "ipykernel (4.6.1)\n",
      "ipython (5.4.1)\n",
      "ipython-genutils (0.2.0)\n",
      "ipywidgets (7.0.0)\n",
      "isort (4.2.15)\n",
      "itsdangerous (0.24)\n",
      "jdcal (1.3)\n",
      "jedi (0.10.2)\n",
      "Jinja2 (2.9.6)\n",
      "jsonschema (2.6.0)\n",
      "jupyter-client (5.1.0)\n",
      "jupyter-console (5.2.0)\n",
      "jupyter-core (4.3.0)\n",
      "jupyterlab (0.27.0)\n",
      "jupyterlab-launcher (0.4.0)\n",
      "lazy-object-proxy (1.3.1)\n",
      "llvmlite (0.20.0)\n",
      "locket (0.2.0)\n",
      "lockfile (0.12.2)\n",
      "lxml (4.1.0)\n",
      "MarkupSafe (1.0)\n",
      "matplotlib (2.1.0)\n",
      "mccabe (0.6.1)\n",
      "menuinst (1.4.10)\n",
      "mistune (0.7.4)\n",
      "mpmath (0.19)\n",
      "msgpack-python (0.4.8)\n",
      "multipledispatch (0.4.9)\n",
      "navigator-updater (0.1.0)\n",
      "nbconvert (5.3.1)\n",
      "nbformat (4.4.0)\n",
      "networkx (2.0)\n",
      "nltk (3.2.4)\n",
      "nose (1.3.7)\n",
      "notebook (5.0.0)\n",
      "numba (0.35.0+10.g143f70e.dirty)\n",
      "numexpr (2.6.2)\n",
      "numpy (1.13.3)\n",
      "numpydoc (0.7.0)\n",
      "odo (0.5.1)\n",
      "olefile (0.44)\n",
      "openpyxl (2.4.8)\n",
      "packaging (16.8)\n",
      "pandas (0.20.3)\n",
      "pandocfilters (1.4.2)\n",
      "partd (0.3.8)\n",
      "path.py (10.3.1)\n",
      "pathlib2 (2.3.0)\n",
      "patsy (0.4.1)\n",
      "pep8 (1.7.0)\n",
      "pickleshare (0.7.4)\n",
      "Pillow (4.2.1)\n",
      "pip (9.0.1)\n",
      "pkginfo (1.4.1)\n",
      "ply (3.10)\n",
      "progress (1.3)\n",
      "prompt-toolkit (1.0.15)\n",
      "psutil (5.4.0)\n",
      "py (1.4.34)\n",
      "pycodestyle (2.3.1)\n",
      "pycosat (0.6.2)\n",
      "pycparser (2.18)\n",
      "pycrypto (2.6.1)\n",
      "pycurl (7.43.0)\n",
      "pyflakes (1.6.0)\n",
      "Pygments (2.2.0)\n",
      "pylint (1.7.4)\n",
      "pyodbc (4.0.17)\n",
      "pyOpenSSL (17.2.0)\n",
      "pyparsing (2.2.0)\n",
      "PySocks (1.6.7)\n",
      "pytest (3.2.1)\n",
      "python-dateutil (2.6.1)\n",
      "pytz (2017.2)\n",
      "PyWavelets (0.5.2)\n",
      "pywin32 (221)\n",
      "PyYAML (3.12)\n",
      "pyzmq (16.0.2)\n",
      "QtAwesome (0.4.4)\n",
      "qtconsole (4.3.1)\n",
      "QtPy (1.3.1)\n",
      "requests (2.18.4)\n",
      "rope (0.10.5)\n",
      "ruamel-yaml (0.11.14)\n",
      "scandir (1.6)\n",
      "scikit-image (0.13.0)\n",
      "scikit-learn (0.19.1)\n",
      "scipy (0.19.1)\n",
      "seaborn (0.8)\n",
      "setuptools (36.5.0.post20170921)\n",
      "simplegeneric (0.8.1)\n",
      "singledispatch (3.4.0.3)\n",
      "six (1.11.0)\n",
      "snowballstemmer (1.2.1)\n",
      "sortedcollections (0.5.3)\n",
      "sortedcontainers (1.5.7)\n",
      "Sphinx (1.6.3)\n",
      "sphinxcontrib-websupport (1.0.1)\n",
      "spyder (3.2.4)\n",
      "SQLAlchemy (1.1.13)\n",
      "statsmodels (0.8.0)\n",
      "subprocess32 (3.2.7)\n",
      "sympy (1.1.1)\n",
      "tables (3.4.2)\n",
      "tblib (1.3.2)\n",
      "testpath (0.3.1)\n",
      "toolz (0.8.2)\n",
      "tornado (4.5.2)\n",
      "traitlets (4.3.2)\n",
      "typing (3.6.2)\n",
      "unicodecsv (0.14.1)\n",
      "urllib3 (1.22)\n",
      "wcwidth (0.1.7)\n",
      "webencodings (0.5.1)\n",
      "Werkzeug (0.12.2)\n",
      "wheel (0.29.0)\n",
      "widgetsnbextension (3.0.2)\n",
      "win-inet-pton (1.0.1)\n",
      "win-unicode-console (0.5)\n",
      "wincertstore (0.2)\n",
      "wrapt (1.10.11)\n",
      "xlrd (1.1.0)\n",
      "XlsxWriter (1.0.2)\n",
      "xlwings (0.11.4)\n",
      "xlwt (1.3.0)\n",
      "zict (0.1.3)\n"
     ]
    },
    {
     "name": "stderr",
     "output_type": "stream",
     "text": [
      "DEPRECATION: The default format will switch to columns in the future. You can use --format=(legacy|columns) (or define a format=(legacy|columns) in your pip.conf under the [list] section) to disable this warning.\n"
     ]
    }
   ],
   "source": [
    "!pip list"
   ]
  },
  {
   "cell_type": "code",
   "execution_count": 10,
   "metadata": {},
   "outputs": [
    {
     "data": {
      "application/json": {
       "cell": {
        "!": "OSMagics",
        "HTML": "Other",
        "SVG": "Other",
        "bash": "Other",
        "capture": "ExecutionMagics",
        "cmd": "Other",
        "debug": "ExecutionMagics",
        "file": "Other",
        "html": "DisplayMagics",
        "javascript": "DisplayMagics",
        "js": "DisplayMagics",
        "latex": "DisplayMagics",
        "perl": "Other",
        "prun": "ExecutionMagics",
        "pypy": "Other",
        "python": "Other",
        "python2": "Other",
        "python3": "Other",
        "ruby": "Other",
        "script": "ScriptMagics",
        "sh": "Other",
        "svg": "DisplayMagics",
        "sx": "OSMagics",
        "system": "OSMagics",
        "time": "ExecutionMagics",
        "timeit": "ExecutionMagics",
        "writefile": "OSMagics"
       },
       "line": {
        "alias": "OSMagics",
        "alias_magic": "BasicMagics",
        "autocall": "AutoMagics",
        "automagic": "AutoMagics",
        "autosave": "KernelMagics",
        "bookmark": "OSMagics",
        "cd": "OSMagics",
        "clear": "KernelMagics",
        "cls": "KernelMagics",
        "colors": "BasicMagics",
        "config": "ConfigMagics",
        "connect_info": "KernelMagics",
        "copy": "Other",
        "ddir": "Other",
        "debug": "ExecutionMagics",
        "dhist": "OSMagics",
        "dirs": "OSMagics",
        "doctest_mode": "BasicMagics",
        "echo": "Other",
        "ed": "Other",
        "edit": "KernelMagics",
        "env": "OSMagics",
        "gui": "BasicMagics",
        "hist": "Other",
        "history": "HistoryMagics",
        "killbgscripts": "ScriptMagics",
        "ldir": "Other",
        "less": "KernelMagics",
        "load": "CodeMagics",
        "load_ext": "ExtensionMagics",
        "loadpy": "CodeMagics",
        "logoff": "LoggingMagics",
        "logon": "LoggingMagics",
        "logstart": "LoggingMagics",
        "logstate": "LoggingMagics",
        "logstop": "LoggingMagics",
        "ls": "Other",
        "lsmagic": "BasicMagics",
        "macro": "ExecutionMagics",
        "magic": "BasicMagics",
        "matplotlib": "PylabMagics",
        "mkdir": "Other",
        "more": "KernelMagics",
        "notebook": "BasicMagics",
        "page": "BasicMagics",
        "pastebin": "CodeMagics",
        "pdb": "ExecutionMagics",
        "pdef": "NamespaceMagics",
        "pdoc": "NamespaceMagics",
        "pfile": "NamespaceMagics",
        "pinfo": "NamespaceMagics",
        "pinfo2": "NamespaceMagics",
        "popd": "OSMagics",
        "pprint": "BasicMagics",
        "precision": "BasicMagics",
        "profile": "BasicMagics",
        "prun": "ExecutionMagics",
        "psearch": "NamespaceMagics",
        "psource": "NamespaceMagics",
        "pushd": "OSMagics",
        "pwd": "OSMagics",
        "pycat": "OSMagics",
        "pylab": "PylabMagics",
        "qtconsole": "KernelMagics",
        "quickref": "BasicMagics",
        "recall": "HistoryMagics",
        "rehashx": "OSMagics",
        "reload_ext": "ExtensionMagics",
        "ren": "Other",
        "rep": "Other",
        "rerun": "HistoryMagics",
        "reset": "NamespaceMagics",
        "reset_selective": "NamespaceMagics",
        "rmdir": "Other",
        "run": "ExecutionMagics",
        "save": "CodeMagics",
        "sc": "OSMagics",
        "set_env": "OSMagics",
        "store": "StoreMagics",
        "sx": "OSMagics",
        "system": "OSMagics",
        "tb": "ExecutionMagics",
        "time": "ExecutionMagics",
        "timeit": "ExecutionMagics",
        "unalias": "OSMagics",
        "unload_ext": "ExtensionMagics",
        "who": "NamespaceMagics",
        "who_ls": "NamespaceMagics",
        "whos": "NamespaceMagics",
        "xdel": "NamespaceMagics",
        "xmode": "BasicMagics"
       }
      },
      "text/plain": [
       "Available line magics:\n",
       "%alias  %alias_magic  %autocall  %automagic  %autosave  %bookmark  %cd  %clear  %cls  %colors  %config  %connect_info  %copy  %ddir  %debug  %dhist  %dirs  %doctest_mode  %echo  %ed  %edit  %env  %gui  %hist  %history  %killbgscripts  %ldir  %less  %load  %load_ext  %loadpy  %logoff  %logon  %logstart  %logstate  %logstop  %ls  %lsmagic  %macro  %magic  %matplotlib  %mkdir  %more  %notebook  %page  %pastebin  %pdb  %pdef  %pdoc  %pfile  %pinfo  %pinfo2  %popd  %pprint  %precision  %profile  %prun  %psearch  %psource  %pushd  %pwd  %pycat  %pylab  %qtconsole  %quickref  %recall  %rehashx  %reload_ext  %ren  %rep  %rerun  %reset  %reset_selective  %rmdir  %run  %save  %sc  %set_env  %store  %sx  %system  %tb  %time  %timeit  %unalias  %unload_ext  %who  %who_ls  %whos  %xdel  %xmode\n",
       "\n",
       "Available cell magics:\n",
       "%%!  %%HTML  %%SVG  %%bash  %%capture  %%cmd  %%debug  %%file  %%html  %%javascript  %%js  %%latex  %%perl  %%prun  %%pypy  %%python  %%python2  %%python3  %%ruby  %%script  %%sh  %%svg  %%sx  %%system  %%time  %%timeit  %%writefile\n",
       "\n",
       "Automagic is ON, % prefix IS NOT needed for line magics."
      ]
     },
     "execution_count": 10,
     "metadata": {},
     "output_type": "execute_result"
    }
   ],
   "source": [
    "%lsmagic"
   ]
  },
  {
   "cell_type": "code",
   "execution_count": 11,
   "metadata": {},
   "outputs": [
    {
     "data": {
      "text/plain": [
       "u'C:\\\\Users\\\\gonzalo\\\\Projects\\\\code\\\\Jupyter'"
      ]
     },
     "execution_count": 11,
     "metadata": {},
     "output_type": "execute_result"
    }
   ],
   "source": [
    "pwd"
   ]
  },
  {
   "cell_type": "code",
   "execution_count": 12,
   "metadata": {},
   "outputs": [
    {
     "name": "stdout",
     "output_type": "stream",
     "text": [
      " Volume in drive C has no label.\n",
      " Volume Serial Number is 18B3-2ACD\n",
      "\n",
      " Directory of C:\\Users\\gonzalo\\Projects\\code\\Jupyter\n",
      "\n",
      "01/14/2018  11:40 PM    <DIR>          .\n",
      "01/14/2018  11:40 PM    <DIR>          ..\n",
      "01/14/2018  11:15 PM    <DIR>          .ipynb_checkpoints\n",
      "01/14/2018  11:40 PM             7,391 Testing Jupyter.ipynb\n",
      "               1 File(s)          7,391 bytes\n",
      "               3 Dir(s)  339,799,023,616 bytes free\n"
     ]
    }
   ],
   "source": [
    "ls"
   ]
  },
  {
   "cell_type": "code",
   "execution_count": 13,
   "metadata": {
    "collapsed": true
   },
   "outputs": [],
   "source": [
    "matplotlib inline"
   ]
  },
  {
   "cell_type": "code",
   "execution_count": 14,
   "metadata": {
    "scrolled": true
   },
   "outputs": [
    {
     "data": {
      "text/html": [
       "<iframe width=\"560\" height=\"315\" src=\"https://www.youtube.com/embed/k7WXVWej-NY\" frameborder=\"0\" allow=\"autoplay; encrypted-media\" allowfullscreen></iframe>"
      ],
      "text/plain": [
       "<IPython.core.display.HTML object>"
      ]
     },
     "metadata": {},
     "output_type": "display_data"
    }
   ],
   "source": [
    "%%HTML\n",
    "<iframe width=\"560\" height=\"315\" src=\"https://www.youtube.com/embed/k7WXVWej-NY\" frameborder=\"0\" allow=\"autoplay; encrypted-media\" allowfullscreen></iframe>"
   ]
  },
  {
   "cell_type": "code",
   "execution_count": 18,
   "metadata": {},
   "outputs": [
    {
     "name": "stdout",
     "output_type": "stream",
     "text": [
      "1000 loops, best of 3: 733 µs per loop\n"
     ]
    }
   ],
   "source": [
    "%%timeit\n",
    "sq_time = [n*n for n in range(10000)]"
   ]
  },
  {
   "cell_type": "code",
   "execution_count": 19,
   "metadata": {},
   "outputs": [
    {
     "name": "stdout",
     "output_type": "stream",
     "text": [
      "1000 loops, best of 3: 735 µs per loop\n"
     ]
    }
   ],
   "source": [
    "%%timeit\n",
    "sq_time = [n*n for n in xrange(10000)]"
   ]
  },
  {
   "cell_type": "code",
   "execution_count": null,
   "metadata": {
    "collapsed": true
   },
   "outputs": [],
   "source": []
  },
  {
   "cell_type": "code",
   "execution_count": 20,
   "metadata": {},
   "outputs": [
    {
     "name": "stdout",
     "output_type": "stream",
     "text": [
      "1000 loops, best of 3: 1.35 ms per loop\n"
     ]
    }
   ],
   "source": [
    "%%timeit\n",
    "sq = []\n",
    "for n in range(10000):\n",
    "    sq.append(n*n)"
   ]
  },
  {
   "cell_type": "code",
   "execution_count": null,
   "metadata": {
    "collapsed": true
   },
   "outputs": [],
   "source": []
  }
 ],
 "metadata": {
  "kernelspec": {
   "display_name": "Python 3",
   "language": "python",
   "name": "python3"
  },
  "language_info": {
   "codemirror_mode": {
    "name": "ipython",
    "version": 3
   },
   "file_extension": ".py",
   "mimetype": "text/x-python",
   "name": "python",
   "nbconvert_exporter": "python",
   "pygments_lexer": "ipython3",
   "version": "3.6.3"
  }
 },
 "nbformat": 4,
 "nbformat_minor": 2
}
