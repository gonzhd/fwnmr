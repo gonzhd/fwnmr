{
 "cells": [
  {
   "cell_type": "markdown",
   "metadata": {},
   "source": [
    "<div>\n",
    "<a href=\"https://github.com/gonzhd/fwnmr.git\"><img src=\"assets/fwnmr_header.png\"></a>\n",
    "</div>"
   ]
  },
  {
   "cell_type": "markdown",
   "metadata": {},
   "source": [
    "# Welcome to **Python Programming for NMR**"
   ]
  },
  {
   "cell_type": "markdown",
   "metadata": {},
   "source": [
    "## Course Instructor\n",
    "[Gonzalo Hernández](http:/github.com/gonzhd)"
   ]
  },
  {
   "cell_type": "markdown",
   "metadata": {},
   "source": [
    "## Course Description\n",
    "In this course you will get an introduction to the Python Scientific Stack through\n",
    "the development of processing of NMR data and interactive visualization capabilities \n",
    "in a notebook environment called Jupyter Lab.\n",
    "\n",
    "### We will touch the following topics:\n",
    "\n",
    "* Introduction to JupyterLab and the Python scientific stack\n",
    "  * numpy, pandas, scipy, scikit-learn, plotting libraries\n",
    "* Developing a processing and plotting NMR application in JupyterLab\n",
    "    * Taking data out of Topspin\n",
    "    * Loading NMR data\n",
    "    * Basic NMR data processing \n",
    "      * apodization\n",
    "      * FFT\n",
    "      * phase and baseline correction\n",
    "      * normalisation and binning\n",
    "    * Developing basic plotting capabilities\n",
    "* Introduction to the use of machine learning algorithms for classification and regression \n",
    "  using spectroscopic data\n",
    "* Data manipulation in pandas\n",
    "* Machine learning model optimisation and validation\n",
    "* Train/test data set split\n",
    "* Hyper parameter optimisation\n",
    "* Cross-validation methods\n",
    "* Example of regression and/or classification analysis"
   ]
  },
  {
   "cell_type": "markdown",
   "metadata": {},
   "source": [
    "## Course Content\n",
    "Head over to the [Course Introduction](content/00_introduction.ipynb) notebook and jump to any of the specific topic sections from there."
   ]
  },
  {
   "cell_type": "code",
   "execution_count": null,
   "metadata": {},
   "outputs": [],
   "source": []
  }
 ],
 "metadata": {
  "kernelspec": {
   "display_name": "Python 3",
   "language": "python",
   "name": "python3"
  },
  "language_info": {
   "codemirror_mode": {
    "name": "ipython",
    "version": 3
   },
   "file_extension": ".py",
   "mimetype": "text/x-python",
   "name": "python",
   "nbconvert_exporter": "python",
   "pygments_lexer": "ipython3",
   "version": "3.7.2"
  }
 },
 "nbformat": 4,
 "nbformat_minor": 5
}
